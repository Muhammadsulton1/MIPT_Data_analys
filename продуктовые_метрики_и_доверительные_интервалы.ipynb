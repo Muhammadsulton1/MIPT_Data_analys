{
  "nbformat": 4,
  "nbformat_minor": 0,
  "metadata": {
    "colab": {
      "provenance": [],
      "authorship_tag": "ABX9TyNKM4cGqpEldXDYtthw8FdD",
      "include_colab_link": true
    },
    "kernelspec": {
      "name": "python3",
      "display_name": "Python 3"
    },
    "language_info": {
      "name": "python"
    }
  },
  "cells": [
    {
      "cell_type": "markdown",
      "metadata": {
        "id": "view-in-github",
        "colab_type": "text"
      },
      "source": [
        "<a href=\"https://colab.research.google.com/github/Muhammadsulton1/MIPT_Data_analys/blob/main/%D0%BF%D1%80%D0%BE%D0%B4%D1%83%D0%BA%D1%82%D0%BE%D0%B2%D1%8B%D0%B5_%D0%BC%D0%B5%D1%82%D1%80%D0%B8%D0%BA%D0%B8_%D0%B8_%D0%B4%D0%BE%D0%B2%D0%B5%D1%80%D0%B8%D1%82%D0%B5%D0%BB%D1%8C%D0%BD%D1%8B%D0%B5_%D0%B8%D0%BD%D1%82%D0%B5%D1%80%D0%B2%D0%B0%D0%BB%D1%8B.ipynb\" target=\"_parent\"><img src=\"https://colab.research.google.com/assets/colab-badge.svg\" alt=\"Open In Colab\"/></a>"
      ]
    },
    {
      "cell_type": "code",
      "metadata": {
        "id": "336EyC4Yo3wB"
      },
      "source": [
        "import numpy as np\n",
        "import pandas as pd\n",
        "\n",
        "from scipy import stats\n",
        "\n",
        "import seaborn as sns\n",
        "import matplotlib.pyplot as plt\n",
        "\n",
        "plt.style.use('ggplot')  # стиль для графиков\n",
        "%matplotlib inline"
      ],
      "execution_count": null,
      "outputs": []
    },
    {
      "cell_type": "markdown",
      "metadata": {
        "id": "-c42Mpd2pD0p"
      },
      "source": [
        "Чтобы держать руку на пульсе бизнеса, нужно строить довольно много продуктовых метрик. Более того, нужно понимать насколько адекватно эти метрики построены и насколько сильно они могут колебаться. Мы в этой тетрадке рассмотрим два таких показателя: возвращаемость (retention) и среднюю выручку (revenue per user, RPU)"
      ]
    },
    {
      "cell_type": "code",
      "metadata": {
        "id": "8Wz8Wkfro-dh"
      },
      "source": [
        "visits = pd.read_csv('marketing_log.csv', sep='\\t')\n",
        "\n",
        "# изменим тип колонки с датой на время\n",
        "visits['date'] = pd.to_datetime(visits[\"date\"], format=\"%Y-%m-%d\")\n",
        "\n",
        "# отсортируем данные по дате\n",
        "visits.sort_values('date', inplace=True)\n",
        "\n",
        "# сбросим индексирование таблики\n",
        "visits.reset_index(drop=True, inplace=True)\n",
        "\n",
        "print(visits.shape)\n",
        "visits.head()"
      ],
      "execution_count": null,
      "outputs": []
    },
    {
      "cell_type": "markdown",
      "metadata": {
        "id": "Ir6USP0XpHgy"
      },
      "source": [
        "1. Число пользователей\n",
        "Сколько людей пользуются в день, неделю, месяц?"
      ]
    },
    {
      "cell_type": "code",
      "metadata": {
        "id": "E8vxlu4co-gC"
      },
      "source": [
        "day = visits.groupby('date').agg({'fullVisitorId': 'nunique'})\n",
        "day.head()"
      ],
      "execution_count": null,
      "outputs": []
    },
    {
      "cell_type": "code",
      "metadata": {
        "id": "-3EHUvfAo-ii"
      },
      "source": [
        "print(f\"Среднее число посетителей в день: {day.fullVisitorId.mean()}\")\n",
        "day.sort_index().plot(figsize=(12,6));"
      ],
      "execution_count": null,
      "outputs": []
    },
    {
      "cell_type": "markdown",
      "metadata": {
        "id": "8U_VyOr1pNFa"
      },
      "source": [
        "2. Возвращаемость (retention)\n",
        "Первый показатель, который обычно интересует бизнес это возвращаемость (retention):\n",
        "\n",
        "retention_1 - вернулся ли игрок после первого дня с момента посещения магазина?\n",
        "retention_7 - вернулся ли игрок после седьмого дня с момента посещения магазина?\n",
        "Заведём новую колонку: дата первого появления юзера."
      ]
    },
    {
      "cell_type": "code",
      "metadata": {
        "id": "h6tFlmizo-lZ"
      },
      "source": [
        "first_visit = visits.groupby('fullVisitorId').agg({'date':'min'})\n",
        "first_visit.columns = ['firstVisit']\n",
        "\n",
        "visits = visits.join(first_visit, on='fullVisitorId')\n",
        "visits.head()"
      ],
      "execution_count": null,
      "outputs": []
    },
    {
      "cell_type": "code",
      "metadata": {
        "id": "YrTT2_xwo-oI"
      },
      "source": [
        "visits['daysFromFirstVisit'] = (visits.date - visits.firstVisit).apply(lambda w: w.days)"
      ],
      "execution_count": null,
      "outputs": []
    },
    {
      "cell_type": "code",
      "metadata": {
        "id": "HGKb8Lpgo-q5"
      },
      "source": [
        "visits['daysFromFirstVisit'].hist(bins=50);"
      ],
      "execution_count": null,
      "outputs": []
    },
    {
      "cell_type": "markdown",
      "metadata": {
        "id": "vLygeTd5pVkh"
      },
      "source": [
        "Видно, что чаще всего первое посещение оказывается последним"
      ]
    },
    {
      "cell_type": "code",
      "metadata": {
        "id": "jSRoAVj6pW-K"
      },
      "source": [
        "visits[visits['daysFromFirstVisit'] > 20]['daysFromFirstVisit'].hist(bins=50);"
      ],
      "execution_count": null,
      "outputs": []
    },
    {
      "cell_type": "markdown",
      "metadata": {
        "id": "Kh-3zd_Zpa9K"
      },
      "source": [
        "Найдём для каждого человека разность в днях между первым и последним посещениями:"
      ]
    },
    {
      "cell_type": "code",
      "metadata": {
        "id": "SSdAgE2rpXAh"
      },
      "source": [
        "firsVisits = visits.groupby(['firstVisit', 'fullVisitorId']).agg({'daysFromFirstVisit': 'max'}).reset_index()\n",
        "firsVisits.head()"
      ],
      "execution_count": null,
      "outputs": []
    },
    {
      "cell_type": "code",
      "metadata": {
        "id": "Q2SIH6ztpXDA"
      },
      "source": [
        "visits.shape"
      ],
      "execution_count": null,
      "outputs": []
    },
    {
      "cell_type": "code",
      "metadata": {
        "id": "0AVUAhyFpXFo"
      },
      "source": [
        "firsVisits.shape"
      ],
      "execution_count": null,
      "outputs": []
    },
    {
      "cell_type": "markdown",
      "metadata": {
        "id": "i0-sHXqopg75"
      },
      "source": [
        "Как посчитать retention_7? Если daysFromFirstVisit оказывается больше  7 , значит человек вернулся более, чем через  7  дней после первого посещения. Такие люди нас и интересуют. Найдём их количество."
      ]
    },
    {
      "cell_type": "code",
      "metadata": {
        "id": "oNiWLYJvpXIa"
      },
      "source": [
        "retention = (\n",
        "    firsVisits.groupby('firstVisit')['daysFromFirstVisit']\n",
        "    .agg([ # больше 1 => вернулся хотябы через день\n",
        "        (\"success\", lambda w: sum(w >= 7)),\n",
        "        (\"total\", \"count\") # сколько всего людей зашли в эту дату\n",
        "    ])\n",
        ")\n",
        "\n",
        "retention.head()"
      ],
      "execution_count": null,
      "outputs": []
    },
    {
      "cell_type": "markdown",
      "metadata": {
        "id": "_-HY830tpng6"
      },
      "source": [
        "Построим график."
      ]
    },
    {
      "cell_type": "code",
      "metadata": {
        "id": "KTdLAZoWpXLL"
      },
      "source": [
        "retention['retention'] = retention['success']/retention['total']\n",
        "retention['retention'][30:120].plot(figsize=(14,6));"
      ],
      "execution_count": null,
      "outputs": []
    },
    {
      "cell_type": "markdown",
      "metadata": {
        "id": "ZKW2TFNxprly"
      },
      "source": [
        "Есть много точечных оценок доли людей, которая возвращается для каждой даты. Но этого мало, каждая точка строится по разному числу наблюдений и нам хотелось бы понимать насколько оценка точная. Возвращаемость - это доля. Значит можно построить для неё доверителльный интервал с помощью ЦПТ:\n",
        "\n",
        "$$\n",
        "\\hat p \\pm z_{1 - \\frac{\\alpha}{2}} \\cdot \\sqrt{\\frac{\\hat p \\cdot (1 - \\hat p)}{n}}\n",
        "$$"
      ]
    },
    {
      "cell_type": "code",
      "metadata": {
        "id": "bsr2Yy79pXNq"
      },
      "source": [
        "retention.head()"
      ],
      "execution_count": null,
      "outputs": []
    },
    {
      "cell_type": "code",
      "metadata": {
        "id": "CUT4Ms7Lpsqi"
      },
      "source": [
        "alpha = 0.05\n",
        "\n",
        "# стандартная ошибка\n",
        "retention['se'] = np.sqrt(retention['retention'] * (1 - retention['retention']) / retention['total'])\n",
        "\n",
        "# границы интервалов\n",
        "q = stats.norm.ppf(1 - alpha/2)\n",
        "retention['left'] = retention['retention'] - q * retention['se']\n",
        "retention['right'] = retention['retention'] + q * retention['se']\n",
        "\n",
        "retention.head()"
      ],
      "execution_count": null,
      "outputs": []
    },
    {
      "cell_type": "code",
      "metadata": {
        "id": "lhkEZuxQpstZ"
      },
      "source": [
        "df = retention[30:120]\n",
        "\n",
        "df['retention'].plot(figsize=(14,6))\n",
        "plt.fill_between(df.index, df['left'], df['right'], facecolor='blue', alpha=0.2, interpolate=True)\n",
        "plt.show()"
      ],
      "execution_count": null,
      "outputs": []
    },
    {
      "cell_type": "markdown",
      "metadata": {
        "id": "ijg4qj7Hp0lr"
      },
      "source": [
        "# 3. Средний доход с пользователя (RPU)\n",
        "\n",
        "Посмотрим как часто люди покупают."
      ]
    },
    {
      "cell_type": "code",
      "metadata": {
        "id": "voauxxuSpswi"
      },
      "source": [
        "# Процент покупок\n",
        "100*(1 - visits['transactionRevenue'].isnull().sum()/visits.shape[0])"
      ],
      "execution_count": null,
      "outputs": []
    },
    {
      "cell_type": "markdown",
      "metadata": {
        "id": "rp5bnnO_p6VJ"
      },
      "source": [
        "Всего лишь в $1\\%$ случаев. Это очень редко, но с этой правдой жизни ничего не поделаешь. Оставим только тех, кто правда что-то покупал."
      ]
    },
    {
      "cell_type": "code",
      "metadata": {
        "id": "QrQdtJuupszK"
      },
      "source": [
        "# будем строить RPU на месячной основе\n",
        "visits['month'] = visits['date'].apply(lambda w: w.strftime('%Y-%m'))\n",
        "\n",
        "purchases = visits.dropna(subset=['transactionRevenue'])\n",
        "purchases.shape"
      ],
      "execution_count": null,
      "outputs": []
    },
    {
      "cell_type": "markdown",
      "metadata": {
        "id": "9xxH7iK1p_VT"
      },
      "source": [
        "Посмотрим на распределение стоимостей покупок."
      ]
    },
    {
      "cell_type": "code",
      "metadata": {
        "id": "Hq6zFeyep7CD"
      },
      "source": [
        "purchases['transactionRevenue'].hist(bins=50);"
      ],
      "execution_count": null,
      "outputs": []
    },
    {
      "cell_type": "markdown",
      "metadata": {
        "id": "QckC7W3ZqC6E"
      },
      "source": [
        "Видим, что есть выбросы. Удалим их из выборки. Для того, что применять ЦПТ, мы предполагаем, что ни одна случайная величина из выборки не выделяется на фоне остальных"
      ]
    },
    {
      "cell_type": "code",
      "metadata": {
        "id": "70IXIpHep7Ex"
      },
      "source": [
        "q99 = purchases['transactionRevenue'].quantile(0.99)\n",
        "q99"
      ],
      "execution_count": null,
      "outputs": []
    },
    {
      "cell_type": "code",
      "metadata": {
        "id": "WqpmLK0ip7Hm"
      },
      "source": [
        "purchases = purchases[purchases['transactionRevenue'] < q99]\n",
        "purchases['transactionRevenue'].hist(bins=50);"
      ],
      "execution_count": null,
      "outputs": []
    },
    {
      "cell_type": "markdown",
      "metadata": {
        "id": "yw-NmtB7qH9-"
      },
      "source": [
        "Посчитаем среднее, стандартное отклонение и число наблюдений для каждого месяца."
      ]
    },
    {
      "cell_type": "code",
      "metadata": {
        "id": "nsLirZ1jp7Kc"
      },
      "source": [
        "datePurchases = (\n",
        "    visits.groupby(['month'])['transactionRevenue']\n",
        "    .agg([('rpu', 'mean'),\n",
        "          ('count', 'count'),\n",
        "          ('se', 'std')])\n",
        "    .reset_index()\n",
        ")"
      ],
      "execution_count": null,
      "outputs": []
    },
    {
      "cell_type": "code",
      "metadata": {
        "id": "SwG-NtM6p7Nn"
      },
      "source": [
        "datePurchases.head()"
      ],
      "execution_count": null,
      "outputs": []
    },
    {
      "cell_type": "markdown",
      "metadata": {
        "id": "ObQZ0i_TqO1q"
      },
      "source": [
        "Наконец, воспользуемся формулой для строительства доверительного интервала для среднего:\n",
        "\n",
        "$$\n",
        "\\hat \\mu \\pm z_{1 - \\frac{\\alpha}{2}} \\cdot \\sqrt{\\frac{\\hat{\\sigma}^2}{n}}\n",
        "$$"
      ]
    },
    {
      "cell_type": "code",
      "metadata": {
        "id": "FZDxeGx2p7Py"
      },
      "source": [
        "alpha = 0.05\n",
        "\n",
        "# границы интервалов\n",
        "q = stats.norm.ppf(1 - alpha/2)\n",
        "datePurchases['left'] = datePurchases['rpu'] - q * datePurchases['se']/np.sqrt(datePurchases['count'])\n",
        "datePurchases['right'] = datePurchases['rpu'] + q * datePurchases['se']/np.sqrt(datePurchases['count'])\n",
        "\n",
        "datePurchases.tail()"
      ],
      "execution_count": null,
      "outputs": []
    },
    {
      "cell_type": "markdown",
      "metadata": {
        "id": "kYz5b9_FqT4r"
      },
      "source": [
        "Изобразим динамику RPU выручки на графике:"
      ]
    },
    {
      "cell_type": "code",
      "metadata": {
        "id": "yxkkulHhp7SR"
      },
      "source": [
        "datePurchases['rpu'].plot(figsize=(14,6))\n",
        "plt.fill_between(datePurchases['month'], datePurchases['left'], datePurchases['right'],\n",
        "                 facecolor='blue', alpha=0.2, interpolate=True)\n",
        "plt.show()"
      ],
      "execution_count": null,
      "outputs": []
    },
    {
      "cell_type": "code",
      "metadata": {
        "id": "3K4LYmUrqWTM"
      },
      "source": [],
      "execution_count": null,
      "outputs": []
    },
    {
      "cell_type": "code",
      "metadata": {
        "id": "zcPVo2btqWV1"
      },
      "source": [],
      "execution_count": null,
      "outputs": []
    },
    {
      "cell_type": "code",
      "metadata": {
        "id": "rVBApkXgp7U5"
      },
      "source": [],
      "execution_count": null,
      "outputs": []
    }
  ]
}