{
  "nbformat": 4,
  "nbformat_minor": 0,
  "metadata": {
    "colab": {
      "provenance": [],
      "authorship_tag": "ABX9TyP20KGXzmC8YK5WQkLDeBlG",
      "include_colab_link": true
    },
    "kernelspec": {
      "name": "python3",
      "display_name": "Python 3"
    },
    "language_info": {
      "name": "python"
    }
  },
  "cells": [
    {
      "cell_type": "markdown",
      "metadata": {
        "id": "view-in-github",
        "colab_type": "text"
      },
      "source": [
        "<a href=\"https://colab.research.google.com/github/Muhammadsulton1/MIPT_Data_analys/blob/main/%D1%80%D0%B0%D0%B1%D0%BE%D1%82%D0%B0_%D1%81_%D0%BB%D0%BE%D0%B3%D0%B0%D0%BC%D0%B8.ipynb\" target=\"_parent\"><img src=\"https://colab.research.google.com/assets/colab-badge.svg\" alt=\"Open In Colab\"/></a>"
      ]
    },
    {
      "cell_type": "markdown",
      "metadata": {
        "id": "RTaQTX7UfcBi"
      },
      "source": [
        "\n",
        "##Работа с логами\n",
        "Логи - это файлы с записью различных событий в хронологическом порядке. Обычно, все действия пользователя в различных сервисах подробно логируются. Именно по логам в дальнейшем аналитики считают различные метрики и строят модели.\n",
        "\n",
        "В этой тетрадке мы проанализируем логи покупок онлайн-магазина, продающего атрибутику компании Google.\n",
        "данные:https://www.kaggle.com/c/ga-customer-revenue-prediction/data?select=train.csv\n",
        "\n",
        "Цели:\n",
        "\n",
        "Построить несколько пользовательских метрик: посещаемость, средняя выручка, возвращаемость\n",
        "Проанализровать как ведут себя пользовательские метрики в разбивке по разным источникам (браузеры, устройства и тп)\n",
        "Сделать исходя из этого анализа несколько мудрых маркетинговых выводов\n",
        "\n",
        "\n"
      ]
    },
    {
      "cell_type": "code",
      "metadata": {
        "id": "8mGe75LMffCZ"
      },
      "source": [
        "import numpy as np         # библиотека для матриц и математики\n",
        "import pandas as pd        # библиотека для работы с табличками\n",
        "from scipy import stats    # модуль для работы со статистикой\n",
        "\n",
        "import matplotlib.pyplot as plt\n",
        "import seaborn as sns\n",
        "\n",
        "# стиль графиков\n",
        "# plt.style.use('ggplot')\n",
        "plt.style.use('fivethirtyeight')\n",
        "%matplotlib inline"
      ],
      "execution_count": null,
      "outputs": []
    },
    {
      "cell_type": "markdown",
      "metadata": {
        "id": "NxNq8zqYfx-2"
      },
      "source": [
        "\n",
        "1. Данные\n",
        "Познакомимся с логом, с которым мы будем работать. Приведём его в удобный для строительства метрик вид."
      ]
    },
    {
      "cell_type": "code",
      "metadata": {
        "id": "dSCMe3kifzcV"
      },
      "source": [
        "df = pd.read_csv('google_log.csv', sep='\\t')\n",
        "\n",
        "df['totals.transactionRevenue'] = df['totals.transactionRevenue']/10**6\n",
        "\n",
        "print(df.shape)\n",
        "df.head()"
      ],
      "execution_count": null,
      "outputs": []
    },
    {
      "cell_type": "markdown",
      "metadata": {
        "id": "tpsDvly7f3HB"
      },
      "source": [
        "Описание колонок:\n",
        "\n",
        "date дата посещения сайта (рассматривается период с 20160801 по 20170801\n",
        "\n",
        "fullVisitorId уникальный id пользователя\n",
        "\n",
        "sessionId уникальный id одной пользовательской сессии\n",
        "\n",
        "channelGrouping откуда произошёл переход\n",
        "\n",
        "visitStartTime timestamp начала визита\n",
        "\n",
        "device.browser браузер визита\n",
        "\n",
        "device.operatingSystem операционная система устройства\n",
        "\n",
        "device.isMobile является ли устройство мобильным\n",
        "\n",
        "device.deviceCategory тип устройства (айпад, компьютер, мобильный телефон)\n",
        "\n",
        "geoNetwork.subContinent часть света пользователя\n",
        "\n",
        "geoNetwork.country страна пользователя\n",
        "\n",
        "geoNetwork.region регион пользователя\n",
        "\n",
        "geoNetwork.city город пользователя\n",
        "\n",
        "totals.hits похоже что это действия на сайте, но это неточно\n",
        "\n",
        "totals.pageviews просмотры страниц\n",
        "\n",
        "totals.transactionRevenue выручка с покупки\n",
        "\n",
        "trafficSource.source источник трафика\n",
        "\n",
        "trafficSource.medium более высокоуровневый источник трафика\n",
        "\n",
        "trafficSource.keyword ключевые слова из поиска\n",
        "\n",
        "trafficSource.adwordsClickInfo.adNetworkType несколько переменных с дополнительной информацией из adwords\n",
        "\n",
        "trafficSource.adwordsClickInfo.page\n",
        "\n",
        "trafficSource.adwordsClickInfo.slot\n",
        "\n",
        "trafficSource.adwordsClickInfo.isVideoAd\n",
        "\n",
        "trafficSource.adContent\n",
        "\n",
        "Посмотрим на процент пропусков."
      ]
    },
    {
      "cell_type": "code",
      "metadata": {
        "id": "R47vGth_fze0"
      },
      "source": [
        "100*df.isnull().sum()/df.shape[0]"
      ],
      "execution_count": null,
      "outputs": []
    },
    {
      "cell_type": "markdown",
      "metadata": {
        "id": "0fUsWiUAgDMX"
      },
      "source": [
        "\n",
        "Визуализируем пропуски в различных колонках. Сделаем случайную подвыборку в $5000$ строк и раскрасим пропуски в жёлтый."
      ]
    },
    {
      "cell_type": "code",
      "metadata": {
        "id": "R7hNrq49fzhE"
      },
      "source": [
        "\n",
        "fig, ax = plt.subplots(figsize=(15,8))\n",
        "\n",
        "sns_heatmap = sns.heatmap(df.sample(5000).isnull(),\n",
        "                          yticklabels=False,\n",
        "                          cbar=False,\n",
        "                          cmap='viridis')"
      ],
      "execution_count": null,
      "outputs": []
    },
    {
      "cell_type": "markdown",
      "metadata": {
        "id": "QSOM7ayAgGNx"
      },
      "source": [
        "Посмотрим на описательные статистики."
      ]
    },
    {
      "cell_type": "code",
      "metadata": {
        "id": "J8UKemnafzjo"
      },
      "source": [
        "df.describe()"
      ],
      "execution_count": null,
      "outputs": []
    },
    {
      "cell_type": "code",
      "metadata": {
        "id": "90uLQsRwfzl5"
      },
      "source": [
        "df.describe(include='object')"
      ],
      "execution_count": null,
      "outputs": []
    },
    {
      "cell_type": "markdown",
      "metadata": {
        "id": "PkYLqU-1gLV9"
      },
      "source": [
        "Заведём несколько переменных со временем."
      ]
    },
    {
      "cell_type": "code",
      "metadata": {
        "id": "9o_--ujUfzop"
      },
      "source": [
        "df[\"date\"].dtype"
      ],
      "execution_count": null,
      "outputs": []
    },
    {
      "cell_type": "code",
      "metadata": {
        "id": "b4qnA28OfzrK"
      },
      "source": [
        "df['date'][:10]"
      ],
      "execution_count": null,
      "outputs": []
    },
    {
      "cell_type": "code",
      "metadata": {
        "id": "p4iA0eCifzto"
      },
      "source": [
        "df[\"date\"] = pd.to_datetime(df[\"date\"], format=\"%Y%m%d\")\n",
        "df[\"date\"][:10]"
      ],
      "execution_count": null,
      "outputs": []
    },
    {
      "cell_type": "markdown",
      "metadata": {
        "id": "SLT7uu1zgQK4"
      },
      "source": [
        "Модуль dt включает в себя довольно много встроенных в pandas методов для работы со временем."
      ]
    },
    {
      "cell_type": "code",
      "metadata": {
        "id": "slv30QRufzwa"
      },
      "source": [
        "df['month'] = df['date'].apply(lambda w: w.strftime('%Y-%m'))\n",
        "df['month'][:10]"
      ],
      "execution_count": null,
      "outputs": []
    },
    {
      "cell_type": "code",
      "metadata": {
        "id": "ziJo9PvBfzy5"
      },
      "source": [
        "df[\"visitDay\"] = df['date'].dt.day\n",
        "df[\"visitDay\"][:10]"
      ],
      "execution_count": null,
      "outputs": []
    },
    {
      "cell_type": "code",
      "metadata": {
        "id": "5P0zz5imfz1Y"
      },
      "source": [
        "df[\"visitDay\"] = df['date'].dt.day             # день визита\n",
        "df[\"visitMonth\"] = df['date'].dt.month         # месяц визита\n",
        "\n",
        "df[\"visitWeekday\"] = df['date'].dt.weekday     # выходные\n",
        "df[\"visitWeeknum\"] = df['date'].dt.weekofyear  # порядковый номер недели в году\n",
        "\n",
        "# начало и конец месяца\n",
        "df[\"is_month_start\"] = df['date'].dt.is_month_start\n",
        "df[\"is_month_end\"] = df['date'].dt.is_month_end"
      ],
      "execution_count": null,
      "outputs": []
    },
    {
      "cell_type": "code",
      "metadata": {
        "id": "BuMmAvNgfz4b"
      },
      "source": [
        "df['visitStartTime'][:10]"
      ],
      "execution_count": null,
      "outputs": []
    },
    {
      "cell_type": "code",
      "metadata": {
        "id": "Q2a2EbUJfz64"
      },
      "source": [
        "from datetime import datetime\n",
        "datetime.fromtimestamp(1472812272).minute"
      ],
      "execution_count": null,
      "outputs": []
    },
    {
      "cell_type": "code",
      "metadata": {
        "id": "yq_isf7ifz9d"
      },
      "source": [
        "# час визита\n",
        "df['visitHour'] = (df['visitStartTime'].apply(\n",
        "    lambda x: datetime.fromtimestamp(x).hour))\n",
        "\n",
        "# время визита с точностью до секунды\n",
        "df['ts'] = df['visitStartTime'].apply(lambda x:\n",
        "                                      pd.datetime.fromtimestamp(x))"
      ],
      "execution_count": null,
      "outputs": []
    },
    {
      "cell_type": "markdown",
      "metadata": {
        "id": "5C6IJSUrgbyT"
      },
      "source": [
        "\n",
        "#2. Возвращаемость и посещаемость\n",
        "Проанализируем что происходит с посещаемостью сайта и возвращаемостью пользователей."
      ]
    },
    {
      "cell_type": "code",
      "metadata": {
        "id": "bNeQDRyYfz_4"
      },
      "source": [
        "df.head()"
      ],
      "execution_count": null,
      "outputs": []
    },
    {
      "cell_type": "markdown",
      "metadata": {
        "id": "sDKD0gadggeH"
      },
      "source": [
        "\n",
        "#2.1 Сколько людей пользуются магазином в день/месяц?¶\n",
        "Посчитаем уникальное число пользователей для каждого дня."
      ]
    },
    {
      "cell_type": "code",
      "metadata": {
        "id": "Rsk9vD7yf0CY"
      },
      "source": [
        "# для большей читаемости кода\n",
        "df_day = (\n",
        "    df.groupby('date')\n",
        "    .agg({'fullVisitorId': 'nunique'})\n",
        "    .sort_values('date')\n",
        ")\n",
        "\n",
        "df_day.head("
      ],
      "execution_count": null,
      "outputs": []
    },
    {
      "cell_type": "code",
      "metadata": {
        "id": "xJ9EWAhmf0E9"
      },
      "source": [
        "print(f\"Среднее число посетителей в день: {df_day.fullVisitorId.mean()}\")\n",
        "df_day.plot(figsize=(12,6));"
      ],
      "execution_count": null,
      "outputs": []
    },
    {
      "cell_type": "code",
      "metadata": {
        "id": "-cEGACdyf0Ha"
      },
      "source": [
        "df_month = (\n",
        "    df.groupby('month')\n",
        "    .agg({'fullVisitorId': 'nunique'})\n",
        "    .sort_values('month')\n",
        ")\n",
        "\n",
        "print(f\"Среднее число посетителей в месяц: {df_month.fullVisitorId.mean()}\")\n",
        "df_month.plot(figsize=(12,6));"
      ],
      "execution_count": null,
      "outputs": []
    },
    {
      "cell_type": "markdown",
      "metadata": {
        "id": "RLLnTmiQgpDd"
      },
      "source": [
        "\n",
        "Выводы: Основаня волна посещений магазина наблюдается осенью, летом идёт спад. На дневном графике чётко видна недельная сезонность. В выходные наблюдается спад пользовательской активности.\n",
        "\n",
        "#2.2 Сколько пользовательских сессий в день?\n",
        "Для этого нам необходимо сгруппировать по дням посещения и посчитать кол-во пользователей, но не уникальных."
      ]
    },
    {
      "cell_type": "code",
      "metadata": {
        "id": "hZL_EJdWf0J5"
      },
      "source": [
        "df_session = (\n",
        "    df.groupby('date')\n",
        "    .agg({'fullVisitorId': 'count'})\n",
        "    .sort_values('date')\n",
        ")\n",
        "\n",
        "print(f\"Среднее число сессий в день: {df_session.fullVisitorId.mean()}\")\n",
        "df_session.plot(figsize=(12,6));"
      ],
      "execution_count": null,
      "outputs": []
    },
    {
      "cell_type": "markdown",
      "metadata": {
        "id": "OSR96DsVgtvC"
      },
      "source": [
        "\n",
        "Видим, что график не сильно отличается от динамики уникальных пользователей. Это позволяет предположить, то что возвращаются люди очень редко. Проверим это.\n",
        "\n",
        "#2.3 Как часто люди возвращаются?¶\n",
        "Чтобы ответить на этот вопрос воспользуемся когортным анализом, за когорту будем брать посетителей зарегистровавшихся в одном месяце."
      ]
    },
    {
      "cell_type": "code",
      "metadata": {
        "id": "evtse-iWf0MZ"
      },
      "source": [
        "first_month_session = (\n",
        "    df.groupby('fullVisitorId')\n",
        "    .agg({\n",
        "        'month':'min',\n",
        "        'date': 'min',\n",
        "        'ts': 'min'\n",
        "    })\n",
        ")\n",
        "\n",
        "first_month_session.columns = ['first_invate_month', 'first_invate_day', 'first_invate_ts']\n",
        "first_month_session.head()"
      ],
      "execution_count": null,
      "outputs": []
    },
    {
      "cell_type": "code",
      "metadata": {
        "id": "VhiA2inwgxsa"
      },
      "source": [
        "df = df.join(first_month_session, on='fullVisitorId')\n",
        "\n",
        "kogort_month = df[['fullVisitorId', 'month', 'first_invate_month']]\n",
        "kogort_month.head()"
      ],
      "execution_count": null,
      "outputs": []
    },
    {
      "cell_type": "markdown",
      "metadata": {
        "id": "Ta9sF3b6gzBB"
      },
      "source": [
        "\n",
        "Выделили группы уникальных пользователей по месяцам, построим таблицу, которая покажет возврат пользователей на ресурс."
      ]
    },
    {
      "cell_type": "code",
      "metadata": {
        "id": "tEDQA4N4g0eK"
      },
      "source": [
        "retention = kogort_month.pivot_table(\n",
        "    index='first_invate_month',\n",
        "    columns='month',\n",
        "    values = 'fullVisitorId',\n",
        "    aggfunc='nunique'\n",
        ")\n",
        "\n",
        "retention"
      ],
      "execution_count": null,
      "outputs": []
    },
    {
      "cell_type": "code",
      "metadata": {
        "id": "r4S81CU-g0gq"
      },
      "source": [
        "plt.figure(figsize=(10, 8))\n",
        "\n",
        "sns.heatmap(\n",
        "    retention,\n",
        "    annot=True,\n",
        "    fmt='.0f',\n",
        "    linewidths=1,\n",
        "    linecolor='black',\n",
        "    cmap=\"YlGnBu\"\n",
        ");"
      ],
      "execution_count": null,
      "outputs": []
    },
    {
      "cell_type": "markdown",
      "metadata": {
        "id": "OTc4Txxpg9tt"
      },
      "source": [
        "Перейдём к процентам."
      ]
    },
    {
      "cell_type": "code",
      "metadata": {
        "id": "iBwWyZotg0jJ"
      },
      "source": [
        "first_date = retention.values.diagonal()\n",
        "\n",
        "for s,row in zip(first_date, retention):\n",
        "    retention.loc[row] = 100*(retention.loc[row]/s)\n",
        "\n",
        "plt.figure(figsize=(10, 8))\n",
        "sns.heatmap(\n",
        "    retention,\n",
        "    annot=True,\n",
        "    fmt='.2f',\n",
        "    linewidths=1,\n",
        "    linecolor='black',\n",
        "    cmap=\"YlGnBu\"\n",
        ");"
      ],
      "execution_count": null,
      "outputs": []
    },
    {
      "cell_type": "markdown",
      "metadata": {
        "id": "_igrpjI0hCN9"
      },
      "source": [
        "Возвраты пользователей крайне малы. Где-то 3% возвращается на второй месяц, а дальше возврат обваливатеся почти до нуля.\n",
        "\n",
        "Какая доля визитов относится к месяцу отличному от первого визита?"
      ]
    },
    {
      "cell_type": "code",
      "metadata": {
        "id": "goHuOhp_hEOa"
      },
      "source": [
        "(kogort_month.month != kogort_month.first_invate_month).mean()"
      ],
      "execution_count": null,
      "outputs": []
    },
    {
      "cell_type": "markdown",
      "metadata": {
        "id": "L0mA4qHOhIa6"
      },
      "source": [
        "А доля дней?"
      ]
    },
    {
      "cell_type": "code",
      "metadata": {
        "id": "_YBY-FGfg0lf"
      },
      "source": [
        "(df.date != df.first_invate_day).mean()"
      ],
      "execution_count": null,
      "outputs": []
    },
    {
      "cell_type": "markdown",
      "metadata": {
        "id": "VE3x4GdShLud"
      },
      "source": [
        "Видим, что повторные визиты бывают довольно редко.\n",
        "\n",
        "#3. Покупки\n",
        "Проанализируем покупки, которые делаются на сайте.\n",
        "\n",
        "#3.1 Когда люди покупают?"
      ]
    },
    {
      "cell_type": "code",
      "metadata": {
        "id": "xqnhv0ySg0n7"
      },
      "source": [
        "df['totals.transactionRevenue'].isnull().mean()"
      ],
      "execution_count": null,
      "outputs": []
    },
    {
      "cell_type": "code",
      "metadata": {
        "id": "Aaojh6FbhWIx"
      },
      "source": [
        "# Процент покупок\n",
        "100*(1 - df['totals.transactionRevenue'].isnull().mean())"
      ],
      "execution_count": null,
      "outputs": []
    },
    {
      "cell_type": "markdown",
      "metadata": {
        "id": "n4O_MCFBhaVO"
      },
      "source": [
        "Около 1% пришедших сделали покупку. Такова суровая реальность."
      ]
    },
    {
      "cell_type": "code",
      "metadata": {
        "id": "Fat7MEdwhWLR"
      },
      "source": [
        "df_buy = df.dropna(subset=['totals.transactionRevenue'])\n",
        "df_buy.shape"
      ],
      "execution_count": null,
      "outputs": []
    },
    {
      "cell_type": "markdown",
      "metadata": {
        "id": "h04IZVl3hdOO"
      },
      "source": [
        "\n",
        "Посморим на распределение выручки."
      ]
    },
    {
      "cell_type": "code",
      "metadata": {
        "id": "SfF6b-uZhWOX"
      },
      "source": [
        "fig, axes = plt.subplots(1, 2, figsize=(16,6))\n",
        "\n",
        "df_buy['totals.transactionRevenue'].hist(bins=50, log=True, ax=axes[0])\n",
        "sns.distplot(\n",
        "    np.log(df_buy['totals.transactionRevenue'] + 1),\n",
        "    ax=axes[1],\n",
        "    bins=100,\n",
        "    kde=True)\n",
        "\n",
        "axes[0].set_title(\"Распределение выручки\")\n",
        "axes[0].set_xlabel(\"Выручка\")\n",
        "\n",
        "axes[1].set_title(\"Распределение логарифма выручки\")\n",
        "axes[1].set_xlabel(\"Логарифм выручки\")"
      ],
      "execution_count": null,
      "outputs": []
    },
    {
      "cell_type": "markdown",
      "metadata": {
        "id": "UTnp8_ZBhg6M"
      },
      "source": [
        "Посмотрим на дату первой покупки. Как часто она отличается от даты первого визита."
      ]
    },
    {
      "cell_type": "code",
      "metadata": {
        "id": "1wmkTYzshWRD"
      },
      "source": [
        "first_day_buy = (\n",
        "    df_buy.groupby('fullVisitorId')\n",
        "    .agg({\n",
        "        'month':'min',\n",
        "        'date': 'min',\n",
        "        'ts': 'min'\n",
        "    })\n",
        ")"
      ],
      "execution_count": null,
      "outputs": []
    },
    {
      "cell_type": "code",
      "metadata": {
        "id": "DUXU69f8hWUA"
      },
      "source": [
        "first_day_buy.head()"
      ],
      "execution_count": null,
      "outputs": []
    },
    {
      "cell_type": "code",
      "metadata": {
        "id": "-16FPt-ShWWx"
      },
      "source": [
        "first_day_buy.columns = ['first_buy_month', 'first_buy_day', 'first_buy_ts']\n",
        "first_day_buy.head()"
      ],
      "execution_count": null,
      "outputs": []
    },
    {
      "cell_type": "code",
      "metadata": {
        "id": "R0WzaG71hWZh"
      },
      "source": [
        "df_buy = df_buy.join(first_day_buy, on='fullVisitorId')\n",
        "df_buy.head()"
      ],
      "execution_count": null,
      "outputs": []
    },
    {
      "cell_type": "code",
      "metadata": {
        "id": "TnpkpjpDhWcS"
      },
      "source": [
        "(df_buy.first_invate_day != df_buy.first_buy_day).mean()"
      ],
      "execution_count": null,
      "outputs": []
    },
    {
      "cell_type": "markdown",
      "metadata": {
        "id": "C2Go0Pv9hqvb"
      },
      "source": [
        "Сколько дней проходит от первого захода на сайт до первой покупки?"
      ]
    },
    {
      "cell_type": "code",
      "metadata": {
        "id": "_yi1dbrXhWfT"
      },
      "source": [
        "(df_buy['first_buy_ts'] - df_buy['first_invate_ts']).head()"
      ],
      "execution_count": null,
      "outputs": []
    },
    {
      "cell_type": "code",
      "metadata": {
        "id": "radEs0SnhWiB"
      },
      "source": [
        "df_buy['deltatime_buy'] = (df_buy['first_buy_ts'] - df_buy['first_invate_ts'])/np.timedelta64(1,'D')\n",
        "\n",
        "df_buy['deltatime_buy'].hist(bins=30)\n",
        "plt.xlabel('Время между первой покупкой и входом на сайт');"
      ],
      "execution_count": null,
      "outputs": []
    },
    {
      "cell_type": "code",
      "metadata": {
        "id": "7BUPjRZBhWk8"
      },
      "source": [
        "df_buy['deltatime_buy'].describe()"
      ],
      "execution_count": null,
      "outputs": []
    },
    {
      "cell_type": "markdown",
      "metadata": {
        "id": "UlNOj3vQh1ki"
      },
      "source": [
        "Выбросы сильно искажают среднее.\n",
        "\n",
        "А часов?"
      ]
    },
    {
      "cell_type": "code",
      "metadata": {
        "id": "FDhiVVNih3L4"
      },
      "source": [
        "df_buy['deltatime_buy'] = (df_buy['first_buy_ts'] - df_buy['first_invate_ts'])/np.timedelta64(1,'h')\n",
        "df_buy['deltatime_buy'].hist(bins=30)\n",
        "plt.xlabel('Время между первой покупкой и входом на сайт');"
      ],
      "execution_count": null,
      "outputs": []
    },
    {
      "cell_type": "code",
      "metadata": {
        "id": "oPryF9QGh3Om"
      },
      "source": [
        "df_buy['deltatime_buy'].describe()"
      ],
      "execution_count": null,
      "outputs": []
    },
    {
      "cell_type": "code",
      "metadata": {
        "id": "0bG6lI_fh3RG"
      },
      "source": [
        "df_buy['deltatime_buy'].quantile(0.6)"
      ],
      "execution_count": null,
      "outputs": []
    },
    {
      "cell_type": "markdown",
      "metadata": {
        "id": "gWsozYZeh7fk"
      },
      "source": [
        "Видим, что свою первую покупку пользователи совершают чаще всего в первый же визит. В $40\\%$ случаев между визитом, когда была совершена покупка и первым визитом проходит больше 2 часов. Также мы видим, что хвост у распределения оказывается довольно большим.\n",
        "\n",
        "Посмотрим на динамику покупок."
      ]
    },
    {
      "cell_type": "code",
      "metadata": {
        "id": "vqTfl0XMh83L"
      },
      "source": [
        "df_buy.groupby('date')['fullVisitorId'].count().plot(figsize=(12,6));"
      ],
      "execution_count": null,
      "outputs": []
    },
    {
      "cell_type": "markdown",
      "metadata": {
        "id": "wRgcbxNxh_IT"
      },
      "source": [
        "График покупок не отличается существенно от графика визитов в плане своей динамики. Посмотрим на то, как покупки распределены по дням недели и часам."
      ]
    },
    {
      "cell_type": "code",
      "metadata": {
        "id": "fgTsFEeAh3UE"
      },
      "source": [
        "df_buy.pivot_table(\n",
        "    index = 'visitHour',\n",
        "    columns = 'visitWeekday',\n",
        "    values = 'totals.transactionRevenue',\n",
        "    aggfunc='sum'\n",
        ").style.background_gradient()"
      ],
      "execution_count": null,
      "outputs": []
    },
    {
      "cell_type": "markdown",
      "metadata": {
        "id": "Rr_VOd7LiCd7"
      },
      "source": [
        "\n",
        "C 17 до 23 часов видим самое большое число покупок.\n",
        "\n",
        "#3.2 Сколько раз покупают за период?\n",
        "Посчитаем статистику о покупках в разбиении по когортам. Когорта - месяц первой покупки."
      ]
    },
    {
      "cell_type": "code",
      "metadata": {
        "id": "2PxlT3hNh3WW"
      },
      "source": [
        "sales = df_buy.pivot_table(\n",
        "    index='first_buy_month',\n",
        "    columns='month',\n",
        "    values = 'fullVisitorId',\n",
        "    aggfunc='nunique'\n",
        ")\n",
        "\n",
        "plt.figure(figsize=(10, 8))\n",
        "sns.heatmap(\n",
        "    sales,\n",
        "    annot=True,\n",
        "    fmt='.0f',\n",
        "    linewidths=1,\n",
        "    linecolor='black',\n",
        "    cmap=\"YlGnBu\"\n",
        ");"
      ],
      "execution_count": null,
      "outputs": []
    },
    {
      "cell_type": "markdown",
      "metadata": {
        "id": "NQUIT5mLiHLX"
      },
      "source": [
        "\n",
        "Снова видим, что интерес к магазину падает уже на второй месяц.\n",
        "\n",
        "#3.3 Средний доход\n",
        "Посчитаем его на дневной основе."
      ]
    },
    {
      "cell_type": "code",
      "metadata": {
        "id": "BVz4tH8-h3ZL"
      },
      "source": [
        "\n",
        "g = (\n",
        "    df_buy.groupby('date')\n",
        "    .agg({'totals.transactionRevenue':'mean'})\n",
        "    .plot(figsize=(12,6))\n",
        ")"
      ],
      "execution_count": null,
      "outputs": []
    },
    {
      "cell_type": "markdown",
      "metadata": {
        "id": "O1T46oR-iMDT"
      },
      "source": [
        "Посчитаем сколько денег приносят в среднем отдельные когорты. Для этого посчитаем суммарную выручку с каждой и поделим на число пользователей в ней."
      ]
    },
    {
      "cell_type": "code",
      "metadata": {
        "id": "Q70Ez4fkh3bm"
      },
      "source": [
        "sales_sum = df_buy.pivot_table(\n",
        "    index='first_buy_month',\n",
        "    columns='month',\n",
        "    values = 'totals.transactionRevenue',\n",
        "    aggfunc='sum'\n",
        ")\n",
        "\n",
        "plt.figure(figsize=(10, 8))\n",
        "sns.heatmap(\n",
        "    sales_sum/sales,\n",
        "    annot=True,\n",
        "    fmt='.0f',\n",
        "    linewidths=1,\n",
        "    linecolor='black',\n",
        "    cmap=\"YlGnBu\"\n",
        ");"
      ],
      "execution_count": null,
      "outputs": []
    },
    {
      "cell_type": "markdown",
      "metadata": {
        "id": "8qiKJqCyiQr7"
      },
      "source": [
        "Есть несколько покупок на очень крупную сумму в февральской когорте.\n",
        "\n",
        "#4. Анализ выручки в разбивке по источникам\n",
        "Проанализируем выручку в разбивке по её источникам."
      ]
    },
    {
      "cell_type": "code",
      "metadata": {
        "id": "2QBvb3FCh3eG"
      },
      "source": [
        "df_buy['totals.transactionRevenue'] = df_buy['totals.transactionRevenue'].apply(lambda w: np.log(w + 1))"
      ],
      "execution_count": null,
      "outputs": []
    },
    {
      "cell_type": "markdown",
      "metadata": {
        "id": "xZG2srt4iVSP"
      },
      "source": [
        "Посмотрим какие браузеры самые популярные."
      ]
    },
    {
      "cell_type": "code",
      "metadata": {
        "id": "8d-U_B4Ih3gv"
      },
      "source": [
        "df_buy['device.browser'].value_counts()[:10]"
      ],
      "execution_count": null,
      "outputs": []
    },
    {
      "cell_type": "code",
      "metadata": {
        "id": "hmH3lZW9iX4L"
      },
      "source": [
        "plt.figure(figsize=(12,6))\n",
        "\n",
        "df_buy['device.browser'].value_counts().plot(kind='bar')\n",
        "\n",
        "plt.title(\"TOP 10 самых используемых браузеров\", fontsize=20)\n",
        "plt.xlabel(\"Браузер\", fontsize=16)\n",
        "plt.ylabel(\"Число визитов\", fontsize=16);"
      ],
      "execution_count": null,
      "outputs": []
    },
    {
      "cell_type": "markdown",
      "metadata": {
        "id": "fbIp1swwiZNj"
      },
      "source": [
        "\n",
        "Выручка с разбивкой по браузерам"
      ]
    },
    {
      "cell_type": "code",
      "metadata": {
        "id": "0tuzs7vEian7"
      },
      "source": [
        "plt.figure(figsize=(12,6))\n",
        "\n",
        "data = (df_buy[\n",
        "    df_buy['device.browser'].isin(\n",
        "        df_buy['device.browser'].value_counts()[:10].index.values\n",
        "    )]\n",
        ")\n",
        "\n",
        "g = sns.boxplot(x='device.browser',\n",
        "              y='totals.transactionRevenue',\n",
        "              data=data);\n",
        "\n",
        "g.set_title('Выручка в разбивке по браузерам', fontsize=20)\n",
        "g.set_xlabel('Браузер', fontsize=18)\n",
        "g.set_ylabel('Распределение выручки', fontsize=18);"
      ],
      "execution_count": null,
      "outputs": []
    },
    {
      "cell_type": "markdown",
      "metadata": {
        "id": "W8EZ5N3_ic4H"
      },
      "source": [
        "Посмотрим на операционные системы."
      ]
    },
    {
      "cell_type": "code",
      "metadata": {
        "id": "FHDaljllibRX"
      },
      "source": [
        "plt.figure(figsize=(12,6))\n",
        "\n",
        "df_buy['device.operatingSystem'].value_counts().plot(kind='bar')\n",
        "\n",
        "plt.title(\"Операционная система\", fontsize=20)\n",
        "plt.xlabel(\"Операционная система\", fontsize=16)\n",
        "plt.ylabel(\"Число визитов\", fontsize=16);"
      ],
      "execution_count": null,
      "outputs": []
    },
    {
      "cell_type": "markdown",
      "metadata": {
        "id": "U5z8yRz8ifJs"
      },
      "source": [
        "Прибыль по разным операционным системам"
      ]
    },
    {
      "cell_type": "code",
      "metadata": {
        "id": "250sdwwiibT4"
      },
      "source": [
        "data = (\n",
        "    df_buy[\n",
        "        df_buy['device.operatingSystem']\n",
        "       .isin(df_buy['device.operatingSystem'].value_counts()[:6].index.values)\n",
        "          ]\n",
        ")\n",
        "\n",
        "\n",
        "# Такой же приём можно использовать и для графиков\n",
        "g = (\n",
        "    sns.FacetGrid(data, hue='device.operatingSystem', aspect=2)\n",
        "    .map(sns.kdeplot, 'totals.transactionRevenue', shade=True)\n",
        "    .add_legend()\n",
        ");"
      ],
      "execution_count": null,
      "outputs": []
    },
    {
      "cell_type": "markdown",
      "metadata": {
        "id": "rF-0j_H8iiRQ"
      },
      "source": [
        "Выручка в разбивке по разным типам устройств."
      ]
    },
    {
      "cell_type": "code",
      "metadata": {
        "id": "nDXNxhiFibWq"
      },
      "source": [
        "sns.countplot(df_buy[\"device.deviceCategory\"], palette=\"hls\");"
      ],
      "execution_count": null,
      "outputs": []
    },
    {
      "cell_type": "code",
      "metadata": {
        "id": "vXfG5EHiibZJ"
      },
      "source": [
        "plt.figure(figsize=(12,6))\n",
        "\n",
        "g = sns.boxplot(x='device.deviceCategory',\n",
        "              y='totals.transactionRevenue',\n",
        "              data=df_buy);\n",
        "\n",
        "g.set_title('Выручка в разбивке по типам устройств', fontsize=20)\n",
        "g.set_xlabel('Устройство', fontsize=18)\n",
        "g.set_ylabel('Распределение выручки', fontsize=18);"
      ],
      "execution_count": null,
      "outputs": []
    },
    {
      "cell_type": "code",
      "metadata": {
        "id": "nB1Lo0zgilZ3"
      },
      "source": [
        "g = (\n",
        "    sns.FacetGrid(df_buy, hue='device.deviceCategory', aspect=2)\n",
        "    .map(sns.kdeplot, 'totals.transactionRevenue', shade=True)\n",
        "    .add_legend()\n",
        ");"
      ],
      "execution_count": null,
      "outputs": []
    },
    {
      "cell_type": "markdown",
      "metadata": {
        "id": "s2-qfAEHirEv"
      },
      "source": [
        "Из каких городов чаще всего делаются покупки."
      ]
    },
    {
      "cell_type": "code",
      "metadata": {
        "id": "gCKOQLC4ile2"
      },
      "source": [
        "# !pip install squarify"
      ],
      "execution_count": null,
      "outputs": []
    },
    {
      "cell_type": "code",
      "metadata": {
        "id": "wvFopE8Milhd"
      },
      "source": [
        "df_buy[\"geoNetwork.city\"].value_counts()"
      ],
      "execution_count": null,
      "outputs": []
    },
    {
      "cell_type": "code",
      "metadata": {
        "id": "1_J4ff4Ailj2"
      },
      "source": [
        "import squarify\n",
        "\n",
        "df_cur = df_buy[df_buy[\"geoNetwork.city\"] != 'not available in demo dataset']"
      ],
      "execution_count": null,
      "outputs": []
    },
    {
      "cell_type": "code",
      "metadata": {
        "id": "7Xhi5_Zoilms"
      },
      "source": [
        "city_tree = df_cur[\"geoNetwork.city\"].value_counts()\n",
        "city_tree = round((city_tree[:30] / len(df_cur['geoNetwork.city']) * 100),2)\n",
        "\n",
        "plt.figure(figsize=(12,12))\n",
        "\n",
        "g = squarify.plot(\n",
        "    sizes=city_tree.values,\n",
        "    label=city_tree.index,\n",
        "    value=city_tree.values,\n",
        "    alpha=.3\n",
        ")\n",
        "\n",
        "g.set_title(\"Топ-30 городов по выручке - % от общей суммы\", fontsize=20)\n",
        "g.set_axis_off();"
      ],
      "execution_count": null,
      "outputs": []
    },
    {
      "cell_type": "code",
      "metadata": {
        "id": "HvRqDtcqilpi"
      },
      "source": [],
      "execution_count": null,
      "outputs": []
    }
  ]
}