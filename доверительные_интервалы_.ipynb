{
  "nbformat": 4,
  "nbformat_minor": 0,
  "metadata": {
    "colab": {
      "provenance": [],
      "authorship_tag": "ABX9TyO0hN4YVHGYvOCQbRM83gCb",
      "include_colab_link": true
    },
    "kernelspec": {
      "name": "python3",
      "display_name": "Python 3"
    },
    "language_info": {
      "name": "python"
    }
  },
  "cells": [
    {
      "cell_type": "markdown",
      "metadata": {
        "id": "view-in-github",
        "colab_type": "text"
      },
      "source": [
        "<a href=\"https://colab.research.google.com/github/Muhammadsulton1/MIPT_Data_analys/blob/main/%D0%B4%D0%BE%D0%B2%D0%B5%D1%80%D0%B8%D1%82%D0%B5%D0%BB%D1%8C%D0%BD%D1%8B%D0%B5_%D0%B8%D0%BD%D1%82%D0%B5%D1%80%D0%B2%D0%B0%D0%BB%D1%8B_.ipynb\" target=\"_parent\"><img src=\"https://colab.research.google.com/assets/colab-badge.svg\" alt=\"Open In Colab\"/></a>"
      ]
    },
    {
      "cell_type": "code",
      "metadata": {
        "id": "L1KC52clWHrv"
      },
      "source": [
        "import numpy as np\n",
        "import pandas as pd\n",
        "from scipy import stats\n",
        "import seaborn as sns\n",
        "import matplotlib.pyplot as plt\n",
        "\n",
        "plt.style.use('ggplot')\n",
        "%matplotlib inline"
      ],
      "execution_count": null,
      "outputs": []
    },
    {
      "cell_type": "markdown",
      "metadata": {
        "id": "_DraczvAkgmc"
      },
      "source": [
        "<center>\n",
        "<img src=\"logo.png\" height=\"900\">\n",
        "</center>\n",
        "\n",
        "\n",
        "#  Точные доверительные интервалы\n",
        "\n",
        "Будем работать с данными по стоимости квартир в москве из таблички `flat.csv`.\n"
      ]
    },
    {
      "cell_type": "code",
      "metadata": {
        "id": "dYa_qm9Vkc8F"
      },
      "source": [
        "def norm_conf_int(alpha, mean_hat, std_hat, margin=5):\n",
        "    \"\"\"\n",
        "        Строит 95% асимптотически-нормальный доверительный интервал\n",
        "    \"\"\"\n",
        "\n",
        "    plt.figure(figsize=(10,5))\n",
        "    xs = np.linspace(mean_hat - margin, mean_hat + margin)\n",
        "    pdf = stats.norm(mean_hat, std_hat).pdf(xs)\n",
        "\n",
        "    plt.plot(xs, pdf)\n",
        "    plt.ylabel('$f(x)$', fontsize=18)\n",
        "    plt.xlabel('$x$', fontsize=18)\n",
        "\n",
        "    left, right = stats.norm.interval(1 - alpha, loc=mean_hat, scale=std_hat)\n",
        "\n",
        "    for i in [left, right]:\n",
        "        y_max = plt.ylim()[1]\n",
        "        plt.axvline(i, color=\"blue\", linestyle='dashed', lw=2)\n",
        "\n",
        "        if i == left:\n",
        "            xq = np.linspace(mean_hat - margin, left)\n",
        "        else:\n",
        "            xq = np.linspace(right, mean_hat + margin)\n",
        "\n",
        "        text_margin = 0.05\n",
        "        plt.text(i + text_margin, 0.8*y_max, round(i, 2), color=\"blue\", fontsize=14)\n",
        "        yq = stats.norm(mean_hat, std_hat).pdf(xq)\n",
        "        plt.fill_between(xq, 0, yq, color='blue', alpha=0.3)\n",
        "\n",
        "    return left, right"
      ],
      "execution_count": null,
      "outputs": []
    },
    {
      "cell_type": "markdown",
      "metadata": {
        "id": "-vnub5Mvkntc"
      },
      "source": [
        "__Описание переменных:__\n",
        "\n",
        "```\n",
        "n – номер квартиры по порядку\n",
        "price – цена квартиры в $1000\n",
        "totsp – общая площадь квартиры, кв.м.\n",
        "livesp жилая площадь квартиры, кв.м.\n",
        "kitsp – площадь кухни, кв.м.\n",
        "dist – расстояние от центра в км.\n",
        "metrdist – расстояние до метро в минутах\n",
        "walk – 1 – пешком от метро, 0 – на транспорте\n",
        "brick 1 – кирпичный, монолит ж/б, 0 – другой\n",
        "floor 1 – этаж кроме первого и последнего, 0 – иначе.\n",
        "code – число от 1 до 8, при помощи которого мы группируем наблюдения по\n",
        "подвыборкам:\n",
        "1. Наблюдения сгруппированы на севере, вокруг Калужско-Рижской линии\n",
        "метрополитена\n",
        "2. Север, вокруг Серпуховско-Тимирязевской линии метрополитена\n",
        "3. Северо-запад, вокруг Замоскворецкой линии метрополитена\n",
        "4. Северо-запад, вокруг Таганско-Краснопресненской линии метрополитена\n",
        "5. Юго-восток, вокруг Люблинской линии метрополитена\n",
        "6. Юго-восток, вокруг Таганско-Краснопресненской линии метрополитена\n",
        "7. Восток, вокруг Калиниской линии метрополитена\n",
        "8. Восток, вокруг Арбатско-Покровской линии метрополитена\n",
        "```\n"
      ]
    },
    {
      "cell_type": "code",
      "metadata": {
        "id": "IvvjPrN1kc-r"
      },
      "source": [
        "df = pd.read_csv('flat.csv', sep='\\t')\n",
        "print(df.shape)\n",
        "df.head()"
      ],
      "execution_count": null,
      "outputs": []
    },
    {
      "cell_type": "markdown",
      "metadata": {
        "id": "3rlm5Ishktvs"
      },
      "source": [
        "# 1. Доверительные интервалы для среднего"
      ]
    },
    {
      "cell_type": "markdown",
      "metadata": {
        "id": "jR1TvHnJkxH8"
      },
      "source": [
        "Построим $95\\%$ асимптотический доверительный интервал для средней стоимости квартиры. Построим точный доверительный интервал для средней стоимости квартиры. Какой из них оказался уже? Почему?\n",
        "\n",
        "__Асимптотический доверительный интервал:__\n",
        "\n",
        "$$\n",
        "\\bar x \\pm z_{1 - \\frac{\\alpha}{2}} \\cdot \\sqrt{\\frac{\\hat s^2}{n}}.\n",
        "$$\n",
        "\n",
        "> __Предположения:__\n",
        "В выборке нет аномалий, собиралась независимо, тогда среднее асимптотически нормально распределено (ЦПТ)"
      ]
    },
    {
      "cell_type": "code",
      "metadata": {
        "id": "IndYXvLvkdBF"
      },
      "source": [
        "# вручную\n",
        "norm_rv = stats.norm()\n",
        "\n",
        "alpha = 0.05\n",
        "z_crit = norm_rv.ppf(1 - alpha/2)\n",
        "\n",
        "mu_hat = df.price.mean()\n",
        "var_hat = df.price.var(ddof=1)\n",
        "n = df.price.count()\n",
        "\n",
        "left = mu_hat - z_crit*np.sqrt(var_hat/n)\n",
        "right = mu_hat + z_crit*np.sqrt(var_hat/n)\n",
        "\n",
        "print(\"Доверительный интервал [{:.4}; {:.4}] ширины {:.4}\".format(left, right, right - left))"
      ],
      "execution_count": null,
      "outputs": []
    },
    {
      "cell_type": "code",
      "metadata": {
        "id": "QwYHt5g7kdDl"
      },
      "source": [
        "mu_hat = df.price.mean()\n",
        "sd_hat = df.price.std(ddof=1)/np.sqrt(n)\n",
        "\n",
        "stats.norm.interval(0.95, loc=mu_hat, scale=sd_hat)"
      ],
      "execution_count": null,
      "outputs": []
    },
    {
      "cell_type": "code",
      "metadata": {
        "id": "5Mdr92zQkdGS"
      },
      "source": [
        "alpha = 0.05\n",
        "mu_hat = df.price.mean()\n",
        "sd_hat = df.price.std(ddof=1)/np.sqrt(n)\n",
        "\n",
        "norm_conf_int(alpha, mu_hat, sd_hat, margin=5)"
      ],
      "execution_count": null,
      "outputs": []
    },
    {
      "cell_type": "markdown",
      "metadata": {
        "id": "aAEd3fvqk5Id"
      },
      "source": [
        "__Точный доверительный интервал:__\n",
        "\n",
        "$$\n",
        "\\bar x \\pm t_{1 - \\frac{\\alpha}{2}} \\cdot \\sqrt{\\frac{\\hat s^2}{n}}.\n",
        "$$\n",
        "\n",
        "> __Предположения:__\n",
        "Выборка пришла из нормального распределения, дисперсия неизвестна"
      ]
    },
    {
      "cell_type": "code",
      "metadata": {
        "id": "X9GZ7QexkdI0"
      },
      "source": [
        "# вручную\n",
        "n = df.price.count()\n",
        "t_rv = stats.t(n - 1)\n",
        "\n",
        "alpha = 0.05\n",
        "t_crit = t_rv.ppf(1 - alpha/2)\n",
        "\n",
        "mu_hat = df.price.mean()\n",
        "var_hat = df.price.var(ddof=1)\n",
        "\n",
        "\n",
        "left = mu_hat - t_crit*np.sqrt(var_hat/n)\n",
        "right = mu_hat + t_crit*np.sqrt(var_hat/n)\n",
        "\n",
        "print(\"Доверительный интервал [{:.4}; {:.4}] ширины {:.4}\".format(left, right, right - left))"
      ],
      "execution_count": null,
      "outputs": []
    },
    {
      "cell_type": "code",
      "metadata": {
        "id": "LoUcuq-PkdLe"
      },
      "source": [
        "n"
      ],
      "execution_count": null,
      "outputs": []
    },
    {
      "cell_type": "code",
      "metadata": {
        "id": "NEuWZzaHkdOC"
      },
      "source": [
        "n\n",
        "# Оказался немного шире, но похож, так как:\n",
        "# t(n) => N(0,1) при n -> inf"
      ],
      "execution_count": null,
      "outputs": []
    },
    {
      "cell_type": "code",
      "metadata": {
        "id": "EtITrdL2kdQz"
      },
      "source": [
        "# пакетом\n",
        "n = df.price.count()\n",
        "mu_hat = df.price.mean()\n",
        "sd_hat = df.price.std(ddof=1) / np.sqrt(n)\n",
        "\n",
        "# тут 0.95 это 1 - alpha\n",
        "left, right = stats.t.interval(0.95, df=(n-1), loc=mu_hat, scale=sd_hat)\n",
        "print(\"Доверительный интервал [{:.4}; {:.4}] ширины {:.4}\".format(left, right, right - left))\n"
      ],
      "execution_count": null,
      "outputs": []
    },
    {
      "cell_type": "markdown",
      "metadata": {
        "id": "Cr24AOu4lDF0"
      },
      "source": [
        "> Видим, что интервалы не сильно отличаются друг от друга, из-за того, что у нас в выборке много наблюдений. При большом числе степеней свободы распределение Стьюдента похоже на нормальное. Тем не менее даже при большом количестве наблюдений точный доверительный интервал оказывается немного шире."
      ]
    },
    {
      "cell_type": "markdown",
      "metadata": {
        "id": "R3P9VPaclFm9"
      },
      "source": [
        "__Построим $99\\%$ точные доверительные интервалы для всех районов. В какие из них попало общее среднее? Построим красивую визулизацию.__"
      ]
    },
    {
      "cell_type": "code",
      "metadata": {
        "id": "gsxEMh6rkdTi"
      },
      "source": [
        "df.head()"
      ],
      "execution_count": null,
      "outputs": []
    },
    {
      "cell_type": "code",
      "metadata": {
        "id": "7Q5alsemkdWK"
      },
      "source": [
        "df_agg = df.groupby('code')['price'].agg(['mean', 'std', 'count'])\n",
        "df_agg"
      ],
      "execution_count": null,
      "outputs": []
    },
    {
      "cell_type": "code",
      "metadata": {
        "id": "jJVxF_w9kdY9"
      },
      "source": [
        "alpha = 0.01\n",
        "df_agg['t_crit'] = df_agg['count'].apply(lambda w: stats.t(w - 1).ppf(1 - alpha/2))\n",
        "\n",
        "# на сколько отступать вправо и влево от математического ожидания\n",
        "df_agg['step'] =  df_agg['t_crit']  * df_agg['std']/np.sqrt(df_agg['count'])\n",
        "df_agg"
      ],
      "execution_count": null,
      "outputs": []
    },
    {
      "cell_type": "code",
      "metadata": {
        "id": "fTPigYlnkdb1"
      },
      "source": [
        "district = [\n",
        "    'Север, Калужско-Рижская', 'Север, Серпуховско-Тимирязевская',\n",
        "    'Северо-запад, Замоскворецкая', 'Северо-запад, Таганско-Краснопресненская',\n",
        "    'Юго-восток, Люблинская', 'Юго-восток, Таганско-Краснопресненская',\n",
        "    'Восток, Калиниская', 'Восток, Арбатско-Покровская'\n",
        "]\n",
        "\n",
        "center = df_agg['mean'].values\n",
        "step = df_agg['step'].values\n",
        "\n",
        "mu_hat = df.price.mean() # общее среднее\n",
        "\n",
        "plt.figure(figsize=(10,5))\n",
        "\n",
        "plt.errorbar(center, np.arange(center.size),  xerr = step,\n",
        "             capsize=0, fmt=\"o\", color=\"blue\")\n",
        "\n",
        "plt.yticks(np.arange(center.size - 1, -1, -1), district, fontsize=12);\n",
        "plt.axvline(mu_hat, 0, color='grey');"
      ],
      "execution_count": null,
      "outputs": []
    },
    {
      "cell_type": "markdown",
      "metadata": {
        "id": "pRmw8izLlOZ0"
      },
      "source": [
        "__Выводы:__\n",
        "\n",
        "- В среднем, самая дорогая недвижимость находится на Юго-востоке. Самая дешёвая на Северо-западе."
      ]
    },
    {
      "cell_type": "markdown",
      "metadata": {
        "id": "PRN-7sgmlSFd"
      },
      "source": [
        "# 2. Доверительный интервал для разности средних"
      ]
    },
    {
      "cell_type": "markdown",
      "metadata": {
        "id": "nq1VmbuElT4d"
      },
      "source": [
        "Построим $95\\%$ асимптотический доверительный интервал для разницы в средней стоимости квартир в монолитных и панельных домах.\n",
        "\n",
        "$$\n",
        "\\bar x - \\bar y \\pm z_{crit} \\cdot \\sqrt{\\frac{\\hat\\sigma_x^2}{n_x} + \\frac{\\hat\\sigma_y^2}{n_y}}\n",
        "$$"
      ]
    },
    {
      "cell_type": "code",
      "metadata": {
        "id": "ZQdi5fMTlO79"
      },
      "source": [
        "x = df[df.brick == 1].price.values\n",
        "y = df[df.brick == 0].price.values\n",
        "\n",
        "diff = x.mean() - y.mean()\n",
        "nx,ny = x.size, y.size\n",
        "diff_sd = np.sqrt(x.var(ddof=1)/nx + y.var(ddof=1)/nx)\n",
        "\n",
        "left, right = stats.norm.interval(0.95, loc=diff, scale=diff_sd)\n",
        "print(\"Доверительный интервал [{:.4}; {:.4}] ширины {:.4}\".format(left, right, right - left))"
      ],
      "execution_count": null,
      "outputs": []
    },
    {
      "cell_type": "markdown",
      "metadata": {
        "id": "0_hXKvkBlW2d"
      },
      "source": [
        "Предположим, что дисперсии неизвестны, но равны.\n",
        "\n",
        "$$\n",
        "\\bar x - \\bar y \\pm t_{crit} \\cdot \\sqrt{\\frac{s^2}{n_x} + \\frac{s^2}{n_y}}\n",
        "$$"
      ]
    },
    {
      "cell_type": "code",
      "metadata": {
        "id": "Xp3W7Zk0lO-s"
      },
      "source": [
        "diff = x.mean() - y.mean()\n",
        "nx, ny = x.size, y.size\n",
        "\n",
        "s2 = ((nx - 1)*x.var() + (ny - 1)*y.var())/(nx + ny - 2)\n",
        "diff_sd = np.sqrt(s2/nx + s2/ny)\n",
        "\n",
        "left, right = stats.t.interval(0.95, df=(nx + ny - 2), loc=diff, scale=diff_sd)\n",
        "print(\"Доверительный интервал [{:.4}; {:.4}] ширины {:.4}\".format(left, right, right - left))"
      ],
      "execution_count": null,
      "outputs": []
    },
    {
      "cell_type": "code",
      "metadata": {
        "id": "wCY7P4lhlPEV"
      },
      "source": [
        "x.var(), y.var()"
      ],
      "execution_count": null,
      "outputs": []
    },
    {
      "cell_type": "markdown",
      "metadata": {
        "id": "28Tj980Llc1t"
      },
      "source": [
        "Предположим, что дисперсии неизвестны и не равны. Построим приближённый доверительный интервал (интервал Уэлча)."
      ]
    },
    {
      "cell_type": "code",
      "metadata": {
        "id": "tAllHqK5lPHE"
      },
      "source": [
        "diff = x.mean() - y.mean()\n",
        "nx, ny = x.size, y.size\n",
        "diff_sd = np.sqrt(x.var()/nx + y.var()/ny)\n",
        "\n",
        "u = (x.var() / nx + y.var() / ny) ** 2\n",
        "d = (x.var()**2) / (nx**2 * (nx - 1)) + (y.var()**2)/ (ny**2* (ny - 1))\n",
        "nu =  u/d\n",
        "print(\"Число степеней свободы:\", nu)\n",
        "\n",
        "left, right = stats.t.interval(0.95, df=nu, loc=diff, scale=diff_sd)\n",
        "print(\"Доверительный интервал [{:.4}; {:.4}] ширины {:.4}\".format(left, right, right - left))\n"
      ],
      "execution_count": null,
      "outputs": []
    },
    {
      "cell_type": "code",
      "metadata": {
        "id": "lcPkZujIlPJ4"
      },
      "source": [
        "nx, ny"
      ],
      "execution_count": null,
      "outputs": []
    },
    {
      "cell_type": "code",
      "metadata": {
        "id": "D5G0-wmZlPMf"
      },
      "source": [
        "x.std(), y.std()  # Знаки не в ту сторону => при малых выборках не очень верим"
      ],
      "execution_count": null,
      "outputs": []
    },
    {
      "cell_type": "markdown",
      "metadata": {
        "id": "YlU5ewxqll6P"
      },
      "source": [
        "> Все три доверительных интервала из-за больших объёмов выборки снова оказались похожи. Выборочные дисперсии довольно сильно отличаются друг от друга, из-за этого использование доверительного интервала с предпосылкой о их равенстве некорректно."
      ]
    },
    {
      "cell_type": "markdown",
      "metadata": {
        "id": "vv-dsJL5lnEt"
      },
      "source": [
        "__Выводы:__\n",
        "\n",
        "- В среднем, на уровне значимости $5\\%$, квартиры в монолитных домах стоят дороже, чем в панельных. Ноль нигде не попадает в доверительный интервал."
      ]
    },
    {
      "cell_type": "markdown",
      "metadata": {
        "id": "FUPzaTH9lqil"
      },
      "source": [
        "# 3. Доверительный интервал для дисперсии"
      ]
    },
    {
      "cell_type": "markdown",
      "metadata": {
        "id": "_ceOiDEzlre9"
      },
      "source": [
        "Предполагая нормальность распределения цен, построим $95\\%$ доверительный интервал для дисперсии стоимости квартир.\n",
        "\n",
        "$$\n",
        "\\frac{(n - 1) \\cdot s^2}{\\chi_{n-1}^2 \\left(1 - \\frac{\\alpha}{2} \\right)} \\le \\sigma^2 \\le \\frac{(n - 1) \\cdot s^2}{\\chi_{n-1}^2 \\left(\\frac{\\alpha}{2} \\right)}\n",
        "$$\n",
        "\n",
        "\n",
        "> __Предположения:__\n",
        "Выборка пришла из нормального распределения, математическое ожидание неизвестно, выполняется теорема Фишера\n"
      ]
    },
    {
      "cell_type": "code",
      "metadata": {
        "id": "YwwIHaczlPPn"
      },
      "source": [
        "alpha = 0.05\n",
        "\n",
        "n = df.price.count()\n",
        "var_hat = df.price.var(ddof=1)\n",
        "\n",
        "chi_l, chi_u = stats.chi2.ppf([1-alpha/2, alpha/2], df = n - 1)\n",
        "\n",
        "left = (n - 1) * var_hat/chi_l\n",
        "right = (n - 1) * var_hat/chi_u\n",
        "\n",
        "print(\"Доверительный интервал [{:.5}; {:.5}] ширины {:.5}\".format(left, right, right - left))\n"
      ],
      "execution_count": null,
      "outputs": []
    },
    {
      "cell_type": "markdown",
      "metadata": {
        "id": "n6KgDx8klwWm"
      },
      "source": [
        "Сделаем то же самое, но в разбивке по районам."
      ]
    },
    {
      "cell_type": "code",
      "metadata": {
        "id": "9LqQaYhSlPTO"
      },
      "source": [
        "df_agg = df.groupby('code')['price'].agg(['var', 'count'])\n",
        "\n",
        "alpha = 0.05\n",
        "df_agg['ch_l'] = df_agg['count'].apply(lambda w: stats.chi2.ppf(1-alpha/2, df = w - 1))\n",
        "df_agg['ch_u'] = df_agg['count'].apply(lambda w: stats.chi2.ppf(alpha/2, df = w - 1))\n",
        "\n",
        "df_agg['left'] =  (df_agg['count'] - 1) * df_agg['var']/df_agg['ch_l']\n",
        "df_agg['right'] =  (df_agg['count'] - 1) * df_agg['var']/df_agg['ch_u']\n",
        "\n",
        "df_agg"
      ],
      "execution_count": null,
      "outputs": []
    },
    {
      "cell_type": "code",
      "metadata": {
        "id": "_WuxBzuZlPV2"
      },
      "source": [
        "district = [\n",
        "    'Север, Калужско-Рижская', 'Север, Серпуховско-Тимирязевская',\n",
        "    'Северо-запад, Замоскворецкая', 'Северо-запад, Таганско-Краснопресненская',\n",
        "    'Юго-восток, Люблинская', 'Юго-восток, Таганско-Краснопресненская',\n",
        "    'Восток, Калиниская', 'Восток, Арбатско-Покровская'\n",
        "]\n",
        "\n",
        "center = df_agg['var'].values\n",
        "step = np.array([df_agg['var'].values - df_agg['left'].values,\n",
        "                 df_agg['right'].values - df_agg['var'].values])\n",
        "\n",
        "var_hat = df.price.var()\n",
        "\n",
        "plt.figure(figsize=(10,5))\n",
        "\n",
        "plt.errorbar(center, np.arange(center.size),  xerr = step,\n",
        "             capsize=0, fmt=\"o\", color='blue')\n",
        "\n",
        "plt.yticks(np.arange(center.size - 1, -1, -1), district, fontsize=12);\n",
        "plt.axvline(var_hat, 0, color='grey');"
      ],
      "execution_count": null,
      "outputs": []
    },
    {
      "cell_type": "markdown",
      "metadata": {
        "id": "5ttiMvsAl1Tn"
      },
      "source": [
        "__Выводы:__\n",
        "\n",
        "- На Юго-Востоке самый большой разброс в ценах. Как покупатель, я найду здесь более разнообразные предложения. Так происходит из-за того, что с одной стороны районы близки к центру и здесь есть респектабельная недвижимость. С другой стороны, в районах довольно много советской застройки с плохой планировкой и ремонтом."
      ]
    },
    {
      "cell_type": "markdown",
      "metadata": {
        "id": "79ghUQHcl3RN"
      },
      "source": [
        "# 4. Доверительный интервал для отношения дисперсий"
      ]
    },
    {
      "cell_type": "markdown",
      "metadata": {
        "id": "yfgLBS4Wl5EN"
      },
      "source": [
        "Предполагая нормальность распределения, построим $95\\%$-ый доверительный интервал для отношения дисперсии стоимости квартир в монолитных домах и в панельных домах.\n",
        "\n",
        "\n",
        "$$\n",
        "\\frac{s^2_m}{s^2_n} \\cdot F_{\\frac{\\alpha}{2}}(n,m) \\le \\frac{\\sigma^2_m}{\\sigma^2_n} \\le  \\frac{s^2_m}{s^2_n} \\cdot F_{1 - \\frac{\\alpha}{2}}(n,m)\n",
        "$$"
      ]
    },
    {
      "cell_type": "code",
      "metadata": {
        "id": "jvZbjfgHlPYM"
      },
      "source": [
        "alpha = 0.05\n",
        "\n",
        "x = df[df.brick == 1].price.values\n",
        "y = df[df.brick == 0].price.values\n",
        "\n",
        "n, m = x.size - 1, y.size - 1\n",
        "sn, sm = x.var(), y.var()\n",
        "\n",
        "left = sm / sn * stats.f(n, m).ppf(alpha/2)\n",
        "right = sm / sn * stats.f(n, m).ppf(1 - alpha/2)\n",
        "\n",
        "print(\"Доверительный интервал [{:.5}; {:.5}] ширины {:.5}\".format(left, right, right - left))"
      ],
      "execution_count": null,
      "outputs": []
    },
    {
      "cell_type": "code",
      "metadata": {
        "id": "R4DHIwGslPa0"
      },
      "source": [
        "x.std(), y.std()"
      ],
      "execution_count": null,
      "outputs": []
    },
    {
      "cell_type": "markdown",
      "metadata": {
        "id": "cu7VtNuRl9sn"
      },
      "source": [
        "__Выводы:__\n",
        "\n",
        "- Единица не попала в доверительный интервал. Дисперсии в ценах на монолитное жильё и на панельное различаются. Цены на монолитное жильё обладают более высокой дисперсией."
      ]
    },
    {
      "cell_type": "markdown",
      "metadata": {
        "id": "18Ursw1Il_VP"
      },
      "source": [
        "## А можно ли было пользоваться нормальным распределением?\n",
        "\n",
        "Распределение цен выглядит не очень нормальным."
      ]
    },
    {
      "cell_type": "code",
      "metadata": {
        "id": "cVNbkfoplPdM"
      },
      "source": [
        "df.price.hist(bins=50,density=True);"
      ],
      "execution_count": null,
      "outputs": []
    },
    {
      "cell_type": "markdown",
      "metadata": {
        "id": "Jg2ot5dNmE8v"
      },
      "source": [
        "Распределение логарифмов цен оказывается более похожим на нормальное."
      ]
    },
    {
      "cell_type": "code",
      "metadata": {
        "id": "ne-G_-76lPgl"
      },
      "source": [
        "df.price.apply(np.log).hist(bins=50, density=True);\n",
        "\n",
        "x = df.price.apply(np.log).values\n",
        "\n",
        "xs = np.linspace(3.5, 7, 300)\n",
        "ys = stats.norm(loc=np.mean(x), scale=np.std(x, ddof=1)).pdf(xs)\n",
        "plt.plot(xs, ys, color=\"black\");"
      ],
      "execution_count": null,
      "outputs": []
    },
    {
      "cell_type": "markdown",
      "metadata": {
        "id": "7iZhx_UWmHwf"
      },
      "source": [
        "Можно формально проверить гипотезу о том, имеет ли какая-то выборка нормальное распределение с помошью теста Колмогорова-Смирнова. О нём мы подробнее поговорим в будущем, а сейчас просто воспользуемся."
      ]
    },
    {
      "cell_type": "code",
      "metadata": {
        "id": "V3WD7s7dlPiQ"
      },
      "source": [
        "stats.kstest(df.price, 'norm', args=(df.price.mean(), df.price.std(ddof=1)))"
      ],
      "execution_count": null,
      "outputs": []
    },
    {
      "cell_type": "code",
      "metadata": {
        "id": "5wRIIlbGlPk5"
      },
      "source": [
        "stats.kstest(x, 'norm', args=(np.mean(x), np.std(x, ddof=1)))"
      ],
      "execution_count": null,
      "outputs": []
    },
    {
      "cell_type": "markdown",
      "metadata": {
        "id": "0X5qj5ixmMb-"
      },
      "source": [
        "В обоих ситуациях `pvalue` очень низкое, это говорит о том, что выборка не распределена нормально."
      ]
    },
    {
      "cell_type": "markdown",
      "metadata": {
        "id": "DSChwE_mmOK5"
      },
      "source": [
        "<img src=\"https://raw.githubusercontent.com/FUlyankin/r_probability/master/end_seminars/sem_5/pEbNtDxzx0Q.jpg\" height=\"500\" width=\"500\">"
      ]
    },
    {
      "cell_type": "code",
      "metadata": {
        "id": "Hp8UDFUtkdes"
      },
      "source": [],
      "execution_count": null,
      "outputs": []
    },
    {
      "cell_type": "code",
      "metadata": {
        "id": "gmeDazDPkdha"
      },
      "source": [],
      "execution_count": null,
      "outputs": []
    },
    {
      "cell_type": "code",
      "metadata": {
        "id": "WgNzMe-ukdkC"
      },
      "source": [],
      "execution_count": null,
      "outputs": []
    }
  ]
}