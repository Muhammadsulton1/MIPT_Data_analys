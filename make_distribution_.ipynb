{
  "nbformat": 4,
  "nbformat_minor": 0,
  "metadata": {
    "colab": {
      "provenance": [],
      "authorship_tag": "ABX9TyP0Izey+Ye4DjM3F+8eyggY",
      "include_colab_link": true
    },
    "kernelspec": {
      "name": "python3",
      "display_name": "Python 3"
    },
    "language_info": {
      "name": "python"
    }
  },
  "cells": [
    {
      "cell_type": "markdown",
      "metadata": {
        "id": "view-in-github",
        "colab_type": "text"
      },
      "source": [
        "<a href=\"https://colab.research.google.com/github/Muhammadsulton1/MIPT_Data_analys/blob/main/make_distribution_.ipynb\" target=\"_parent\"><img src=\"https://colab.research.google.com/assets/colab-badge.svg\" alt=\"Open In Colab\"/></a>"
      ]
    },
    {
      "cell_type": "markdown",
      "metadata": {
        "id": "K9KjlUvam-UU"
      },
      "source": [
        "#Упражнение номер 2"
      ]
    },
    {
      "cell_type": "code",
      "metadata": {
        "id": "QFpI5gF6nGES"
      },
      "source": [
        "from scipy import stats\n",
        "import numpy as np\n",
        "import matplotlib.pyplot as plt\n",
        "%matplotlib inline"
      ],
      "execution_count": null,
      "outputs": []
    },
    {
      "cell_type": "code",
      "source": [
        "n_obs = 10 ** 6\n",
        "\n",
        "uniform_rv = stats.norm(1,3).rvs(size=n_obs)\n",
        "\n",
        "plt.hist(uniform_rv, density = True, bins = 50);\n"
      ],
      "metadata": {
        "colab": {
          "base_uri": "https://localhost:8080/",
          "height": 265
        },
        "id": "HXSUmKetVuh1",
        "outputId": "0161cf89-cec3-4188-bf62-188a1ac3222e"
      },
      "execution_count": null,
      "outputs": [
        {
          "output_type": "display_data",
          "data": {
            "text/plain": [
              "<Figure size 432x288 with 1 Axes>"
            ],
            "image/png": "[encoded data removed]"
          },
          "metadata": {
            "needs_background": "light"
          }
        }
      ]
    },
    {
      "cell_type": "code",
      "metadata": {
        "id": "JFryUglVnB-S"
      },
      "source": [
        "n_obs = 10 ** 6\n",
        "\n",
        "uniform_rv = stats.uniform(1,2)\n",
        "expon_rv = stats.expon(scale = 1/0.3)\n",
        "\n",
        "T1 = uniform_rv.rvs(n_obs)\n",
        "T2 = uniform_rv.rvs(n_obs)\n",
        "\n",
        "server_T = expon_rv.rvs(n_obs)"
      ],
      "execution_count": null,
      "outputs": []
    },
    {
      "cell_type": "code",
      "metadata": {
        "id": "DxATlcENnCFb"
      },
      "source": [
        "pb = ((T1 < server_T ).sum() / n_obs) * ((T2 > server_T).sum() / n_obs)"
      ],
      "execution_count": null,
      "outputs": []
    },
    {
      "cell_type": "code",
      "metadata": {
        "id": "4J4klM4knCH6"
      },
      "source": [
        "pa = (server_T <= 1.5).sum() / n_obs"
      ],
      "execution_count": null,
      "outputs": []
    },
    {
      "cell_type": "code",
      "metadata": {
        "id": "7ufYDeU0nCKS"
      },
      "source": [
        "pba = ((T1 < server_T).sum() / n_obs) * ((T2 > server_T) & (server_T <= 1.5)).sum() / n_obs"
      ],
      "execution_count": null,
      "outputs": []
    },
    {
      "cell_type": "code",
      "metadata": {
        "id": "858XTGGO1ho3",
        "outputId": "3306851f-3887-4a13-d540-978c70f03afc",
        "colab": {
          "base_uri": "https://localhost:8080/"
        }
      },
      "source": [
        "pba"
      ],
      "execution_count": null,
      "outputs": [
        {
          "output_type": "execute_result",
          "data": {
            "text/plain": [
              "0.19491983763999998"
            ]
          },
          "metadata": {},
          "execution_count": 13
        }
      ]
    },
    {
      "cell_type": "code",
      "metadata": {
        "id": "yv1nHnCznCMs",
        "colab": {
          "base_uri": "https://localhost:8080/"
        },
        "outputId": "08188bc4-ffd2-4c8e-e40f-7356d27aa055"
      },
      "source": [
        "pba * pa / pb"
      ],
      "execution_count": null,
      "outputs": [
        {
          "output_type": "execute_result",
          "data": {
            "text/plain": [
              "0.28610328376044475"
            ]
          },
          "metadata": {},
          "execution_count": 12
        }
      ]
    },
    {
      "cell_type": "markdown",
      "metadata": {
        "id": "7pqugN_HtwnK"
      },
      "source": [
        "#Упражнение 3"
      ]
    },
    {
      "cell_type": "markdown",
      "metadata": {
        "id": "7bfF8aMB9pgg"
      },
      "source": [
        "1 вариант обратной функции"
      ]
    },
    {
      "cell_type": "code",
      "metadata": {
        "colab": {
          "base_uri": "https://localhost:8080/",
          "height": 282
        },
        "id": "w-lVmQeFtlgu",
        "outputId": "74690b9b-af9b-4b1c-9078-758865eb92a1"
      },
      "source": [
        "alpha = 2\n",
        "etta = 10\n",
        "\n",
        "uniform_rv_3 = stats.uniform(0,1)\n",
        "\n",
        "y = uniform_rv_3.rvs(n_obs)\n",
        "\n",
        "x = np.exp(np.log(etta) * y ** (1/alpha))\n",
        "\n",
        "plt.hist(x, density = True, bins = 50);\n",
        "print(np.mean(x))"
      ],
      "execution_count": null,
      "outputs": [
        {
          "output_type": "stream",
          "name": "stdout",
          "text": [
            "5.291323841361559\n"
          ]
        },
        {
          "output_type": "display_data",
          "data": {
            "image/png": "[encoded data removed]",
            "text/plain": [
              "<Figure size 432x288 with 1 Axes>"
            ]
          },
          "metadata": {
            "needs_background": "light"
          }
        }
      ]
    }
  ]
}