{
  "nbformat": 4,
  "nbformat_minor": 0,
  "metadata": {
    "colab": {
      "provenance": [],
      "authorship_tag": "ABX9TyMyghD1vdPNEJjwC+oq8ZYV",
      "include_colab_link": true
    },
    "kernelspec": {
      "name": "python3",
      "display_name": "Python 3"
    },
    "language_info": {
      "name": "python"
    }
  },
  "cells": [
    {
      "cell_type": "markdown",
      "metadata": {
        "id": "view-in-github",
        "colab_type": "text"
      },
      "source": [
        "<a href=\"https://colab.research.google.com/github/Muhammadsulton1/MIPT_Data_analys/blob/main/hw_MIPT_%D0%B0%D0%BD%D0%B0%D0%BB%D0%B8%D0%B7_%D0%B4%D0%B0%D0%BD%D0%BD%D1%8B%D1%85(%D0%B4%D0%BE%D0%B2%D0%B5%D1%80_%D0%B8%D0%BD%D1%82%D0%B5%D1%80%D0%B2%D0%B0%D0%BB%D1%8B).ipynb\" target=\"_parent\"><img src=\"https://colab.research.google.com/assets/colab-badge.svg\" alt=\"Open In Colab\"/></a>"
      ]
    },
    {
      "cell_type": "code",
      "metadata": {
        "id": "FcmhKCzX36hM"
      },
      "source": [
        "import numpy as np\n",
        "from scipy import stats as sts"
      ],
      "execution_count": null,
      "outputs": []
    },
    {
      "cell_type": "code",
      "metadata": {
        "id": "UhQXlm0C30gW"
      },
      "source": [
        "x = [10,12,15,18,25]\n",
        "y = [5,10,15,20,25]"
      ],
      "execution_count": null,
      "outputs": []
    },
    {
      "cell_type": "code",
      "metadata": {
        "colab": {
          "base_uri": "https://localhost:8080/"
        },
        "id": "cXmH0h0b_BF9",
        "outputId": "02b769c7-5239-4a5c-e328-9e7dd8506e68"
      },
      "source": [
        "nx = len(x)\n",
        "ny = len(y)\n",
        "print(nx,ny)"
      ],
      "execution_count": null,
      "outputs": [
        {
          "output_type": "stream",
          "name": "stdout",
          "text": [
            "5 5\n"
          ]
        }
      ]
    },
    {
      "cell_type": "code",
      "metadata": {
        "colab": {
          "base_uri": "https://localhost:8080/"
        },
        "id": "qoEbmVXU3-nm",
        "outputId": "f4d1865a-8e8c-4de9-a5d2-e6e640c56a19"
      },
      "source": [
        "x_mean = np.mean(x)\n",
        "y_mean = np.mean(y)\n",
        "print(x_mean,y_mean)"
      ],
      "execution_count": null,
      "outputs": [
        {
          "output_type": "stream",
          "name": "stdout",
          "text": [
            "16.0 15.0\n"
          ]
        }
      ]
    },
    {
      "cell_type": "markdown",
      "metadata": {
        "id": "HDYUTlYwrB3R"
      },
      "source": [
        "несмещенная  посчитанная вручную и посчитанная через np.var(ddof=1) являются одинаковыми"
      ]
    },
    {
      "cell_type": "code",
      "metadata": {
        "id": "wzkqSrng9-h2",
        "colab": {
          "base_uri": "https://localhost:8080/"
        },
        "outputId": "2b42bf29-fdda-40fe-a626-fcbe2e7842e8"
      },
      "source": [
        "# выборочная дисперсия\n",
        "a = ((10-16)**2+(12-16)**2+(15-16)**2+(18-16)**2+(25-16)**2) / 5\n",
        "a"
      ],
      "execution_count": null,
      "outputs": [
        {
          "output_type": "execute_result",
          "data": {
            "text/plain": [
              "27.6"
            ]
          },
          "metadata": {},
          "execution_count": 5
        }
      ]
    },
    {
      "cell_type": "code",
      "metadata": {
        "id": "58m1reJh-wj1"
      },
      "source": [
        "#(((5-10)**2+(10-15)**2+(15-15)**2+(20-15)**2 + (25-15)**2) / 5) * 0.81"
      ],
      "execution_count": null,
      "outputs": []
    },
    {
      "cell_type": "code",
      "metadata": {
        "colab": {
          "base_uri": "https://localhost:8080/"
        },
        "id": "LtTh4ZVI_ejE",
        "outputId": "d1bcc752-1629-4c55-f389-5e67ed4de78e"
      },
      "source": [
        "#исправельная выборочная дисперсия\n",
        "s2 = nx / (nx-1) * a\n",
        "s2"
      ],
      "execution_count": null,
      "outputs": [
        {
          "output_type": "execute_result",
          "data": {
            "text/plain": [
              "34.5"
            ]
          },
          "metadata": {},
          "execution_count": 7
        }
      ]
    },
    {
      "cell_type": "code",
      "metadata": {
        "colab": {
          "base_uri": "https://localhost:8080/"
        },
        "id": "WnaW6a-S9UD2",
        "outputId": "59dcc73b-5217-4930-db13-11b0d0714da4"
      },
      "source": [
        "#исправельная выборочная дисперсия\n",
        "sx = np.var(x,ddof=1)\n",
        "sy = 0.81 * sx\n",
        "sx"
      ],
      "execution_count": null,
      "outputs": [
        {
          "output_type": "execute_result",
          "data": {
            "text/plain": [
              "34.5"
            ]
          },
          "metadata": {},
          "execution_count": 8
        }
      ]
    },
    {
      "cell_type": "code",
      "metadata": {
        "colab": {
          "base_uri": "https://localhost:8080/"
        },
        "id": "vubkJgdRqlWB",
        "outputId": "47702e80-7c11-4ebf-9ce7-ee46c9aaeae1"
      },
      "source": [
        "sy"
      ],
      "execution_count": null,
      "outputs": [
        {
          "output_type": "execute_result",
          "data": {
            "text/plain": [
              "27.945"
            ]
          },
          "metadata": {},
          "execution_count": 9
        }
      ]
    },
    {
      "cell_type": "markdown",
      "metadata": {
        "id": "-_3O1qPh2-v5"
      },
      "source": [
        "Доверительный интервал для разности  мат ожиданий при известных дисперсиях\n",
        "1) Найдите реализацию 60%-го доверительного интервала для математического ожидания дневной выручки фирмы"
      ]
    },
    {
      "cell_type": "code",
      "metadata": {
        "colab": {
          "base_uri": "https://localhost:8080/"
        },
        "id": "pLJ-sZp_3HYW",
        "outputId": "2e7ba1ac-5f3b-4bd5-858e-4f290b1d1f31"
      },
      "source": [
        "alpha = 0.4\n",
        "norm_rv = sts.norm()\n",
        "z_crit = norm_rv.ppf(1 - alpha / 2)\n",
        "\n",
        "left = x_mean - z_crit * np.sqrt(sx / nx)\n",
        "right = x_mean + z_crit * np.sqrt(sx / nx)\n",
        "\n",
        "print(\"Доверительный интервал [{:.4}; {:.4}] ширины {:.4}\" \\\n",
        "      .format(left, right, right - left))"
      ],
      "execution_count": null,
      "outputs": [
        {
          "output_type": "stream",
          "name": "stdout",
          "text": [
            "Доверительный интервал [13.79; 18.21] ширины 4.422\n"
          ]
        }
      ]
    },
    {
      "cell_type": "markdown",
      "metadata": {
        "id": "NnXlGvCw5Nc5"
      },
      "source": [
        "2. Повторите предыдущий пункт принимая во внимание то, что  𝜎^2𝑋=30  (не распространяется на последующие пункты)."
      ]
    },
    {
      "cell_type": "code",
      "metadata": {
        "colab": {
          "base_uri": "https://localhost:8080/"
        },
        "id": "OATZiiaK4sYB",
        "outputId": "27e5558a-05bd-4300-e1e7-99a0a764f206"
      },
      "source": [
        "sx = 30\n",
        "alpha = 0.4\n",
        "norm_rv = sts.norm()\n",
        "z_crit = norm_rv.ppf(1 - alpha / 2)\n",
        "\n",
        "left = x_mean - z_crit * np.sqrt(sx / nx)\n",
        "right = x_mean + z_crit * np.sqrt(sx / nx)\n",
        "print(\"Доверительный интервал [{:.4}; {:.4}] ширины {:.4}\" \\\n",
        "      .format(left, right, right - left))"
      ],
      "execution_count": null,
      "outputs": [
        {
          "output_type": "stream",
          "name": "stdout",
          "text": [
            "Доверительный интервал [13.94; 18.06] ширины 4.123\n"
          ]
        }
      ]
    },
    {
      "cell_type": "markdown",
      "metadata": {
        "id": "Ga3UEjC75ZWe"
      },
      "source": [
        "3.Найдите реализацию 60%-го доверительного интервала для стандартного отклонения дневной выручки фирмы."
      ]
    },
    {
      "cell_type": "code",
      "metadata": {
        "colab": {
          "base_uri": "https://localhost:8080/"
        },
        "id": "RcokTzHx5XbR",
        "outputId": "24d3e68f-86d0-40e6-b8e1-04ee5ed2a2b5"
      },
      "source": [
        "alpha = 0.4    # для 60% доверительного интервала\n",
        "\n",
        "sx = np.var(x,ddof=1)\n",
        "chi_l, chi_u = sts.chi2.ppf([1-alpha/2, alpha/2], df = nx - 1)\n",
        "\n",
        "left = (nx - 1) * sx/chi_l\n",
        "right = (nx - 1) * sx/chi_u\n",
        "\n",
        "print(\"Доверительный интервал [{:.5}; {:.5}] ширины {:.5}\" \\\n",
        "      .format(left, right, right - left))"
      ],
      "execution_count": null,
      "outputs": [
        {
          "output_type": "stream",
          "name": "stdout",
          "text": [
            "Доверительный интервал [23.044; 83.698] ширины 60.655\n"
          ]
        }
      ]
    },
    {
      "cell_type": "markdown",
      "metadata": {
        "id": "6UZGM9etw-Mw"
      },
      "source": [
        "4) Найдите реализацию 60%-го доверительного интервала для математического ожидания прибыли фирмы, учитывая, что помимо указанных выше издержек она выплачивает налог в размере 10% от выручки."
      ]
    },
    {
      "cell_type": "code",
      "metadata": {
        "id": "kB8pbACEwqoB"
      },
      "source": [
        "x1 = np.array(x)\n",
        "y1 = np.array(y)\n",
        "vizuchka = x1 - x1*0.1"
      ],
      "execution_count": null,
      "outputs": []
    },
    {
      "cell_type": "code",
      "metadata": {
        "colab": {
          "base_uri": "https://localhost:8080/"
        },
        "id": "ojcega02ympO",
        "outputId": "09743806-c273-4ecd-b747-986be6ad41d2"
      },
      "source": [
        "#считаем прибыль по формуле выручка - издержки\n",
        "pf = vizuchka - y1\n",
        "pf"
      ],
      "execution_count": null,
      "outputs": [
        {
          "output_type": "execute_result",
          "data": {
            "text/plain": [
              "array([ 4. ,  0.8, -1.5, -3.8, -2.5])"
            ]
          },
          "metadata": {},
          "execution_count": 19
        }
      ]
    },
    {
      "cell_type": "code",
      "metadata": {
        "colab": {
          "base_uri": "https://localhost:8080/"
        },
        "id": "P5wfQLeJzGJP",
        "outputId": "669ce163-e794-4230-c8dd-b377a49b47f7"
      },
      "source": [
        "pf_mean = np.mean(pf)\n",
        "sp = np.var(pf,ddof=1)\n",
        "pf_mean,sp"
      ],
      "execution_count": null,
      "outputs": [
        {
          "output_type": "execute_result",
          "data": {
            "text/plain": [
              "(-0.6, 9.445)"
            ]
          },
          "metadata": {},
          "execution_count": 26
        }
      ]
    },
    {
      "cell_type": "code",
      "metadata": {
        "colab": {
          "base_uri": "https://localhost:8080/"
        },
        "id": "gfvbnUfLz-wY",
        "outputId": "d37b1f7c-cd34-4da5-f2b0-833f1e87b78d"
      },
      "source": [
        "alpha = 0.4\n",
        "\n",
        "z_crit = norm_rv.ppf(1 - alpha / 2)\n",
        "\n",
        "left = (pf_mean - y_mean) - z_crit * np.sqrt((sp/nx) + (sy/ny))\n",
        "right = (pf_mean - y_mean) + z_crit * np.sqrt((sp/nx) + (sy/ny))\n",
        "\n",
        "print(\"Доверительный интервал [{:.4}; {:.4}] ширины {:.4}\" \\\n",
        "      .format(left, right, right - left))"
      ],
      "execution_count": null,
      "outputs": [
        {
          "output_type": "stream",
          "name": "stdout",
          "text": [
            "Доверительный интервал [-17.9; -13.3] ширины 4.603\n"
          ]
        }
      ]
    },
    {
      "cell_type": "markdown",
      "metadata": {
        "id": "gXzdFMHr1fPC"
      },
      "source": [
        "5) Повторите предыдущий пункт учитывая, что  𝜎2𝑌=50  (не распространяется на последующие пункты)."
      ]
    },
    {
      "cell_type": "code",
      "metadata": {
        "colab": {
          "base_uri": "https://localhost:8080/"
        },
        "id": "ctonTBfm1FiF",
        "outputId": "8283f797-fb03-4e58-d828-bcb24c91f7de"
      },
      "source": [
        "alpha = 0.4\n",
        "sy = 50\n",
        "\n",
        "z_crit = norm_rv.ppf(1 - alpha / 2)\n",
        "\n",
        "left = (pf_mean - y_mean) - z_crit * np.sqrt((sp/nx) + (sy/ny))\n",
        "right = (pf_mean - y_mean) + z_crit * np.sqrt((sp/nx) + (sy/ny))\n",
        "\n",
        "print(\"Доверительный интервал [{:.4}; {:.4}] ширины {:.4}\" \\\n",
        "      .format(left, right, right - left))"
      ],
      "execution_count": null,
      "outputs": [
        {
          "output_type": "stream",
          "name": "stdout",
          "text": [
            "Доверительный интервал [-18.5; -12.7] ширины 5.804\n"
          ]
        }
      ]
    },
    {
      "cell_type": "code",
      "metadata": {
        "id": "hPA7BEf61pES"
      },
      "source": [],
      "execution_count": null,
      "outputs": []
    }
  ]
}