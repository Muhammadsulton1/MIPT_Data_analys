{
  "cells": [
    {
      "cell_type": "markdown",
      "metadata": {
        "id": "view-in-github",
        "colab_type": "text"
      },
      "source": [
        "<a href=\"https://colab.research.google.com/github/Muhammadsulton1/MIPT_Data_analys/blob/main/Lesson7_A_B_Test.ipynb\" target=\"_parent\"><img src=\"https://colab.research.google.com/assets/colab-badge.svg\" alt=\"Open In Colab\"/></a>"
      ]
    },
    {
      "cell_type": "markdown",
      "id": "c890ef1c-aadf-432a-a4cb-dcbc2838dfdf",
      "metadata": {
        "id": "c890ef1c-aadf-432a-a4cb-dcbc2838dfdf"
      },
      "source": [
        "Семинар 7 (неделя 8): A/B-тестирование\n",
        "====="
      ]
    },
    {
      "cell_type": "code",
      "execution_count": null,
      "id": "f1b5ae7c-70d3-44e4-a7c6-961f0b1cbaac",
      "metadata": {
        "id": "f1b5ae7c-70d3-44e4-a7c6-961f0b1cbaac"
      },
      "outputs": [],
      "source": [
        "# Импорт библиотек для работы со статистикой\n",
        "import numpy as np\n",
        "import pandas as pd\n",
        "import scipy.stats as sts\n",
        "import statsmodels as stm\n",
        "\n",
        "\n",
        "# Импорт библиотек для построения графиков\n",
        "import matplotlib.pyplot as plt\n",
        "import seaborn as sns\n",
        "\n",
        "# Стиль для графиков\n",
        "plt.style.use('ggplot')\n",
        "%matplotlib inline"
      ]
    },
    {
      "cell_type": "markdown",
      "id": "79b8b51d-8d9f-46a2-b599-e8d3bba23885",
      "metadata": {
        "id": "79b8b51d-8d9f-46a2-b599-e8d3bba23885"
      },
      "source": [
        "## 1. A/B тест в мобильной игре (Коты и печеньки)\n",
        "\n",
        "Посмотрим на данные одной мобильной игры под названием \"Cookie Cats\", разработанной компанией Tactile Entertainment. Это стандартный match-three пазл, где игрокам нужно соединять элементы одинаковых цветов, чтобы очистить поле и выиграть на уровне.\n",
        "\n",
        "По мере того, как игроки проходят уровни, они встречают ворота-блокеры, которые вынуждают их либо ждать длительное время, либо совершить внутриигровую покупку, чтобы продолжить играть. Помимо того, что эти ворота приносят разработчикам деньги от покупок, они еще и вынуждают игроков делать перерыв, в надежде на то, что те вернутся с новыми силами и снова начнут получать удовольствие от котиков.\n",
        "\n",
        "Но возникает вопрос - когда и где ставить эти ворота? Изначально первые ворота стояли на 30-м уровне игры, однако в этом ноутбуке мы будем анализировать АБ-тест, в котором разработчики передвинули ворота на 40-й уровень. В частности мы будем смотреть влияние этого изменения на такой важный показатель как \"retention\" или удержание игроков, который расчитывается как отношение уникальных игроков, зашедших в игру на 1-й, 2-й, ... N-й день после установки ко всем игрокам, установившим приложение в этот день."
      ]
    },
    {
      "cell_type": "code",
      "execution_count": null,
      "id": "3e7d3740-9543-43a1-811c-ecf884d291d8",
      "metadata": {
        "id": "3e7d3740-9543-43a1-811c-ecf884d291d8",
        "outputId": "cb59bcac-9845-4519-c4f8-625a8a301e2e"
      },
      "outputs": [
        {
          "name": "stdout",
          "output_type": "stream",
          "text": [
            "(90189, 5)\n"
          ]
        },
        {
          "data": {
            "text/html": [
              "<div>\n",
              "<style scoped>\n",
              "    .dataframe tbody tr th:only-of-type {\n",
              "        vertical-align: middle;\n",
              "    }\n",
              "\n",
              "    .dataframe tbody tr th {\n",
              "        vertical-align: top;\n",
              "    }\n",
              "\n",
              "    .dataframe thead th {\n",
              "        text-align: right;\n",
              "    }\n",
              "</style>\n",
              "<table border=\"1\" class=\"dataframe\">\n",
              "  <thead>\n",
              "    <tr style=\"text-align: right;\">\n",
              "      <th></th>\n",
              "      <th>userid</th>\n",
              "      <th>version</th>\n",
              "      <th>sum_gamerounds</th>\n",
              "      <th>retention_1</th>\n",
              "      <th>retention_7</th>\n",
              "    </tr>\n",
              "  </thead>\n",
              "  <tbody>\n",
              "    <tr>\n",
              "      <th>0</th>\n",
              "      <td>116</td>\n",
              "      <td>gate_30</td>\n",
              "      <td>3</td>\n",
              "      <td>False</td>\n",
              "      <td>False</td>\n",
              "    </tr>\n",
              "    <tr>\n",
              "      <th>1</th>\n",
              "      <td>337</td>\n",
              "      <td>gate_30</td>\n",
              "      <td>38</td>\n",
              "      <td>True</td>\n",
              "      <td>False</td>\n",
              "    </tr>\n",
              "    <tr>\n",
              "      <th>2</th>\n",
              "      <td>377</td>\n",
              "      <td>gate_40</td>\n",
              "      <td>165</td>\n",
              "      <td>True</td>\n",
              "      <td>False</td>\n",
              "    </tr>\n",
              "    <tr>\n",
              "      <th>3</th>\n",
              "      <td>483</td>\n",
              "      <td>gate_40</td>\n",
              "      <td>1</td>\n",
              "      <td>False</td>\n",
              "      <td>False</td>\n",
              "    </tr>\n",
              "    <tr>\n",
              "      <th>4</th>\n",
              "      <td>488</td>\n",
              "      <td>gate_40</td>\n",
              "      <td>179</td>\n",
              "      <td>True</td>\n",
              "      <td>True</td>\n",
              "    </tr>\n",
              "  </tbody>\n",
              "</table>\n",
              "</div>"
            ],
            "text/plain": [
              "   userid  version  sum_gamerounds  retention_1  retention_7\n",
              "0     116  gate_30               3        False        False\n",
              "1     337  gate_30              38         True        False\n",
              "2     377  gate_40             165         True        False\n",
              "3     483  gate_40               1        False        False\n",
              "4     488  gate_40             179         True         True"
            ]
          },
          "execution_count": 2,
          "metadata": {},
          "output_type": "execute_result"
        }
      ],
      "source": [
        "df = pd.read_csv('cookie_cats.csv', sep=\";\")\n",
        "print(df.shape)\n",
        "df.head()"
      ]
    },
    {
      "cell_type": "markdown",
      "id": "06f591ef-0fd3-4ed3-b352-5a0d5e968f42",
      "metadata": {
        "id": "06f591ef-0fd3-4ed3-b352-5a0d5e968f42"
      },
      "source": [
        "Описание колонок:\n",
        "\n",
        "__userid__ - уникальный номер, идентифицирующий каждого игрока.\n",
        "__version__ - был ли пользователь отнесен к контрольной группе (gate_30 - ворота на 30-м уровне) или к тестовой (gate_40 - ворота на 40-м уровне).\n",
        "__sum_gamerounds__ - число сессий, сыгранных игроком в течение первых 14 дней после установки игры.\n",
        "__retention_1__ - вернулся ли игрок после первого дня с момента установки?\n",
        "__retention_7__ - вернулся ли игрок после седьмого дня с момента установки?\n",
        "\n",
        "Когда игрок устанавливает игру, он/она случайным образом относятся либо к группе gate_30, либо gate_40. На всякий случай, давайте проверим, действительно ли их примерно поровну в каждой из группу."
      ]
    },
    {
      "cell_type": "code",
      "execution_count": null,
      "id": "0db57afd-c720-46cc-a598-1a49414d4c81",
      "metadata": {
        "id": "0db57afd-c720-46cc-a598-1a49414d4c81",
        "outputId": "f862774b-16a3-4388-9db7-f94501b72b32"
      },
      "outputs": [
        {
          "data": {
            "text/plain": [
              "version\n",
              "gate_30    44700\n",
              "gate_40    45489\n",
              "Name: userid, dtype: int64"
            ]
          },
          "execution_count": 5,
          "metadata": {},
          "output_type": "execute_result"
        }
      ],
      "source": [
        "df.groupby('version')['userid'].count()"
      ]
    },
    {
      "cell_type": "markdown",
      "id": "68e57780-5ad3-40d6-a056-b718a3d1ce90",
      "metadata": {
        "id": "68e57780-5ad3-40d6-a056-b718a3d1ce90"
      },
      "source": [
        "Похоже, что игроков действительно примерно поровну в каждой из групп, отлично!\n",
        "\n",
        "Фокус нашего анализа будет сосредоточен на удержании игроков (retention), но ради интереса давайте построим распределение числа игровых сессий, сыгранных игроками в течение их первой недели жизни в игре."
      ]
    },
    {
      "cell_type": "code",
      "execution_count": null,
      "id": "0ad221e6-4093-4aa0-91e8-d6fd94c01f74",
      "metadata": {
        "id": "0ad221e6-4093-4aa0-91e8-d6fd94c01f74",
        "outputId": "ec52f269-1e78-4965-a1dd-d421f17d7003"
      },
      "outputs": [
        {
          "data": {
            "image/png": "[encoded data removed]",
            "text/plain": [
              "<Figure size 432x288 with 1 Axes>"
            ]
          },
          "metadata": {
            "needs_background": "light"
          },
          "output_type": "display_data"
        }
      ],
      "source": [
        "# Считаем число игроков, оставшееся в игре для каждого раунда\n",
        "plot_df = df.groupby('sum_gamerounds')['userid'].count()\n",
        "\n",
        "ax = plot_df.head(100).plot()\n",
        "ax.set_xlabel(\"Число сыгранных раундов\")\n",
        "ax.set_ylabel(\"Число игроков\");"
      ]
    },
    {
      "cell_type": "markdown",
      "id": "71508544-7c61-47ca-89c9-a76c6c88a3a2",
      "metadata": {
        "id": "71508544-7c61-47ca-89c9-a76c6c88a3a2"
      },
      "source": [
        "На графике вверху мы видим, что некоторые игроки установили игру, но даже ни разу не поиграли (0 сессий), многие игроки закончили лишь пару сессий за первую неделю, а некоторые действительно подсели и сыграли более 80 раз!\n",
        "\n",
        "Конечно, мы хотим, чтобы игроки были заинтересованы в игре и возвращались в неё снова и снова. Обычная метрика, использующаяся в игровой индустрии, чтобы измерить, насколько игра веселая и захватывающая, - это удержание первого дня (1-day retention): Процент игроков, которые вренулись и снова стали играть спустя 1 день после установки. Чем выше удержание первого дня, тем проще и дальше удерживать пользователей и строить себе большую базу фанатов."
      ]
    },
    {
      "cell_type": "markdown",
      "id": "85e52cb0-b755-40bf-b0af-19ff4e9f7ae2",
      "metadata": {
        "id": "85e52cb0-b755-40bf-b0af-19ff4e9f7ae2"
      },
      "source": [
        "## Удержание первого дня (1-day retention)\n",
        "\n",
        "Посмотрим как выглядит удержание 1 дня:"
      ]
    },
    {
      "cell_type": "code",
      "execution_count": null,
      "id": "1982668d-af9c-4518-88f5-af312a07ae24",
      "metadata": {
        "id": "1982668d-af9c-4518-88f5-af312a07ae24",
        "outputId": "c9ce0fe8-1e55-475f-c17a-03a02ca9649c"
      },
      "outputs": [
        {
          "data": {
            "text/plain": [
              "0.4452095044850259"
            ]
          },
          "execution_count": 7,
          "metadata": {},
          "output_type": "execute_result"
        }
      ],
      "source": [
        "df.retention_1.mean()"
      ]
    },
    {
      "cell_type": "markdown",
      "id": "d68ccf9a-51b1-472c-8ee1-13d09918a5d3",
      "metadata": {
        "id": "d68ccf9a-51b1-472c-8ee1-13d09918a5d3"
      },
      "source": [
        "А теперь по группам."
      ]
    },
    {
      "cell_type": "code",
      "execution_count": null,
      "id": "9fefc96b-1d15-427e-9a68-d183538e59f9",
      "metadata": {
        "id": "9fefc96b-1d15-427e-9a68-d183538e59f9",
        "outputId": "48d57bfa-8c56-42e2-d6b4-9527815fbfac"
      },
      "outputs": [
        {
          "data": {
            "text/plain": [
              "version\n",
              "gate_30    0.448188\n",
              "gate_40    0.442283\n",
              "Name: retention_1, dtype: float64"
            ]
          },
          "execution_count": 8,
          "metadata": {},
          "output_type": "execute_result"
        }
      ],
      "source": [
        "df.groupby('version').retention_1.mean()"
      ]
    },
    {
      "cell_type": "markdown",
      "id": "c4826448-724d-4eb6-881a-7a6b699168dc",
      "metadata": {
        "id": "c4826448-724d-4eb6-881a-7a6b699168dc"
      },
      "source": [
        "Похоже, что у нас есть небольшое ухудшение в удержании первого дня, если мы двигаем ворота к сороковому уровню (44.2%) в сравнении с контрольной группой, где ворота остались на 30-м уровне (44.8%). Разница, конечно, невелика, но даже маленькие изменения в удержании могут иметь значительные последствия. Давайте проверим значимость этого эффекта. Будем использовать тест о равенстве долей:\n",
        "\n",
        "$$\n",
        "H_0: p_{40} = p_{30} \\\\\n",
        "H_1: p_{40} < p_{30}\n",
        "$$\n",
        "\n",
        "> __Предпосылки:__ нет выбросов, много наблюдений. Наблюдения независимы. Тогда сможем использовать ЦПТ."
      ]
    },
    {
      "cell_type": "code",
      "execution_count": null,
      "id": "7f65aaf6-be0f-46c1-b72c-ad3c0c0e6833",
      "metadata": {
        "id": "7f65aaf6-be0f-46c1-b72c-ad3c0c0e6833",
        "outputId": "45b9b279-ea0d-48bd-c7ef-77f2172801d1"
      },
      "outputs": [
        {
          "data": {
            "text/html": [
              "<div>\n",
              "<style scoped>\n",
              "    .dataframe tbody tr th:only-of-type {\n",
              "        vertical-align: middle;\n",
              "    }\n",
              "\n",
              "    .dataframe tbody tr th {\n",
              "        vertical-align: top;\n",
              "    }\n",
              "\n",
              "    .dataframe thead th {\n",
              "        text-align: right;\n",
              "    }\n",
              "</style>\n",
              "<table border=\"1\" class=\"dataframe\">\n",
              "  <thead>\n",
              "    <tr style=\"text-align: right;\">\n",
              "      <th></th>\n",
              "      <th>sum</th>\n",
              "      <th>count</th>\n",
              "      <th>mean</th>\n",
              "    </tr>\n",
              "    <tr>\n",
              "      <th>version</th>\n",
              "      <th></th>\n",
              "      <th></th>\n",
              "      <th></th>\n",
              "    </tr>\n",
              "  </thead>\n",
              "  <tbody>\n",
              "    <tr>\n",
              "      <th>gate_30</th>\n",
              "      <td>20034</td>\n",
              "      <td>44700</td>\n",
              "      <td>0.448188</td>\n",
              "    </tr>\n",
              "    <tr>\n",
              "      <th>gate_40</th>\n",
              "      <td>20119</td>\n",
              "      <td>45489</td>\n",
              "      <td>0.442283</td>\n",
              "    </tr>\n",
              "  </tbody>\n",
              "</table>\n",
              "</div>"
            ],
            "text/plain": [
              "           sum  count      mean\n",
              "version                        \n",
              "gate_30  20034  44700  0.448188\n",
              "gate_40  20119  45489  0.442283"
            ]
          },
          "execution_count": 11,
          "metadata": {},
          "output_type": "execute_result"
        }
      ],
      "source": [
        "from statsmodels.stats.proportion import proportions_ztest\n",
        "\n",
        "alpha = 0.05    # уровень значимости = 5%\n",
        "\n",
        "df_agg = df.groupby('version').retention_1.agg(['sum', 'count', 'mean'])\n",
        "df_agg"
      ]
    },
    {
      "cell_type": "code",
      "execution_count": null,
      "id": "413a2217-b049-45e2-a92b-1c82095f6e21",
      "metadata": {
        "id": "413a2217-b049-45e2-a92b-1c82095f6e21",
        "outputId": "ad99a371-9c29-498f-cdb1-ddfd35d8a4d7"
      },
      "outputs": [
        {
          "data": {
            "text/plain": [
              "array([44700, 45489])"
            ]
          },
          "execution_count": 10,
          "metadata": {},
          "output_type": "execute_result"
        }
      ],
      "source": [
        "n_obs = df_agg['count'].values  # размеры выборок\n",
        "n_obs"
      ]
    },
    {
      "cell_type": "code",
      "execution_count": null,
      "id": "a6fa943e-403c-4314-a3a8-96e37cbdaad6",
      "metadata": {
        "id": "a6fa943e-403c-4314-a3a8-96e37cbdaad6",
        "outputId": "9fdfab43-8ee5-4371-cab8-f4e9a6847411"
      },
      "outputs": [
        {
          "name": "stdout",
          "output_type": "stream",
          "text": [
            "Наблюдаемое значение статистики: 1.78\n",
            "P-значение: 0.0372\n"
          ]
        }
      ],
      "source": [
        "m_obs = df_agg['sum'].values    # число успехов\n",
        "p_obs = df_agg['mean'].values   # доли\n",
        "\n",
        "z_obs, p_val =  proportions_ztest(m_obs,\n",
        "                                  n_obs,\n",
        "                                  value=0,\n",
        "                                  alternative='larger')\n",
        "\n",
        "print(f\"Наблюдаемое значение статистики: {z_obs:.3}\")\n",
        "print(f\"P-значение: {p_val:.3}\")"
      ]
    },
    {
      "cell_type": "markdown",
      "id": "313e37e7-09e0-464d-8ffe-066820c99f55",
      "metadata": {
        "id": "313e37e7-09e0-464d-8ffe-066820c99f55"
      },
      "source": [
        "Гипотеза о равенсве долей отвергается на $5\\%$ уровне значимости. Посмотрим на оценку мощности этого эксперимента."
      ]
    },
    {
      "cell_type": "code",
      "execution_count": null,
      "id": "470a310d-d6dc-4b05-93fb-09b1389ff8f0",
      "metadata": {
        "id": "470a310d-d6dc-4b05-93fb-09b1389ff8f0",
        "outputId": "a4b91c16-c297-49a0-c723-28eac2af0d57"
      },
      "outputs": [
        {
          "data": {
            "text/plain": [
              "0.01188210610259806"
            ]
          },
          "execution_count": 13,
          "metadata": {},
          "output_type": "execute_result"
        }
      ],
      "source": [
        "n_30, n_40 = n_obs  # размеры выборок\n",
        "p_30, p_40 = p_obs  # доли\n",
        "\n",
        "# дисперсии\n",
        "var_40, var_30 = p_40 * (1 - p_40), p_30 * (1 - p_30)\n",
        "\n",
        "# стандартизированный размер эффекта\n",
        "effect = (p_30 - p_40) / ((n_40* np.sqrt(var_40) + n_30 * np.sqrt(var_30)) / (n_40 + n_30))\n",
        "effect"
      ]
    },
    {
      "cell_type": "code",
      "execution_count": null,
      "id": "56fbc0ba-dd59-447c-85a0-e236872c9daa",
      "metadata": {
        "id": "56fbc0ba-dd59-447c-85a0-e236872c9daa",
        "outputId": "5421a835-721c-451a-c8df-94becb92b2e7"
      },
      "outputs": [
        {
          "data": {
            "text/plain": [
              "1.0176510067114093"
            ]
          },
          "execution_count": 14,
          "metadata": {},
          "output_type": "execute_result"
        }
      ],
      "source": [
        "n_obs[1]/n_obs[0]"
      ]
    },
    {
      "cell_type": "code",
      "execution_count": null,
      "id": "39dcd820-39f5-4bcd-bdd7-7eb7e73d0cbf",
      "metadata": {
        "id": "39dcd820-39f5-4bcd-bdd7-7eb7e73d0cbf",
        "outputId": "f8cd51c2-a1c9-4579-e4d5-4b60e03f3f8b"
      },
      "outputs": [
        {
          "data": {
            "text/plain": [
              "0.8131005106557109"
            ]
          },
          "execution_count": 15,
          "metadata": {},
          "output_type": "execute_result"
        }
      ],
      "source": [
        "from statsmodels.stats.power import zt_ind_solve_power\n",
        "\n",
        "zt_ind_solve_power(effect_size=effect,\n",
        "                   nobs1=sum(n_obs),\n",
        "                   alpha=0.05,\n",
        "                   power=None,\n",
        "                   ratio=n_obs[1]/n_obs[0],\n",
        "                   alternative='larger')"
      ]
    },
    {
      "cell_type": "markdown",
      "id": "254c8e07-9ff5-4189-ac36-74d940e39daa",
      "metadata": {
        "id": "254c8e07-9ff5-4189-ac36-74d940e39daa"
      },
      "source": [
        "## Удержание седьмого дня (1-day retention)\n",
        "\n",
        "Cпустя неделю после установки, уже больше игроков пройдут 40 уровней, поэтому имеет смысл посмотреть на удержание седьмого дня. Т.е., какой процент людей, установивших игру, снова показался в игре через 7 дней."
      ]
    },
    {
      "cell_type": "code",
      "execution_count": null,
      "id": "a0420c3e-a93f-4555-a9ac-3cd09f4d264a",
      "metadata": {
        "id": "a0420c3e-a93f-4555-a9ac-3cd09f4d264a",
        "outputId": "8b84a374-1bec-4ea1-a89b-3bb8561a8155"
      },
      "outputs": [
        {
          "data": {
            "text/plain": [
              "version\n",
              "gate_30    0.190201\n",
              "gate_40    0.182000\n",
              "Name: retention_7, dtype: float64"
            ]
          },
          "execution_count": 16,
          "metadata": {},
          "output_type": "execute_result"
        }
      ],
      "source": [
        "df.groupby('version').retention_7.mean()"
      ]
    },
    {
      "cell_type": "markdown",
      "id": "daa1fa8d-842f-4617-8c8c-273ad7109acf",
      "metadata": {
        "id": "daa1fa8d-842f-4617-8c8c-273ad7109acf"
      },
      "source": [
        "Как и с 1-day retention, мы видим, что 7-day retention немного ниже (18.2%), когда ворота находятся на 40-м уровне, чем на 30-м (19.0%). Эта разница также выше, чем для удержания первого дня, скорее всего из-за того, что игроки имели больше времени на то, чтобы столкнуться с первыми воротами. Мы также видим, что удержание 7-го дня в целом ниже, чем удержание 1-го - спустя неделю намного меньше людей всё ещё заходит в игру. По-прежнему возникает вопрос: а значима ли эта разница?"
      ]
    },
    {
      "cell_type": "code",
      "execution_count": null,
      "id": "56b8d93c-2443-4c23-9d9a-cc73d64a6208",
      "metadata": {
        "id": "56b8d93c-2443-4c23-9d9a-cc73d64a6208",
        "outputId": "7b1537e8-7960-40e9-f40a-e23ee41356bc"
      },
      "outputs": [
        {
          "name": "stdout",
          "output_type": "stream",
          "text": [
            "Наблюдаемое значение статистики: 3.16\n",
            "P-значение: 0.000777\n"
          ]
        }
      ],
      "source": [
        "from statsmodels.stats.proportion import proportions_ztest\n",
        "\n",
        "alpha = 0.05                    # уровень значимости = 5%\n",
        "\n",
        "df_agg = df.groupby('version').retention_7.agg(['sum', 'count', 'mean'])\n",
        "\n",
        "n_obs = df_agg['count'].values  # размеры выборок\n",
        "m_obs = df_agg['sum'].values    # число успехов\n",
        "p_obs = df_agg['mean'].values   # доли\n",
        "\n",
        "z_obs, p_val =  proportions_ztest(m_obs, n_obs, value=0, alternative='larger')\n",
        "\n",
        "print(f\"Наблюдаемое значение статистики: {z_obs:.3}\")\n",
        "print(f\"P-значение: {p_val:.3}\")"
      ]
    },
    {
      "cell_type": "markdown",
      "id": "26a3fe4e-05c7-44e8-90cc-86755c1d945d",
      "metadata": {
        "id": "26a3fe4e-05c7-44e8-90cc-86755c1d945d"
      },
      "source": [
        "Видим, что разница сильно значима. Для 7-дневного удержания произойдёт довольно мощный обвал."
      ]
    },
    {
      "cell_type": "markdown",
      "id": "5d4b810b-6eb9-4096-9234-dbcd68509930",
      "metadata": {
        "id": "5d4b810b-6eb9-4096-9234-dbcd68509930"
      },
      "source": [
        "## Выводы\n",
        "\n",
        "Итак, результаты АБ-теста говорят нам о том, что есть значительное доказательство превышения 7-day retention в группе с воротами на 30-м уровне над группой с воротами на 40-м. Значит, если мы хотим поддерживать удержание клиентов на высоком уровне и иметь большее число игроков, нам не нужно сдвигать ворота с 30-го на 40-й уровень.\n",
        "\n",
        "Так почему же удержание выше, когда ворота расположены раньше? Логично было бы ожидать обратной ситуации - чем позже ставится препятствие, тем дольше игроки будут взаимодействовать с игрой. Однако это не то, что мы видим в данных. Теория гедонистической адаптации может помочь с объяснением. Если вкратце, гедонистическая адаптация - это тенденция получать всё меньше и меньше удовольствия от деятельности, если она продолжается длительное время. Заставляя игроков сделать паузу, когда они достигают 30-го уровня, мы продлеваем им удовольствие от игры, в результате чего они хотят в неё возвращаться. И напротив, сдвигая ворота к 40-му уровню мы даем игрокам возможность наиграться и просто заскучать.\n",
        "\n",
        "> __Вопрос:__ что мы сделали неправильно?\n",
        "\n",
        "> __Ответ:__ при проведении эксперимента и проверке гипотезы мы никак не учитываем, что часть игроков вообще могла не дойти до ворот. Такие люди не остались в игре по каким-то иным причинам, не связанным с воротами. Если бы у нас были данные, связанные с этим, нам нужно было бы отфильтровать пользователей, которые не дошли в первый день до 30-го уровня."
      ]
    },
    {
      "cell_type": "markdown",
      "id": "803f9318-9815-4c46-ae83-56ac26e53a4b",
      "metadata": {
        "id": "803f9318-9815-4c46-ae83-56ac26e53a4b"
      },
      "source": [
        "---\n",
        "---"
      ]
    },
    {
      "cell_type": "markdown",
      "id": "3ca076d5-1ed0-4c3b-89ee-1208191c1b27",
      "metadata": {
        "id": "3ca076d5-1ed0-4c3b-89ee-1208191c1b27"
      },
      "source": [
        "## 2. Необходимое количество наблюдений\n",
        "\n",
        "У нас есть две кнопки: старая и новая. Мы хотим проверить гипотезу о том, что доля нажатий по обеим кнопкам совпадает. В качестве альтернативы рассматриваем вариант, что новый дизайн кнопки оказался лучше и нажать на неё хочется больше.\n",
        "\n",
        "Величины $p_0$ и $p_a$ мы оцениваем, как отношение кликов на кнопку к показам в контрольной группе и в тестовой группе. Число наблюдений, которое нам необходимо, в таком случае, можно найти по формуле:\n",
        "\n"
      ]
    },
    {
      "cell_type": "markdown",
      "id": "25000951-6ef9-4cab-bda2-06348c6c1cce",
      "metadata": {
        "id": "25000951-6ef9-4cab-bda2-06348c6c1cce"
      },
      "source": [
        "$$\n",
        "\\beta = \\mathbb{P}( H_0 | H_a) \\\\\n",
        "\\\\\n",
        "\\beta = \\mathbb{P} \\left ( \\frac{\\hat p - p_0}{\\sqrt{\\frac{p_0(1-p_0)}{n}}} \\leq Z_{1-\\alpha} | p = p_a \\right) \\\\\n",
        "\\\\\n",
        "se_0 = \\sqrt{\\frac{p_0(1-p_0)}{n}}, se_a = \\sqrt{\\frac{p_a(1-p_a)}{n}}\\\\\n",
        " \\\\\n",
        "\\frac{\\hat p - p_a}{se_a} \\leq \\frac{se_0}{se_a}Z_{1-\\alpha} + \\frac{p_0 - p_a}{se_a} \\\\\n",
        "  \\\\\n",
        "\\beta = \\Phi \\left (   \\frac{se_0}{se_a}Z_{1-\\alpha} + \\frac{p_0 - p_a}{se_a}  \\right) \\\\\n",
        "Z_{\\beta} = - Z_{1-\\beta} = \\frac{se_0}{se_a}Z_{1-\\alpha} + \\frac{p_0 - p_a}{se_a} \\\\\n",
        "\\\\\n",
        "\\sqrt{n}(p_a - p_0) = \\left ( \\sqrt{p_a(1-p_a)}Z_{1-\\beta} + \\sqrt{p_0(1-p_0)}Z_{1-\\alpha} \\right)\\\\\n",
        "\\\\\n",
        "n = \\left (  \\frac{\\sqrt{p_a(1-p_a)}Z_{1-\\beta} + \\sqrt{p_0(1-p_0)}Z_{1-\\alpha}}{p_a - p_0} \\right)^2\n",
        "$$\n",
        "\n",
        "где $n$- число наблюдений, $\\alpha$ - ошибка первого рода, $\\beta$ - ошибка второго рода, $z_{1 - \\alpha}, z_{1 - \\beta}$ - квантили нормального распределения."
      ]
    },
    {
      "cell_type": "code",
      "execution_count": null,
      "id": "8adb6e2b-2aae-443c-a24f-46c9c39da6f6",
      "metadata": {
        "id": "8adb6e2b-2aae-443c-a24f-46c9c39da6f6",
        "outputId": "d783e24d-05f8-411b-9c16-22d4c6d7fc68"
      },
      "outputs": [
        {
          "data": {
            "text/plain": [
              "468"
            ]
          },
          "execution_count": 34,
          "metadata": {},
          "output_type": "execute_result"
        }
      ],
      "source": [
        "def get_size(p0, pa, alpha, beta):\n",
        "    za = sts.norm.ppf(1 - alpha)\n",
        "    zb = sts.norm.ppf(1 - beta)\n",
        "    n = za * np.sqrt(p0*(1 - p0)) + zb * np.sqrt(pa*(1-pa))\n",
        "    n /= (pa - p0)\n",
        "    return int(np.ceil(n*n))\n",
        "\n",
        "alpha = 0.05\n",
        "beta = 0.05\n",
        "\n",
        "# сколько наблюдений надо, чтобы получить ошибки alpha и beta\n",
        "# и уловить минимальный эффект pa - p0\n",
        "get_size(0.1, 0.15, alpha, beta)"
      ]
    },
    {
      "cell_type": "markdown",
      "id": "a9e56992-0783-41d4-b41b-a74ef827df6e",
      "metadata": {
        "id": "a9e56992-0783-41d4-b41b-a74ef827df6e"
      },
      "source": [
        "Теперь посчитаем тоже самое с помощью пакета statsmodels. Внутри него есть функция zt_ind_solve_power. Она может использоваться, чтобы найти любой из параметров: мощность, число наблюдений, эффект, уровень значимости. Три известные части информации подставляются в функцию. Вместо неизвестной пишется None.\n",
        "\n",
        "Обратите внимание, что в качестве размера эффекта в функцию подаётся стандартизированный эффект, а не оригинальный (отнормированный на стандартное отклонение)\n",
        "\n",
        "$$\n",
        "effect = \\frac{p_0 - p_a}{se},\n",
        "$$\n",
        "при этом стандартная ошибка считается как\n",
        "\n",
        "$$\n",
        "se = \\sqrt{\\frac{(n_0 - 1)\\cdot s_0^2 + (n_a - 1) \\cdot s_a^2 }{n_0 + n_a - 2}}.\n",
        "$$\n",
        "\n",
        "> Вспоминаем, как выглядит оценка дисперсии в t-статистике:\n",
        "\n",
        "$$\n",
        "t = \\frac{\\bar x - \\bar y}{ \\sqrt{\\frac{s^2}{n_x} + \\frac{s^2}{n_y}} } \\sim t_{crit}(n+m-2)\n",
        "$$\n",
        "\n",
        "$$\n",
        "s^2 = \\frac{(n-1)s_x^2 + (m-1)s_y^2}{(n-1)+(m-1)}\n",
        "$$"
      ]
    },
    {
      "cell_type": "code",
      "execution_count": null,
      "id": "e88de220-3d26-401f-8ef0-f6946dbf505a",
      "metadata": {
        "id": "e88de220-3d26-401f-8ef0-f6946dbf505a",
        "outputId": "9ca0e92d-25bf-4d27-9900-9abda63bf723"
      },
      "outputs": [
        {
          "data": {
            "text/plain": [
              "0.15161960871578062"
            ]
          },
          "execution_count": 35,
          "metadata": {},
          "output_type": "execute_result"
        }
      ],
      "source": [
        "n_0, n_a = 468, 468   # размеры выборок\n",
        "p_0, p_a = 0.1, 0.15  # доли\n",
        "\n",
        "# дисперсии\n",
        "var_0, var_a = p_0 * (1 - p_0),  p_a * (1 - p_a)\n",
        "\n",
        "# стандартизированный размер эффекта\n",
        "(p_a - p_0) / np.sqrt((n_0 * var_0 + n_a * var_a) / (n_0 + n_a))"
      ]
    },
    {
      "cell_type": "code",
      "execution_count": null,
      "id": "b62e984d-e044-42c2-8b16-e3c9919e99ab",
      "metadata": {
        "id": "b62e984d-e044-42c2-8b16-e3c9919e99ab",
        "outputId": "688e6cfb-5caa-4d6a-e596-75e6d556e426"
      },
      "outputs": [
        {
          "name": "stdout",
          "output_type": "stream",
          "text": [
            "470.76213074225996\n"
          ]
        }
      ],
      "source": [
        "\n",
        "from statsmodels.stats.power import zt_ind_solve_power\n",
        "\n",
        "alpha = 0.05\n",
        "beta = 0.05\n",
        "\n",
        "# параметр ratio отвечает за то в какой из двух выборок больше наблюдений\n",
        "sample_size = zt_ind_solve_power(\n",
        "                    effect_size=0.15162,  # стандартизованный размер эффекта\n",
        "                    nobs1=None,           # число наблюдений None, тк их хотим найти\n",
        "                    alpha=alpha,          # уровень значимости\n",
        "                    power=(1 - beta),     # мощность\n",
        "                    ratio=1,              # перекос в выборках; если 0, тогда выборка только одна\n",
        "                    alternative='larger'  # альтернатива\n",
        "                )\n",
        "\n",
        "print(sample_size/2) # у нас две выборки, на каждую поровну"
      ]
    },
    {
      "cell_type": "markdown",
      "id": "731cd00f-597f-40f9-8e51-208145bb5b28",
      "metadata": {
        "id": "731cd00f-597f-40f9-8e51-208145bb5b28"
      },
      "source": [
        "Подставив None вместо другого аргумента функции, можем рассчитать что-нибудь ещё. Например, мощность теста."
      ]
    },
    {
      "cell_type": "code",
      "execution_count": null,
      "id": "c4685976-1f2f-414a-acbd-d5dcafd852ce",
      "metadata": {
        "id": "c4685976-1f2f-414a-acbd-d5dcafd852ce",
        "outputId": "95b51bde-294b-4845-dbfb-e5a129dabc72"
      },
      "outputs": [
        {
          "data": {
            "text/plain": [
              "0.28341094186238097"
            ]
          },
          "execution_count": 33,
          "metadata": {},
          "output_type": "execute_result"
        }
      ],
      "source": [
        "zt_ind_solve_power(effect_size=0.15162,\n",
        "                   nobs1=100,\n",
        "                   alpha=alpha,\n",
        "                   power=None,\n",
        "                   ratio=1,\n",
        "                   alternative='larger')"
      ]
    },
    {
      "cell_type": "markdown",
      "id": "26f89e76-a01b-4efa-be0f-39d4540649f6",
      "metadata": {
        "id": "26f89e76-a01b-4efa-be0f-39d4540649f6"
      },
      "source": [
        "Или размер эффекта."
      ]
    },
    {
      "cell_type": "code",
      "execution_count": null,
      "id": "a2c52b7b-6326-402a-8dee-2d3caab5dfdc",
      "metadata": {
        "id": "a2c52b7b-6326-402a-8dee-2d3caab5dfdc",
        "outputId": "97d74708-dca6-4f4b-8b72-6bb88650d671"
      },
      "outputs": [
        {
          "data": {
            "text/plain": [
              "0.1522295561785361"
            ]
          },
          "execution_count": 24,
          "metadata": {},
          "output_type": "execute_result"
        }
      ],
      "source": [
        "zt_ind_solve_power(effect_size=None,\n",
        "                   nobs1=2*467,\n",
        "                   alpha=alpha,\n",
        "                   power=1-beta,\n",
        "                   ratio=1,\n",
        "                   alternative='larger')"
      ]
    },
    {
      "cell_type": "markdown",
      "id": "14f2315e-b292-4f37-a3da-c050b80f55ce",
      "metadata": {
        "id": "14f2315e-b292-4f37-a3da-c050b80f55ce"
      },
      "source": [
        "## Другие тесты\n",
        "\n",
        "По аналогии реализованы многие другие тесты. Например, тест Стьюдента. Рассмотрим тест для равенства средних при неизвестных, но равных дисперсиях.\n",
        "\n",
        "Класс TTestIndPower предназначен для анализа мощности для t-теста Стьюдента с независимыми выборками (TTestPower для обычного либо с зависимыми выборками).\n",
        "\n",
        "У каждого объекта этого класса есть метод solve_power. Он может использоваться, чтобы найти любой из параметров: мощность, число наблюдений, эффект, уровень значимости. Три известные части информации подставляются в функцию. Вместо неизвестной ствится None.\n",
        "\n",
        "Снова в качестве эффекта на вход идёт стандартизованный эффект:\n",
        "\n",
        "$$\n",
        "effect = \\frac{\\bar{x_1} - \\bar{x_2}}{se},\n",
        "$$"
      ]
    },
    {
      "cell_type": "code",
      "execution_count": null,
      "id": "1eedce0d-a677-4f69-876c-0d46072f6e2b",
      "metadata": {
        "id": "1eedce0d-a677-4f69-876c-0d46072f6e2b",
        "outputId": "83b318eb-954e-4af4-e787-74dc4fd6a95d"
      },
      "outputs": [
        {
          "data": {
            "text/plain": [
              "104.92794663444455"
            ]
          },
          "execution_count": 25,
          "metadata": {},
          "output_type": "execute_result"
        }
      ],
      "source": [
        "from statsmodels.stats.power import TTestIndPower\n",
        "\n",
        "effect = 0.5\n",
        "alpha = 0.05\n",
        "power = 0.95\n",
        "\n",
        "analysis = TTestIndPower()\n",
        "analysis.solve_power(effect,\n",
        "                     power=power,\n",
        "                     nobs1=None,\n",
        "                     alpha=alpha,\n",
        "                     ratio=1)"
      ]
    },
    {
      "cell_type": "markdown",
      "id": "35030b20-9bf8-49e7-a3e5-1ba606f22f22",
      "metadata": {
        "id": "35030b20-9bf8-49e7-a3e5-1ba606f22f22"
      },
      "source": [
        "## Кривые мощности\n",
        "\n",
        "Построим для мощностей кривые. Они будут показывать размер эффекта и размер выборки влияют на мощность теста."
      ]
    },
    {
      "cell_type": "code",
      "execution_count": null,
      "id": "7c4a804a-9e4c-4999-9e4c-4230df5b3a04",
      "metadata": {
        "id": "7c4a804a-9e4c-4999-9e4c-4230df5b3a04",
        "outputId": "48cfe5a7-820b-4560-9565-59ba37fcc55e"
      },
      "outputs": [
        {
          "data": {
            "image/png": "[encoded data removed]",
            "text/plain": [
              "<Figure size 864x504 with 1 Axes>"
            ]
          },
          "metadata": {
            "needs_background": "light"
          },
          "output_type": "display_data"
        }
      ],
      "source": [
        "effect_sizes = np.array([0.2, 0.5, 0.8])\n",
        "sample_sizes = np.array(range(5, 100))\n",
        "\n",
        "analysis = TTestIndPower()\n",
        "\n",
        "_, axes = plt.subplots(1, 1, figsize=(12,7))\n",
        "\n",
        "analysis.plot_power(\n",
        "    dep_var='nobs',\n",
        "    nobs=sample_sizes,\n",
        "    effect_size=effect_sizes,\n",
        "    ax=axes\n",
        ")\n",
        "\n",
        "axes.set_title(\"Мощность теста при разном размере эффекта\", fontsize=20)\n",
        "axes.set_xlabel(\"Размер выборки\", fontsize=14)\n",
        "axes.set_ylabel(\"Мощность\", fontsize=14)\n",
        "plt.legend(fontsize=16);\n"
      ]
    },
    {
      "cell_type": "markdown",
      "id": "a7e01d48-610f-4b72-ae43-54e323ec0db5",
      "metadata": {
        "id": "a7e01d48-610f-4b72-ae43-54e323ec0db5"
      },
      "source": [
        "На графике мы видим как меняется мощность критерия при трёх разных размерах эффекта. Если нас интересует большой эффект, то мы выходим к единице при примерно $60$ наблюдениях."
      ]
    },
    {
      "cell_type": "markdown",
      "id": "a723f7f5-b598-4360-b524-4872bd58324b",
      "metadata": {
        "id": "a723f7f5-b598-4360-b524-4872bd58324b"
      },
      "source": [
        "---\n",
        "---"
      ]
    },
    {
      "cell_type": "markdown",
      "id": "a3eadddb-f6ba-4135-b1ed-f21a0c2934d3",
      "metadata": {
        "id": "a3eadddb-f6ba-4135-b1ed-f21a0c2934d3"
      },
      "source": [
        "## 3. Множественная проверка гипотез\n",
        "\n"
      ]
    },
    {
      "cell_type": "markdown",
      "id": "b298a07c-92b1-4a36-9c66-6afac25c95e3",
      "metadata": {
        "id": "b298a07c-92b1-4a36-9c66-6afac25c95e3"
      },
      "source": [
        "Говорят, Джордж Р.Р. Мартин, автор цикла \"Песнь Льда и Пламени\", истребляет Старков: чаще убивает персонажей, относящихся к этому дому, чем персонажей других домов. В таблице ниже приведено количество персонажей, относящихся к тому или иному дому, упомянутых за первые $4$ книги, а так же количество погибших персонажей.\n",
        "\n",
        "| Дом | Упомянутые персонажи | Погибшие персонажи|\n",
        "|---|---|---|\n",
        "|House Stark | 70 | 25 |\n",
        "|House Lannister | 38 | 7 |\n",
        "|House Greyjoy | 41 | 12 |\n",
        "|Night's Watch | 105 | 41 |\n",
        "\n",
        "Нужно проверить гипотезу об этом на $5\\%$ уровне значимости.\n",
        "\n",
        "__Формализация задачи:__\n",
        "Нам нужно проверить гипотезу о том, что доля смертей среди Старков совпадает со всеми остальными долями против альтернативы, что хотя бы в одной из ситуаций смертность в доме Старков больше:\n",
        "\n",
        "$$\\begin{equation*}\n",
        "\\begin{aligned}\n",
        "& H_0: p_S = p_L = p_G = p_{NW}  \\\\\n",
        "&H_1: \\text{хотя бы одна вероятность отличается}\n",
        "\\end{aligned}\n",
        "\\end{equation*}$$\n",
        "\n",
        "Протестируем все гипотезы без коррекции на множественное тестирование, а потом введём её."
      ]
    },
    {
      "cell_type": "code",
      "execution_count": null,
      "id": "f728b9a2-c164-4ca3-8f97-7bc476d92033",
      "metadata": {
        "id": "f728b9a2-c164-4ca3-8f97-7bc476d92033"
      },
      "outputs": [],
      "source": [
        "n_st = 70\n",
        "m_st = 25\n",
        "\n",
        "n_lan = 38\n",
        "m_lan = 7\n",
        "\n",
        "n_gr = 41\n",
        "m_gr = 12\n",
        "\n",
        "n_nw = 105\n",
        "m_nw = 41\n",
        "\n",
        "alpha = 0.05"
      ]
    },
    {
      "cell_type": "code",
      "execution_count": null,
      "id": "23ed3997-f227-41dc-8f6b-2049edd79a1e",
      "metadata": {
        "id": "23ed3997-f227-41dc-8f6b-2049edd79a1e",
        "outputId": "7715fe00-ea2d-4bc4-ffa9-f8d11ea05fd7"
      },
      "outputs": [
        {
          "data": {
            "text/plain": [
              "(0.35714285714285715,\n",
              " 0.18421052631578946,\n",
              " 0.2926829268292683,\n",
              " 0.3904761904761905)"
            ]
          },
          "execution_count": 40,
          "metadata": {},
          "output_type": "execute_result"
        }
      ],
      "source": [
        "m_st/n_st, m_lan/n_lan, m_gr/n_gr, m_nw/n_nw"
      ]
    },
    {
      "cell_type": "markdown",
      "id": "dcc67f82-13c5-4ed8-9afc-105e01df1c4d",
      "metadata": {
        "id": "dcc67f82-13c5-4ed8-9afc-105e01df1c4d"
      },
      "source": [
        "Проверяем три гипотезы!"
      ]
    },
    {
      "cell_type": "code",
      "execution_count": null,
      "id": "86189cbc-0206-4412-821e-9e7aaad77c25",
      "metadata": {
        "id": "86189cbc-0206-4412-821e-9e7aaad77c25",
        "outputId": "62977e43-dab6-461d-9156-6dcd5b9d0341"
      },
      "outputs": [
        {
          "data": {
            "text/plain": [
              "array([0.03008672, 0.24343199, 0.67209806])"
            ]
          },
          "execution_count": 51,
          "metadata": {},
          "output_type": "execute_result"
        }
      ],
      "source": [
        "from statsmodels.stats.proportion import proportions_ztest\n",
        "\n",
        "_, p1 =  proportions_ztest((m_st, m_lan),\n",
        "                           (n_st, n_lan),\n",
        "                           value=0,\n",
        "                           alternative='larger')\n",
        "\n",
        "\n",
        "_, p2 =  proportions_ztest((m_st, m_gr),\n",
        "                           (n_st, n_gr),\n",
        "                           value=0,\n",
        "                           alternative='larger')\n",
        "\n",
        "_, p3 =  proportions_ztest((m_st, m_nw),\n",
        "                           (n_st, n_nw),\n",
        "                           value=0,\n",
        "                           alternative='larger')\n",
        "\n",
        "pval = np.array([p1, p2, p3])\n",
        "pval"
      ]
    },
    {
      "cell_type": "code",
      "execution_count": null,
      "id": "90f003ba-dede-4200-8783-39cdcf9ad19d",
      "metadata": {
        "id": "90f003ba-dede-4200-8783-39cdcf9ad19d",
        "outputId": "ac341707-e3e6-4c2f-b757-affe79e120a2"
      },
      "outputs": [
        {
          "data": {
            "text/plain": [
              "array([False,  True,  True])"
            ]
          },
          "execution_count": 42,
          "metadata": {},
          "output_type": "execute_result"
        }
      ],
      "source": [
        "pval > 0.05 # без коррекции, TRUE - не отвергается"
      ]
    },
    {
      "cell_type": "markdown",
      "id": "e5321f9d-3ba5-4517-a0f2-150a0193975c",
      "metadata": {
        "id": "e5321f9d-3ba5-4517-a0f2-150a0193975c"
      },
      "source": [
        "Самая первая гипотеза отвергается. Отсюда делаем вывод, что смертность значимо различается. Помним, что ошибка первого рода - ошибочный выбор альтернативы. В случае, когда мы никак не контролируем уровень значимости она оказывается завышена. Посмотрим, что будет происходить при корекции.\n",
        "\n",
        "__а) Коррекция Бонферрони__"
      ]
    },
    {
      "cell_type": "code",
      "execution_count": null,
      "id": "fe8fa9a8-9c1d-4b60-b0ce-e479042fb792",
      "metadata": {
        "id": "fe8fa9a8-9c1d-4b60-b0ce-e479042fb792",
        "outputId": "47ef785d-3cc9-4790-806a-99ccb1203b21"
      },
      "outputs": [
        {
          "data": {
            "text/plain": [
              "array([ True,  True,  True])"
            ]
          },
          "execution_count": 43,
          "metadata": {},
          "output_type": "execute_result"
        }
      ],
      "source": [
        "pval > 0.05/3  # поделили уровень значимости на число гипотез"
      ]
    },
    {
      "cell_type": "code",
      "execution_count": null,
      "id": "eaea1a99-0ecc-407b-b8fb-8dd29bf90b94",
      "metadata": {
        "id": "eaea1a99-0ecc-407b-b8fb-8dd29bf90b94",
        "outputId": "d8331d23-4c0c-47b5-fc69-e9f017ea853d"
      },
      "outputs": [
        {
          "data": {
            "text/plain": [
              "array([0.09026015, 0.73029598, 1.        ])"
            ]
          },
          "execution_count": 44,
          "metadata": {},
          "output_type": "execute_result"
        }
      ],
      "source": [
        "from statsmodels.sandbox.stats.multicomp import multipletests\n",
        "\n",
        "rejected, p_corrected, _, _ = multipletests(pval,\n",
        "                                            alpha = 0.05,\n",
        "                                            method = 'bonferroni')\n",
        "p_corrected"
      ]
    },
    {
      "cell_type": "code",
      "execution_count": null,
      "id": "a9876bd5-600c-4e55-bab7-4f61d98d3a3a",
      "metadata": {
        "id": "a9876bd5-600c-4e55-bab7-4f61d98d3a3a",
        "outputId": "351b8490-40a5-43ac-f02f-18ba3381e53a"
      },
      "outputs": [
        {
          "data": {
            "text/plain": [
              "array([ True,  True,  True])"
            ]
          },
          "execution_count": 45,
          "metadata": {},
          "output_type": "execute_result"
        }
      ],
      "source": [
        "p_corrected > 0.05 # TRUE - не отвергается"
      ]
    },
    {
      "cell_type": "markdown",
      "id": "e0fcaf4f-ef9f-4f4b-9868-762651d1eba5",
      "metadata": {
        "id": "e0fcaf4f-ef9f-4f4b-9868-762651d1eba5"
      },
      "source": [
        "Все три гипотезы о равенстве смертностей не отвергаются.\n",
        "\n",
        "__б) Метод Холма__"
      ]
    },
    {
      "cell_type": "code",
      "execution_count": null,
      "id": "c2da1f35-473a-44d4-b75d-de7f6973edfe",
      "metadata": {
        "id": "c2da1f35-473a-44d4-b75d-de7f6973edfe",
        "outputId": "644d2538-58f7-4eab-c873-ff70f168ea3d"
      },
      "outputs": [
        {
          "data": {
            "text/plain": [
              "array([0.09026015, 0.48686399, 0.67209806])"
            ]
          },
          "execution_count": 47,
          "metadata": {},
          "output_type": "execute_result"
        }
      ],
      "source": [
        "rejected, p_corrected, _, _ = multipletests(pval,\n",
        "                                            alpha = 0.05,\n",
        "                                            method = 'holm')\n",
        "p_corrected"
      ]
    },
    {
      "cell_type": "code",
      "execution_count": null,
      "id": "863cd7e1-0a51-4d80-889e-e3c673912629",
      "metadata": {
        "id": "863cd7e1-0a51-4d80-889e-e3c673912629",
        "outputId": "61e02c87-7a9b-4ec7-b943-6ed77d4a2fff"
      },
      "outputs": [
        {
          "data": {
            "text/plain": [
              "array([ True,  True,  True])"
            ]
          },
          "execution_count": 48,
          "metadata": {},
          "output_type": "execute_result"
        }
      ],
      "source": [
        "p_corrected > 0.05 # TRUE - не отвергается"
      ]
    },
    {
      "cell_type": "markdown",
      "id": "b840526e-1897-4eab-b649-ad4a0e7c73c2",
      "metadata": {
        "id": "b840526e-1897-4eab-b649-ad4a0e7c73c2"
      },
      "source": [
        "Все три гипотезы о равенстве смертностей не отвергаются.\n",
        "\n",
        "__в) Метод Бенджамини-Хохберга__"
      ]
    },
    {
      "cell_type": "code",
      "execution_count": null,
      "id": "68555810-3b7f-409c-82b7-45e10f53ddf8",
      "metadata": {
        "id": "68555810-3b7f-409c-82b7-45e10f53ddf8",
        "outputId": "11ea378d-7122-4c78-c782-9e6dfb531d66"
      },
      "outputs": [
        {
          "data": {
            "text/plain": [
              "array([0.09026015, 0.36514799, 0.67209806])"
            ]
          },
          "execution_count": 49,
          "metadata": {},
          "output_type": "execute_result"
        }
      ],
      "source": [
        "rejected, p_corrected, _, _ = multipletests(pval,\n",
        "                                            alpha = 0.05,\n",
        "                                            method = 'fdr_bh')\n",
        "p_corrected"
      ]
    },
    {
      "cell_type": "code",
      "execution_count": null,
      "id": "f9ec1f30-ec4e-4159-89a8-766b8c17d776",
      "metadata": {
        "id": "f9ec1f30-ec4e-4159-89a8-766b8c17d776",
        "outputId": "d9ff7135-4780-4790-af5a-8b98c68705f0"
      },
      "outputs": [
        {
          "data": {
            "text/plain": [
              "array([ True,  True,  True])"
            ]
          },
          "execution_count": 50,
          "metadata": {},
          "output_type": "execute_result"
        }
      ],
      "source": [
        "p_corrected > 0.05 # TRUE - не отвергается"
      ]
    },
    {
      "cell_type": "markdown",
      "id": "e16cba94-bda6-4d97-b195-bf048be1f497",
      "metadata": {
        "id": "e16cba94-bda6-4d97-b195-bf048be1f497"
      },
      "source": [
        "Все три гипотезы о равенстве смертностей не отвергаются."
      ]
    },
    {
      "cell_type": "markdown",
      "id": "1acc1066-9c22-47f4-8205-b60f5a6794b7",
      "metadata": {
        "id": "1acc1066-9c22-47f4-8205-b60f5a6794b7"
      },
      "source": [
        "---\n",
        "---\n",
        "\n",
        "## 4. Примеры\n",
        "\n",
        "А/B тестирование и анализ данных в Python // Урок 6 от Skypro\n",
        "https://www.youtube.com/watch?v=cjMhezRVDq0\n",
        "\n",
        "\n",
        "Анализ статистики во free-to-play играх: инструменты аналитика\n",
        "https://habr.com/ru/company/alawar/blog/162739/\n",
        "\n",
        "\n",
        "Как быстро и дешево сделать сегментирование пользователей и A/B-тестирование для приложения iOS\n",
        "https://habr.com/ru/post/182804/\n",
        "\n",
        "«Добавить в корзину» против «Купить в один клик»: результаты АБ-теста\n",
        "https://habr.com/ru/company/webasyst/blog/207872/\n",
        "\n",
        "A/B testing: время — ничто, анимация — все!\n",
        "https://habr.com/ru/post/212637/\n",
        "\n",
        "Ошибки A/B-тестирования в AirBnB\n",
        "https://habr.com/ru/company/cloverr/blog/224461/\n",
        "\n",
        "A/B-тестирование и его результаты, которые шокировали экспертов: интуиция иногда подводит\n",
        "https://habr.com/ru/post/229507/\n"
      ]
    },
    {
      "cell_type": "code",
      "execution_count": null,
      "id": "4094b639-5626-45e6-a3ff-52e3a305c543",
      "metadata": {
        "id": "4094b639-5626-45e6-a3ff-52e3a305c543"
      },
      "outputs": [],
      "source": []
    }
  ],
  "metadata": {
    "kernelspec": {
      "display_name": "Python 3 (ipykernel)",
      "language": "python",
      "name": "python3"
    },
    "language_info": {
      "codemirror_mode": {
        "name": "ipython",
        "version": 3
      },
      "file_extension": ".py",
      "mimetype": "text/x-python",
      "name": "python",
      "nbconvert_exporter": "python",
      "pygments_lexer": "ipython3",
      "version": "3.9.6"
    },
    "colab": {
      "provenance": [],
      "include_colab_link": true
    }
  },
  "nbformat": 4,
  "nbformat_minor": 5
}