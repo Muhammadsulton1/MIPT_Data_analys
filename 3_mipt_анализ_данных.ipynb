{
  "nbformat": 4,
  "nbformat_minor": 0,
  "metadata": {
    "colab": {
      "provenance": [],
      "authorship_tag": "ABX9TyMdJ3JOw4mQRkYfVRzYb8rF",
      "include_colab_link": true
    },
    "kernelspec": {
      "name": "python3",
      "display_name": "Python 3"
    },
    "language_info": {
      "name": "python"
    }
  },
  "cells": [
    {
      "cell_type": "markdown",
      "metadata": {
        "id": "view-in-github",
        "colab_type": "text"
      },
      "source": [
        "<a href=\"https://colab.research.google.com/github/Muhammadsulton1/MIPT_Data_analys/blob/main/3_mipt_%D0%B0%D0%BD%D0%B0%D0%BB%D0%B8%D0%B7_%D0%B4%D0%B0%D0%BD%D0%BD%D1%8B%D1%85.ipynb\" target=\"_parent\"><img src=\"https://colab.research.google.com/assets/colab-badge.svg\" alt=\"Open In Colab\"/></a>"
      ]
    },
    {
      "cell_type": "code",
      "metadata": {
        "id": "lVw5XaS0SByt"
      },
      "source": [
        "import numpy as np\n",
        "from scipy.stats import poisson\n",
        "import matplotlib.pyplot as plt\n",
        "%matplotlib inline"
      ],
      "execution_count": null,
      "outputs": []
    },
    {
      "cell_type": "markdown",
      "metadata": {
        "id": "k881cKhJVpM0"
      },
      "source": [
        "#X > 6"
      ]
    },
    {
      "cell_type": "code",
      "metadata": {
        "id": "wlgUEKR3SWBy"
      },
      "source": [
        "poisson_rv = poisson(2)\n",
        "n_obs = 10**6\n",
        "X = poisson_rv.rvs(n_obs)\n",
        "success = X > 6"
      ],
      "execution_count": null,
      "outputs": []
    },
    {
      "cell_type": "code",
      "metadata": {
        "colab": {
          "base_uri": "https://localhost:8080/"
        },
        "id": "DvXnwFBhVMJ_",
        "outputId": "9a2e009b-2356-4710-f59c-295b8d815c62"
      },
      "source": [
        "np.sum(success) / n_obs"
      ],
      "execution_count": null,
      "outputs": [
        {
          "output_type": "execute_result",
          "data": {
            "text/plain": [
              "0.004551"
            ]
          },
          "metadata": {},
          "execution_count": 7
        }
      ]
    },
    {
      "cell_type": "markdown",
      "metadata": {
        "id": "GZxzRd6rVqoZ"
      },
      "source": [
        "#X > 6 | X > 5"
      ]
    },
    {
      "cell_type": "code",
      "metadata": {
        "id": "kIvJfM8SVQzv"
      },
      "source": [
        "uslovie_1 = X > 5"
      ],
      "execution_count": null,
      "outputs": []
    },
    {
      "cell_type": "code",
      "metadata": {
        "id": "cvYWHsstVxXf"
      },
      "source": [
        "success_1 = X[uslovie_1] > 6"
      ],
      "execution_count": null,
      "outputs": []
    },
    {
      "cell_type": "code",
      "metadata": {
        "colab": {
          "base_uri": "https://localhost:8080/"
        },
        "id": "jsiYc4gmV3Wy",
        "outputId": "2a418fdf-1ae7-4123-ba94-1c149333fbfc"
      },
      "source": [
        "np.sum(success_1) / np.sum(uslovie_1)"
      ],
      "execution_count": null,
      "outputs": [
        {
          "output_type": "execute_result",
          "data": {
            "text/plain": [
              "0.27341544007209373"
            ]
          },
          "metadata": {},
          "execution_count": 10
        }
      ]
    },
    {
      "cell_type": "markdown",
      "metadata": {
        "id": "5tx06E1IWPby"
      },
      "source": [
        "#X > 5 | X < 7"
      ]
    },
    {
      "cell_type": "code",
      "metadata": {
        "colab": {
          "base_uri": "https://localhost:8080/"
        },
        "id": "dEcQM1SwV6Ei",
        "outputId": "b3e6a62f-b083-4823-8830-cf6bc872c083"
      },
      "source": [
        "uslovie_2 = X < 7\n",
        "success_2 = X[uslovie_2] > 5\n",
        "\n",
        "np.sum(success_2) / np.sum(uslovie_2)"
      ],
      "execution_count": null,
      "outputs": [
        {
          "output_type": "execute_result",
          "data": {
            "text/plain": [
              "0.012149291425276433"
            ]
          },
          "metadata": {},
          "execution_count": 11
        }
      ]
    },
    {
      "cell_type": "markdown",
      "metadata": {
        "id": "HlY1ByRCWyzq"
      },
      "source": [
        "#X^3"
      ]
    },
    {
      "cell_type": "code",
      "metadata": {
        "colab": {
          "base_uri": "https://localhost:8080/"
        },
        "id": "7cMRLTqhWoev",
        "outputId": "43b7e348-5f40-43c0-8593-c2d2db461065"
      },
      "source": [
        "uslovie_3 = X ** 3\n",
        "success_3 = X[uslovie_3]\n",
        "\n",
        "np.sum(success_3) / np.sum(uslovie_3)"
      ],
      "execution_count": null,
      "outputs": [
        {
          "output_type": "execute_result",
          "data": {
            "text/plain": [
              "0.040812476721498396"
            ]
          },
          "metadata": {},
          "execution_count": 12
        }
      ]
    },
    {
      "cell_type": "markdown",
      "metadata": {
        "id": "HviwC6Umud2k"
      },
      "source": [
        "или стоило так сделать ?"
      ]
    },
    {
      "cell_type": "code",
      "metadata": {
        "colab": {
          "base_uri": "https://localhost:8080/"
        },
        "id": "AKpw8eURNaqY",
        "outputId": "f0afeb16-b0e6-4f29-dc62-9915cbd4ebfe"
      },
      "source": [
        "success_111 = X ** 3\n",
        "np.sum(success_111) / n_obs"
      ],
      "execution_count": null,
      "outputs": [
        {
          "output_type": "execute_result",
          "data": {
            "text/plain": [
              "21.967694"
            ]
          },
          "metadata": {},
          "execution_count": 13
        }
      ]
    },
    {
      "cell_type": "markdown",
      "metadata": {
        "id": "kLZ8kTLIXuA2"
      },
      "source": [
        "X|X>5"
      ]
    },
    {
      "cell_type": "code",
      "metadata": {
        "colab": {
          "base_uri": "https://localhost:8080/"
        },
        "id": "e2-xKdJMXOqR",
        "outputId": "5ab2012e-9288-43d3-9715-5b01d1165a25"
      },
      "source": [
        "uslovie_4 = X > 5\n",
        "success_4 = X[uslovie_4]\n",
        "\n",
        "np.sum(success_4 ) / n_obs"
      ],
      "execution_count": null,
      "outputs": [
        {
          "output_type": "execute_result",
          "data": {
            "text/plain": [
              "0.105834"
            ]
          },
          "metadata": {},
          "execution_count": 14
        }
      ]
    },
    {
      "cell_type": "markdown",
      "metadata": {
        "id": "w9uIOD2sQGef"
      },
      "source": [
        "#Упражнение 2"
      ]
    },
    {
      "cell_type": "code",
      "metadata": {
        "id": "5VFMELCJP5m3"
      },
      "source": [
        "from scipy.stats import uniform"
      ],
      "execution_count": null,
      "outputs": []
    },
    {
      "cell_type": "markdown",
      "metadata": {
        "id": "7qRq3vYZkeSE"
      },
      "source": [
        "#Упражнение 3"
      ]
    },
    {
      "cell_type": "code",
      "metadata": {
        "id": "l6qiKRUfr6oT"
      },
      "source": [
        "import scipy.stats as sps"
      ],
      "execution_count": null,
      "outputs": []
    },
    {
      "cell_type": "code",
      "metadata": {
        "id": "FdFk5eqrtCfL",
        "colab": {
          "base_uri": "https://localhost:8080/"
        },
        "outputId": "f65ea1ad-9a6e-4631-a7bf-52cce933b72f"
      },
      "source": [
        "etta = 10\n",
        "alpha = 2\n",
        "class log_rv(sps.rv_continuous):\n",
        "    def _pdf(self, x_s):\n",
        "        return (np.log(x_s)/np.log(etta))**alpha\n",
        "log = log_rv(a=1, b=etta, name='cubic')\n",
        "\n",
        "sample = log.rvs(size=10**6)\n",
        "\n",
        "print('Выборочное среденее: %.3f' % sample.mean()) #мат ожидание"
      ],
      "execution_count": null,
      "outputs": [
        {
          "output_type": "stream",
          "name": "stdout",
          "text": [
            "Выборочное среденее: 3.870\n"
          ]
        }
      ]
    },
    {
      "cell_type": "code",
      "metadata": {
        "id": "cnAFx8Tdtnz-",
        "colab": {
          "base_uri": "https://localhost:8080/"
        },
        "outputId": "8288520e-e7eb-4c99-bc11-4dfd3da6f189"
      },
      "source": [
        "log_rv._pdf"
      ],
      "execution_count": null,
      "outputs": [
        {
          "output_type": "execute_result",
          "data": {
            "text/plain": [
              "<function __main__.log_rv._pdf>"
            ]
          },
          "metadata": {},
          "execution_count": 31
        }
      ]
    },
    {
      "cell_type": "code",
      "metadata": {
        "id": "HhY01_IArDt0"
      },
      "source": [],
      "execution_count": null,
      "outputs": []
    }
  ]
}