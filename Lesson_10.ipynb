{
  "cells": [
    {
      "cell_type": "markdown",
      "metadata": {
        "id": "view-in-github",
        "colab_type": "text"
      },
      "source": [
        "<a href=\"https://colab.research.google.com/github/Muhammadsulton1/MIPT_Data_analys/blob/main/Lesson_10.ipynb\" target=\"_parent\"><img src=\"https://colab.research.google.com/assets/colab-badge.svg\" alt=\"Open In Colab\"/></a>"
      ]
    },
    {
      "cell_type": "markdown",
      "metadata": {
        "tags": [],
        "id": "iDD-XEywH4_k"
      },
      "source": [
        "Семинар 10 (неделя 12): Регрессионный анализ\n",
        "====="
      ]
    },
    {
      "cell_type": "code",
      "execution_count": null,
      "metadata": {
        "id": "mg7Ad6W0H4_o"
      },
      "outputs": [],
      "source": [
        "# Импорт библиотек для работы со статистикой\n",
        "import pandas as pd\n",
        "import numpy as np\n",
        "\n",
        "# Импорт библиотек для построения графиков\n",
        "import matplotlib.pyplot as plt\n",
        "import seaborn as sns\n",
        "\n",
        "# Стиль для графиков\n",
        "plt.style.use('ggplot')\n",
        "%matplotlib inline"
      ]
    },
    {
      "cell_type": "markdown",
      "metadata": {
        "id": "tlD5vBUaH4_q"
      },
      "source": [
        "_Основы линейной регрессии на Хабре:_\n",
        "https://habr.com/ru/post/514818/"
      ]
    },
    {
      "cell_type": "markdown",
      "metadata": {
        "id": "uKeom6U6H4_r"
      },
      "source": [
        "### Предсказание цены домов в Альбукерке\n",
        "\n",
        "Анализируемые данные являются случайной выборкой из записей о перепродажах домов, совершенных в 1993 году в городе Альбукерке, США. Описание переменных:\n",
        "\n",
        "__PRICE__ - продажная цена в сотнях долларов\n",
        "__SQFT__ - площадь в квадратных футах\n",
        "__AGE__ - возраст дома (количество лет)\n",
        "__FEATS__ - количество дополнительных удобств из 11 возможных\n",
        "- (dishwasher, refrigerator, microwave, disposer, washer, intercom, skylight(s), compactor, dryer, handicap fit, cable TV access)\n",
        "\n",
        "__NE__ - дом расположен в престижном районе на северо-востоке города (1), или нет (0)\n",
        "__CUST__ - тип постройки: был ли дом обычной постройки (0) или нет (1)\n",
        "__COR__ - расположение дома на углу (1) или нет (0)\n",
        "__TAX__ - величина налогов за владение домом ($)"
      ]
    },
    {
      "cell_type": "code",
      "execution_count": null,
      "metadata": {
        "tags": [],
        "id": "vDmF91daH4_s"
      },
      "outputs": [],
      "source": [
        "AHP = pd.read_csv('Albuquerque Home Prices.txt', sep='\\t')"
      ]
    },
    {
      "cell_type": "code",
      "execution_count": null,
      "metadata": {
        "id": "4gzGp9x9H4_t",
        "outputId": "04dcd233-6ee3-454b-9569-c60a448a517a"
      },
      "outputs": [
        {
          "data": {
            "text/html": [
              "<div>\n",
              "<style scoped>\n",
              "    .dataframe tbody tr th:only-of-type {\n",
              "        vertical-align: middle;\n",
              "    }\n",
              "\n",
              "    .dataframe tbody tr th {\n",
              "        vertical-align: top;\n",
              "    }\n",
              "\n",
              "    .dataframe thead th {\n",
              "        text-align: right;\n",
              "    }\n",
              "</style>\n",
              "<table border=\"1\" class=\"dataframe\">\n",
              "  <thead>\n",
              "    <tr style=\"text-align: right;\">\n",
              "      <th></th>\n",
              "      <th>PRICE</th>\n",
              "      <th>SQFT</th>\n",
              "      <th>AGE</th>\n",
              "      <th>FEATS</th>\n",
              "      <th>NE</th>\n",
              "      <th>CUST</th>\n",
              "      <th>COR</th>\n",
              "      <th>TAX</th>\n",
              "    </tr>\n",
              "  </thead>\n",
              "  <tbody>\n",
              "    <tr>\n",
              "      <th>0</th>\n",
              "      <td>2050</td>\n",
              "      <td>2650</td>\n",
              "      <td>13</td>\n",
              "      <td>7</td>\n",
              "      <td>1</td>\n",
              "      <td>1</td>\n",
              "      <td>0</td>\n",
              "      <td>1639</td>\n",
              "    </tr>\n",
              "    <tr>\n",
              "      <th>1</th>\n",
              "      <td>2080</td>\n",
              "      <td>2600</td>\n",
              "      <td>-9999</td>\n",
              "      <td>4</td>\n",
              "      <td>1</td>\n",
              "      <td>1</td>\n",
              "      <td>0</td>\n",
              "      <td>1088</td>\n",
              "    </tr>\n",
              "    <tr>\n",
              "      <th>2</th>\n",
              "      <td>2150</td>\n",
              "      <td>2664</td>\n",
              "      <td>6</td>\n",
              "      <td>5</td>\n",
              "      <td>1</td>\n",
              "      <td>1</td>\n",
              "      <td>0</td>\n",
              "      <td>1193</td>\n",
              "    </tr>\n",
              "    <tr>\n",
              "      <th>3</th>\n",
              "      <td>2150</td>\n",
              "      <td>2921</td>\n",
              "      <td>3</td>\n",
              "      <td>6</td>\n",
              "      <td>1</td>\n",
              "      <td>1</td>\n",
              "      <td>0</td>\n",
              "      <td>1635</td>\n",
              "    </tr>\n",
              "    <tr>\n",
              "      <th>4</th>\n",
              "      <td>1999</td>\n",
              "      <td>2580</td>\n",
              "      <td>4</td>\n",
              "      <td>4</td>\n",
              "      <td>1</td>\n",
              "      <td>1</td>\n",
              "      <td>0</td>\n",
              "      <td>1732</td>\n",
              "    </tr>\n",
              "    <tr>\n",
              "      <th>...</th>\n",
              "      <td>...</td>\n",
              "      <td>...</td>\n",
              "      <td>...</td>\n",
              "      <td>...</td>\n",
              "      <td>...</td>\n",
              "      <td>...</td>\n",
              "      <td>...</td>\n",
              "      <td>...</td>\n",
              "    </tr>\n",
              "    <tr>\n",
              "      <th>112</th>\n",
              "      <td>872</td>\n",
              "      <td>1229</td>\n",
              "      <td>6</td>\n",
              "      <td>3</td>\n",
              "      <td>0</td>\n",
              "      <td>0</td>\n",
              "      <td>0</td>\n",
              "      <td>721</td>\n",
              "    </tr>\n",
              "    <tr>\n",
              "      <th>113</th>\n",
              "      <td>870</td>\n",
              "      <td>1273</td>\n",
              "      <td>4</td>\n",
              "      <td>4</td>\n",
              "      <td>0</td>\n",
              "      <td>0</td>\n",
              "      <td>0</td>\n",
              "      <td>638</td>\n",
              "    </tr>\n",
              "    <tr>\n",
              "      <th>114</th>\n",
              "      <td>869</td>\n",
              "      <td>1165</td>\n",
              "      <td>7</td>\n",
              "      <td>4</td>\n",
              "      <td>0</td>\n",
              "      <td>0</td>\n",
              "      <td>0</td>\n",
              "      <td>694</td>\n",
              "    </tr>\n",
              "    <tr>\n",
              "      <th>115</th>\n",
              "      <td>766</td>\n",
              "      <td>1200</td>\n",
              "      <td>7</td>\n",
              "      <td>4</td>\n",
              "      <td>0</td>\n",
              "      <td>0</td>\n",
              "      <td>1</td>\n",
              "      <td>634</td>\n",
              "    </tr>\n",
              "    <tr>\n",
              "      <th>116</th>\n",
              "      <td>739</td>\n",
              "      <td>970</td>\n",
              "      <td>4</td>\n",
              "      <td>4</td>\n",
              "      <td>0</td>\n",
              "      <td>0</td>\n",
              "      <td>1</td>\n",
              "      <td>541</td>\n",
              "    </tr>\n",
              "  </tbody>\n",
              "</table>\n",
              "<p>117 rows × 8 columns</p>\n",
              "</div>"
            ],
            "text/plain": [
              "     PRICE  SQFT   AGE  FEATS  NE  CUST  COR   TAX\n",
              "0     2050  2650    13      7   1     1    0  1639\n",
              "1     2080  2600 -9999      4   1     1    0  1088\n",
              "2     2150  2664     6      5   1     1    0  1193\n",
              "3     2150  2921     3      6   1     1    0  1635\n",
              "4     1999  2580     4      4   1     1    0  1732\n",
              "..     ...   ...   ...    ...  ..   ...  ...   ...\n",
              "112    872  1229     6      3   0     0    0   721\n",
              "113    870  1273     4      4   0     0    0   638\n",
              "114    869  1165     7      4   0     0    0   694\n",
              "115    766  1200     7      4   0     0    1   634\n",
              "116    739   970     4      4   0     0    1   541\n",
              "\n",
              "[117 rows x 8 columns]"
            ]
          },
          "execution_count": 4,
          "metadata": {},
          "output_type": "execute_result"
        }
      ],
      "source": [
        "AHP"
      ]
    },
    {
      "cell_type": "code",
      "execution_count": null,
      "metadata": {
        "id": "Hp8m0f6AH4_v",
        "outputId": "00e96343-0637-48b6-a047-73249d4d26ea"
      },
      "outputs": [
        {
          "name": "stdout",
          "output_type": "stream",
          "text": [
            "<class 'pandas.core.frame.DataFrame'>\n",
            "RangeIndex: 117 entries, 0 to 116\n",
            "Data columns (total 8 columns):\n",
            " #   Column  Non-Null Count  Dtype\n",
            "---  ------  --------------  -----\n",
            " 0   PRICE   117 non-null    int64\n",
            " 1   SQFT    117 non-null    int64\n",
            " 2   AGE     117 non-null    int64\n",
            " 3   FEATS   117 non-null    int64\n",
            " 4   NE      117 non-null    int64\n",
            " 5   CUST    117 non-null    int64\n",
            " 6   COR     117 non-null    int64\n",
            " 7   TAX     117 non-null    int64\n",
            "dtypes: int64(8)\n",
            "memory usage: 7.4 KB\n"
          ]
        }
      ],
      "source": [
        "AHP.info()"
      ]
    },
    {
      "cell_type": "code",
      "execution_count": null,
      "metadata": {
        "id": "pat0ZtFQH4_w",
        "outputId": "913ea6e6-1f4e-4f8d-d9ed-dcf60a84bb49"
      },
      "outputs": [
        {
          "data": {
            "text/plain": [
              "PRICE    0\n",
              "SQFT     0\n",
              "AGE      0\n",
              "FEATS    0\n",
              "NE       0\n",
              "CUST     0\n",
              "COR      0\n",
              "TAX      0\n",
              "dtype: int64"
            ]
          },
          "execution_count": 6,
          "metadata": {},
          "output_type": "execute_result"
        }
      ],
      "source": [
        "AHP.isnull().sum()"
      ]
    },
    {
      "cell_type": "code",
      "execution_count": null,
      "metadata": {
        "id": "UDGG-ffxH4_y",
        "outputId": "902c4cc8-afb5-4613-8f9a-8befb865388d"
      },
      "outputs": [
        {
          "data": {
            "image/png": "[encoded data removed]",
            "text/plain": [
              "<Figure size 1152x576 with 9 Axes>"
            ]
          },
          "metadata": {
            "needs_background": "light"
          },
          "output_type": "display_data"
        }
      ],
      "source": [
        "AHP.hist( figsize = (16, 8), bins = 50 );"
      ]
    },
    {
      "cell_type": "code",
      "execution_count": null,
      "metadata": {
        "id": "gsO2_ZpeH4_z",
        "outputId": "4711f8b1-0662-4388-c332-21f5192dda0e"
      },
      "outputs": [
        {
          "data": {
            "text/html": [
              "<div>\n",
              "<style scoped>\n",
              "    .dataframe tbody tr th:only-of-type {\n",
              "        vertical-align: middle;\n",
              "    }\n",
              "\n",
              "    .dataframe tbody tr th {\n",
              "        vertical-align: top;\n",
              "    }\n",
              "\n",
              "    .dataframe thead th {\n",
              "        text-align: right;\n",
              "    }\n",
              "</style>\n",
              "<table border=\"1\" class=\"dataframe\">\n",
              "  <thead>\n",
              "    <tr style=\"text-align: right;\">\n",
              "      <th></th>\n",
              "      <th>PRICE</th>\n",
              "      <th>SQFT</th>\n",
              "      <th>AGE</th>\n",
              "      <th>FEATS</th>\n",
              "      <th>NE</th>\n",
              "      <th>CUST</th>\n",
              "      <th>COR</th>\n",
              "      <th>TAX</th>\n",
              "    </tr>\n",
              "  </thead>\n",
              "  <tbody>\n",
              "    <tr>\n",
              "      <th>0</th>\n",
              "      <td>2050</td>\n",
              "      <td>2650</td>\n",
              "      <td>13.0</td>\n",
              "      <td>7</td>\n",
              "      <td>1</td>\n",
              "      <td>1</td>\n",
              "      <td>0</td>\n",
              "      <td>1639.0</td>\n",
              "    </tr>\n",
              "    <tr>\n",
              "      <th>1</th>\n",
              "      <td>2080</td>\n",
              "      <td>2600</td>\n",
              "      <td>NaN</td>\n",
              "      <td>4</td>\n",
              "      <td>1</td>\n",
              "      <td>1</td>\n",
              "      <td>0</td>\n",
              "      <td>1088.0</td>\n",
              "    </tr>\n",
              "    <tr>\n",
              "      <th>2</th>\n",
              "      <td>2150</td>\n",
              "      <td>2664</td>\n",
              "      <td>6.0</td>\n",
              "      <td>5</td>\n",
              "      <td>1</td>\n",
              "      <td>1</td>\n",
              "      <td>0</td>\n",
              "      <td>1193.0</td>\n",
              "    </tr>\n",
              "    <tr>\n",
              "      <th>3</th>\n",
              "      <td>2150</td>\n",
              "      <td>2921</td>\n",
              "      <td>3.0</td>\n",
              "      <td>6</td>\n",
              "      <td>1</td>\n",
              "      <td>1</td>\n",
              "      <td>0</td>\n",
              "      <td>1635.0</td>\n",
              "    </tr>\n",
              "    <tr>\n",
              "      <th>4</th>\n",
              "      <td>1999</td>\n",
              "      <td>2580</td>\n",
              "      <td>4.0</td>\n",
              "      <td>4</td>\n",
              "      <td>1</td>\n",
              "      <td>1</td>\n",
              "      <td>0</td>\n",
              "      <td>1732.0</td>\n",
              "    </tr>\n",
              "    <tr>\n",
              "      <th>...</th>\n",
              "      <td>...</td>\n",
              "      <td>...</td>\n",
              "      <td>...</td>\n",
              "      <td>...</td>\n",
              "      <td>...</td>\n",
              "      <td>...</td>\n",
              "      <td>...</td>\n",
              "      <td>...</td>\n",
              "    </tr>\n",
              "    <tr>\n",
              "      <th>112</th>\n",
              "      <td>872</td>\n",
              "      <td>1229</td>\n",
              "      <td>6.0</td>\n",
              "      <td>3</td>\n",
              "      <td>0</td>\n",
              "      <td>0</td>\n",
              "      <td>0</td>\n",
              "      <td>721.0</td>\n",
              "    </tr>\n",
              "    <tr>\n",
              "      <th>113</th>\n",
              "      <td>870</td>\n",
              "      <td>1273</td>\n",
              "      <td>4.0</td>\n",
              "      <td>4</td>\n",
              "      <td>0</td>\n",
              "      <td>0</td>\n",
              "      <td>0</td>\n",
              "      <td>638.0</td>\n",
              "    </tr>\n",
              "    <tr>\n",
              "      <th>114</th>\n",
              "      <td>869</td>\n",
              "      <td>1165</td>\n",
              "      <td>7.0</td>\n",
              "      <td>4</td>\n",
              "      <td>0</td>\n",
              "      <td>0</td>\n",
              "      <td>0</td>\n",
              "      <td>694.0</td>\n",
              "    </tr>\n",
              "    <tr>\n",
              "      <th>115</th>\n",
              "      <td>766</td>\n",
              "      <td>1200</td>\n",
              "      <td>7.0</td>\n",
              "      <td>4</td>\n",
              "      <td>0</td>\n",
              "      <td>0</td>\n",
              "      <td>1</td>\n",
              "      <td>634.0</td>\n",
              "    </tr>\n",
              "    <tr>\n",
              "      <th>116</th>\n",
              "      <td>739</td>\n",
              "      <td>970</td>\n",
              "      <td>4.0</td>\n",
              "      <td>4</td>\n",
              "      <td>0</td>\n",
              "      <td>0</td>\n",
              "      <td>1</td>\n",
              "      <td>541.0</td>\n",
              "    </tr>\n",
              "  </tbody>\n",
              "</table>\n",
              "<p>117 rows × 8 columns</p>\n",
              "</div>"
            ],
            "text/plain": [
              "     PRICE  SQFT   AGE  FEATS  NE  CUST  COR     TAX\n",
              "0     2050  2650  13.0      7   1     1    0  1639.0\n",
              "1     2080  2600   NaN      4   1     1    0  1088.0\n",
              "2     2150  2664   6.0      5   1     1    0  1193.0\n",
              "3     2150  2921   3.0      6   1     1    0  1635.0\n",
              "4     1999  2580   4.0      4   1     1    0  1732.0\n",
              "..     ...   ...   ...    ...  ..   ...  ...     ...\n",
              "112    872  1229   6.0      3   0     0    0   721.0\n",
              "113    870  1273   4.0      4   0     0    0   638.0\n",
              "114    869  1165   7.0      4   0     0    0   694.0\n",
              "115    766  1200   7.0      4   0     0    1   634.0\n",
              "116    739   970   4.0      4   0     0    1   541.0\n",
              "\n",
              "[117 rows x 8 columns]"
            ]
          },
          "execution_count": 8,
          "metadata": {},
          "output_type": "execute_result"
        }
      ],
      "source": [
        "AHP = AHP.replace(-9999, np.nan)\n",
        "AHP"
      ]
    },
    {
      "cell_type": "code",
      "execution_count": null,
      "metadata": {
        "id": "PDU7R5QsH4_0",
        "outputId": "ce15f5d6-492a-45ce-f251-c203eeccedef"
      },
      "outputs": [
        {
          "data": {
            "image/png": "[encoded data removed]",
            "text/plain": [
              "<Figure size 864x288 with 2 Axes>"
            ]
          },
          "metadata": {
            "needs_background": "light"
          },
          "output_type": "display_data"
        }
      ],
      "source": [
        "AHP[['AGE', 'TAX']].hist( figsize = (12, 4), bins = 50 );"
      ]
    },
    {
      "cell_type": "markdown",
      "metadata": {
        "id": "pjKN1b8YH4_1"
      },
      "source": [
        "Прежде, чем строить модель, нужно решить вопрос с пропущенными значениями. Сначала посчитаем, сколько строчек их содержат."
      ]
    },
    {
      "cell_type": "code",
      "execution_count": null,
      "metadata": {
        "id": "PqmE1WMzH4_2",
        "outputId": "d22f2079-2a0a-43d2-bc2c-f40d9398cc76"
      },
      "outputs": [
        {
          "data": {
            "text/plain": [
              "PRICE     0\n",
              "SQFT      0\n",
              "AGE      49\n",
              "FEATS     0\n",
              "NE        0\n",
              "CUST      0\n",
              "COR       0\n",
              "TAX      10\n",
              "dtype: int64"
            ]
          },
          "execution_count": 11,
          "metadata": {},
          "output_type": "execute_result"
        }
      ],
      "source": [
        "AHP.isnull().sum()"
      ]
    },
    {
      "cell_type": "markdown",
      "metadata": {
        "id": "qc1gP8wvH4_3"
      },
      "source": [
        "Таким образом, около половины наших данных содержат хотя бы одно пропущенное значение. Учитывая то, что данных относительно мало, выбрасывать все такие строчки, было бы слишком расточительно. Источниками пропущенных значений являются колонки ```AGE``` и ```TAX```. Раз в колонке ```AGE``` так много пропусков, то проще её будет убрать из анализа, чем пытаться заделать эти дырки."
      ]
    },
    {
      "cell_type": "code",
      "execution_count": null,
      "metadata": {
        "tags": [],
        "id": "nIis7ngTH4_4"
      },
      "outputs": [],
      "source": [
        "del AHP['AGE']"
      ]
    },
    {
      "cell_type": "code",
      "execution_count": null,
      "metadata": {
        "id": "hLPGjjiYH4_5",
        "outputId": "05632d84-170b-421f-cf5e-f9c26919ce08"
      },
      "outputs": [
        {
          "data": {
            "text/html": [
              "<div>\n",
              "<style scoped>\n",
              "    .dataframe tbody tr th:only-of-type {\n",
              "        vertical-align: middle;\n",
              "    }\n",
              "\n",
              "    .dataframe tbody tr th {\n",
              "        vertical-align: top;\n",
              "    }\n",
              "\n",
              "    .dataframe thead th {\n",
              "        text-align: right;\n",
              "    }\n",
              "</style>\n",
              "<table border=\"1\" class=\"dataframe\">\n",
              "  <thead>\n",
              "    <tr style=\"text-align: right;\">\n",
              "      <th></th>\n",
              "      <th>PRICE</th>\n",
              "      <th>SQFT</th>\n",
              "      <th>FEATS</th>\n",
              "      <th>NE</th>\n",
              "      <th>CUST</th>\n",
              "      <th>COR</th>\n",
              "      <th>TAX</th>\n",
              "    </tr>\n",
              "  </thead>\n",
              "  <tbody>\n",
              "    <tr>\n",
              "      <th>0</th>\n",
              "      <td>2050</td>\n",
              "      <td>2650</td>\n",
              "      <td>7</td>\n",
              "      <td>1</td>\n",
              "      <td>1</td>\n",
              "      <td>0</td>\n",
              "      <td>1639.0</td>\n",
              "    </tr>\n",
              "    <tr>\n",
              "      <th>1</th>\n",
              "      <td>2080</td>\n",
              "      <td>2600</td>\n",
              "      <td>4</td>\n",
              "      <td>1</td>\n",
              "      <td>1</td>\n",
              "      <td>0</td>\n",
              "      <td>1088.0</td>\n",
              "    </tr>\n",
              "    <tr>\n",
              "      <th>2</th>\n",
              "      <td>2150</td>\n",
              "      <td>2664</td>\n",
              "      <td>5</td>\n",
              "      <td>1</td>\n",
              "      <td>1</td>\n",
              "      <td>0</td>\n",
              "      <td>1193.0</td>\n",
              "    </tr>\n",
              "    <tr>\n",
              "      <th>3</th>\n",
              "      <td>2150</td>\n",
              "      <td>2921</td>\n",
              "      <td>6</td>\n",
              "      <td>1</td>\n",
              "      <td>1</td>\n",
              "      <td>0</td>\n",
              "      <td>1635.0</td>\n",
              "    </tr>\n",
              "    <tr>\n",
              "      <th>4</th>\n",
              "      <td>1999</td>\n",
              "      <td>2580</td>\n",
              "      <td>4</td>\n",
              "      <td>1</td>\n",
              "      <td>1</td>\n",
              "      <td>0</td>\n",
              "      <td>1732.0</td>\n",
              "    </tr>\n",
              "    <tr>\n",
              "      <th>...</th>\n",
              "      <td>...</td>\n",
              "      <td>...</td>\n",
              "      <td>...</td>\n",
              "      <td>...</td>\n",
              "      <td>...</td>\n",
              "      <td>...</td>\n",
              "      <td>...</td>\n",
              "    </tr>\n",
              "    <tr>\n",
              "      <th>112</th>\n",
              "      <td>872</td>\n",
              "      <td>1229</td>\n",
              "      <td>3</td>\n",
              "      <td>0</td>\n",
              "      <td>0</td>\n",
              "      <td>0</td>\n",
              "      <td>721.0</td>\n",
              "    </tr>\n",
              "    <tr>\n",
              "      <th>113</th>\n",
              "      <td>870</td>\n",
              "      <td>1273</td>\n",
              "      <td>4</td>\n",
              "      <td>0</td>\n",
              "      <td>0</td>\n",
              "      <td>0</td>\n",
              "      <td>638.0</td>\n",
              "    </tr>\n",
              "    <tr>\n",
              "      <th>114</th>\n",
              "      <td>869</td>\n",
              "      <td>1165</td>\n",
              "      <td>4</td>\n",
              "      <td>0</td>\n",
              "      <td>0</td>\n",
              "      <td>0</td>\n",
              "      <td>694.0</td>\n",
              "    </tr>\n",
              "    <tr>\n",
              "      <th>115</th>\n",
              "      <td>766</td>\n",
              "      <td>1200</td>\n",
              "      <td>4</td>\n",
              "      <td>0</td>\n",
              "      <td>0</td>\n",
              "      <td>1</td>\n",
              "      <td>634.0</td>\n",
              "    </tr>\n",
              "    <tr>\n",
              "      <th>116</th>\n",
              "      <td>739</td>\n",
              "      <td>970</td>\n",
              "      <td>4</td>\n",
              "      <td>0</td>\n",
              "      <td>0</td>\n",
              "      <td>1</td>\n",
              "      <td>541.0</td>\n",
              "    </tr>\n",
              "  </tbody>\n",
              "</table>\n",
              "<p>117 rows × 7 columns</p>\n",
              "</div>"
            ],
            "text/plain": [
              "     PRICE  SQFT  FEATS  NE  CUST  COR     TAX\n",
              "0     2050  2650      7   1     1    0  1639.0\n",
              "1     2080  2600      4   1     1    0  1088.0\n",
              "2     2150  2664      5   1     1    0  1193.0\n",
              "3     2150  2921      6   1     1    0  1635.0\n",
              "4     1999  2580      4   1     1    0  1732.0\n",
              "..     ...   ...    ...  ..   ...  ...     ...\n",
              "112    872  1229      3   0     0    0   721.0\n",
              "113    870  1273      4   0     0    0   638.0\n",
              "114    869  1165      4   0     0    0   694.0\n",
              "115    766  1200      4   0     0    1   634.0\n",
              "116    739   970      4   0     0    1   541.0\n",
              "\n",
              "[117 rows x 7 columns]"
            ]
          },
          "execution_count": 13,
          "metadata": {},
          "output_type": "execute_result"
        }
      ],
      "source": [
        "AHP"
      ]
    },
    {
      "cell_type": "markdown",
      "metadata": {
        "id": "l8cn8WDjH4_5"
      },
      "source": [
        "А колонку ```TAX``` можно попробовать починить. Чтобы это сделать, сначала посмотрим, как выглядит распределение этой колонки."
      ]
    },
    {
      "cell_type": "code",
      "execution_count": null,
      "metadata": {
        "id": "icen4x5JH4_6",
        "outputId": "430629c0-520d-4936-add3-68ad9ad4f49d"
      },
      "outputs": [
        {
          "data": {
            "image/png": "[encoded data removed]",
            "text/plain": [
              "<Figure size 432x288 with 1 Axes>"
            ]
          },
          "metadata": {
            "needs_background": "light"
          },
          "output_type": "display_data"
        }
      ],
      "source": [
        "AHP['TAX'].hist( bins = 50 );"
      ]
    },
    {
      "cell_type": "markdown",
      "metadata": {
        "id": "Op7oHLluH4_7"
      },
      "source": [
        "Раз распределение похоже на нормальное, то можно заменить пропуски на среднее значение этой колонки:"
      ]
    },
    {
      "cell_type": "code",
      "execution_count": null,
      "metadata": {
        "tags": [],
        "id": "jp99hTJyH4_9"
      },
      "outputs": [],
      "source": [
        "AHP['TAX'] = AHP['TAX'].fillna(AHP['TAX'].mean())"
      ]
    },
    {
      "cell_type": "markdown",
      "metadata": {
        "id": "9Pdl73IYH4__"
      },
      "source": [
        "Убедимся, что все проблемы с пропусками устранены:"
      ]
    },
    {
      "cell_type": "code",
      "execution_count": null,
      "metadata": {
        "id": "g9E9hGQQH5AA",
        "outputId": "24e71f8e-f691-44ad-8f10-a7ca70d83571"
      },
      "outputs": [
        {
          "name": "stdout",
          "output_type": "stream",
          "text": [
            "<class 'pandas.core.frame.DataFrame'>\n",
            "RangeIndex: 117 entries, 0 to 116\n",
            "Data columns (total 7 columns):\n",
            " #   Column  Non-Null Count  Dtype  \n",
            "---  ------  --------------  -----  \n",
            " 0   PRICE   117 non-null    int64  \n",
            " 1   SQFT    117 non-null    int64  \n",
            " 2   FEATS   117 non-null    int64  \n",
            " 3   NE      117 non-null    int64  \n",
            " 4   CUST    117 non-null    int64  \n",
            " 5   COR     117 non-null    int64  \n",
            " 6   TAX     117 non-null    float64\n",
            "dtypes: float64(1), int64(6)\n",
            "memory usage: 6.5 KB\n"
          ]
        }
      ],
      "source": [
        "AHP.info()"
      ]
    },
    {
      "cell_type": "code",
      "execution_count": null,
      "metadata": {
        "id": "jF5z2j3EH5AB",
        "outputId": "0e5fee13-6a47-4886-958a-ce7f0c338bcb"
      },
      "outputs": [
        {
          "data": {
            "image/png": "[encoded data removed]",
            "text/plain": [
              "<Figure size 432x288 with 1 Axes>"
            ]
          },
          "metadata": {
            "needs_background": "light"
          },
          "output_type": "display_data"
        }
      ],
      "source": [
        "AHP['TAX'].hist( bins = 50 );"
      ]
    },
    {
      "cell_type": "markdown",
      "metadata": {
        "id": "QutYNgYuH5AC"
      },
      "source": [
        "## Построение модели: линейная регрессия"
      ]
    },
    {
      "cell_type": "markdown",
      "metadata": {
        "id": "Onl5xlV_H5AC"
      },
      "source": [
        "Теперь можно переходить непосредственно к построению модели."
      ]
    },
    {
      "cell_type": "code",
      "execution_count": null,
      "metadata": {
        "tags": [],
        "id": "BZ5yLEZ_H5AD"
      },
      "outputs": [],
      "source": [
        "from sklearn.linear_model import LinearRegression"
      ]
    },
    {
      "cell_type": "code",
      "execution_count": null,
      "metadata": {
        "tags": [],
        "id": "pbEnpnDWH5AE"
      },
      "outputs": [],
      "source": [
        "X = AHP.drop('PRICE', axis = 1)\n",
        "y = AHP['PRICE']"
      ]
    },
    {
      "cell_type": "code",
      "execution_count": null,
      "metadata": {
        "id": "P6MNsPv_H5AE",
        "outputId": "861418f9-b10e-401f-c6db-8bb18476dc76"
      },
      "outputs": [
        {
          "data": {
            "text/html": [
              "<div>\n",
              "<style scoped>\n",
              "    .dataframe tbody tr th:only-of-type {\n",
              "        vertical-align: middle;\n",
              "    }\n",
              "\n",
              "    .dataframe tbody tr th {\n",
              "        vertical-align: top;\n",
              "    }\n",
              "\n",
              "    .dataframe thead th {\n",
              "        text-align: right;\n",
              "    }\n",
              "</style>\n",
              "<table border=\"1\" class=\"dataframe\">\n",
              "  <thead>\n",
              "    <tr style=\"text-align: right;\">\n",
              "      <th></th>\n",
              "      <th>SQFT</th>\n",
              "      <th>FEATS</th>\n",
              "      <th>NE</th>\n",
              "      <th>CUST</th>\n",
              "      <th>COR</th>\n",
              "      <th>TAX</th>\n",
              "    </tr>\n",
              "  </thead>\n",
              "  <tbody>\n",
              "    <tr>\n",
              "      <th>0</th>\n",
              "      <td>2650</td>\n",
              "      <td>7</td>\n",
              "      <td>1</td>\n",
              "      <td>1</td>\n",
              "      <td>0</td>\n",
              "      <td>1639.0</td>\n",
              "    </tr>\n",
              "    <tr>\n",
              "      <th>1</th>\n",
              "      <td>2600</td>\n",
              "      <td>4</td>\n",
              "      <td>1</td>\n",
              "      <td>1</td>\n",
              "      <td>0</td>\n",
              "      <td>1088.0</td>\n",
              "    </tr>\n",
              "    <tr>\n",
              "      <th>2</th>\n",
              "      <td>2664</td>\n",
              "      <td>5</td>\n",
              "      <td>1</td>\n",
              "      <td>1</td>\n",
              "      <td>0</td>\n",
              "      <td>1193.0</td>\n",
              "    </tr>\n",
              "    <tr>\n",
              "      <th>3</th>\n",
              "      <td>2921</td>\n",
              "      <td>6</td>\n",
              "      <td>1</td>\n",
              "      <td>1</td>\n",
              "      <td>0</td>\n",
              "      <td>1635.0</td>\n",
              "    </tr>\n",
              "    <tr>\n",
              "      <th>4</th>\n",
              "      <td>2580</td>\n",
              "      <td>4</td>\n",
              "      <td>1</td>\n",
              "      <td>1</td>\n",
              "      <td>0</td>\n",
              "      <td>1732.0</td>\n",
              "    </tr>\n",
              "    <tr>\n",
              "      <th>...</th>\n",
              "      <td>...</td>\n",
              "      <td>...</td>\n",
              "      <td>...</td>\n",
              "      <td>...</td>\n",
              "      <td>...</td>\n",
              "      <td>...</td>\n",
              "    </tr>\n",
              "    <tr>\n",
              "      <th>112</th>\n",
              "      <td>1229</td>\n",
              "      <td>3</td>\n",
              "      <td>0</td>\n",
              "      <td>0</td>\n",
              "      <td>0</td>\n",
              "      <td>721.0</td>\n",
              "    </tr>\n",
              "    <tr>\n",
              "      <th>113</th>\n",
              "      <td>1273</td>\n",
              "      <td>4</td>\n",
              "      <td>0</td>\n",
              "      <td>0</td>\n",
              "      <td>0</td>\n",
              "      <td>638.0</td>\n",
              "    </tr>\n",
              "    <tr>\n",
              "      <th>114</th>\n",
              "      <td>1165</td>\n",
              "      <td>4</td>\n",
              "      <td>0</td>\n",
              "      <td>0</td>\n",
              "      <td>0</td>\n",
              "      <td>694.0</td>\n",
              "    </tr>\n",
              "    <tr>\n",
              "      <th>115</th>\n",
              "      <td>1200</td>\n",
              "      <td>4</td>\n",
              "      <td>0</td>\n",
              "      <td>0</td>\n",
              "      <td>1</td>\n",
              "      <td>634.0</td>\n",
              "    </tr>\n",
              "    <tr>\n",
              "      <th>116</th>\n",
              "      <td>970</td>\n",
              "      <td>4</td>\n",
              "      <td>0</td>\n",
              "      <td>0</td>\n",
              "      <td>1</td>\n",
              "      <td>541.0</td>\n",
              "    </tr>\n",
              "  </tbody>\n",
              "</table>\n",
              "<p>117 rows × 6 columns</p>\n",
              "</div>"
            ],
            "text/plain": [
              "     SQFT  FEATS  NE  CUST  COR     TAX\n",
              "0    2650      7   1     1    0  1639.0\n",
              "1    2600      4   1     1    0  1088.0\n",
              "2    2664      5   1     1    0  1193.0\n",
              "3    2921      6   1     1    0  1635.0\n",
              "4    2580      4   1     1    0  1732.0\n",
              "..    ...    ...  ..   ...  ...     ...\n",
              "112  1229      3   0     0    0   721.0\n",
              "113  1273      4   0     0    0   638.0\n",
              "114  1165      4   0     0    0   694.0\n",
              "115  1200      4   0     0    1   634.0\n",
              "116   970      4   0     0    1   541.0\n",
              "\n",
              "[117 rows x 6 columns]"
            ]
          },
          "execution_count": 20,
          "metadata": {},
          "output_type": "execute_result"
        }
      ],
      "source": [
        "X"
      ]
    },
    {
      "cell_type": "code",
      "execution_count": null,
      "metadata": {
        "id": "Og6IuZi7H5AF",
        "outputId": "d2bd1768-0dff-479c-b057-374fefa3bb1d"
      },
      "outputs": [
        {
          "data": {
            "text/plain": [
              "0      2050\n",
              "1      2080\n",
              "2      2150\n",
              "3      2150\n",
              "4      1999\n",
              "       ... \n",
              "112     872\n",
              "113     870\n",
              "114     869\n",
              "115     766\n",
              "116     739\n",
              "Name: PRICE, Length: 117, dtype: int64"
            ]
          },
          "execution_count": 21,
          "metadata": {},
          "output_type": "execute_result"
        }
      ],
      "source": [
        "y"
      ]
    },
    {
      "cell_type": "code",
      "execution_count": null,
      "metadata": {
        "id": "WmpkT3_LH5AG",
        "outputId": "b41dda0e-0d77-4370-f846-55ed83e4c23f"
      },
      "outputs": [
        {
          "data": {
            "text/plain": [
              "LinearRegression()"
            ]
          },
          "execution_count": 22,
          "metadata": {},
          "output_type": "execute_result"
        }
      ],
      "source": [
        "model = LinearRegression()\n",
        "model.fit(X, y)"
      ]
    },
    {
      "cell_type": "markdown",
      "metadata": {
        "id": "ZBOkCYMfH5AG"
      },
      "source": [
        "Считаем качество модели (коэффициент $R^2$)."
      ]
    },
    {
      "cell_type": "code",
      "execution_count": null,
      "metadata": {
        "id": "GtcjPW8vH5AH",
        "outputId": "89b7f98d-a727-44aa-eb26-d488deefa739"
      },
      "outputs": [
        {
          "name": "stdout",
          "output_type": "stream",
          "text": [
            "R^2: 0.8022436103807493\n"
          ]
        }
      ],
      "source": [
        "print('R^2: {0}'.format(model.score(X, y)))"
      ]
    },
    {
      "cell_type": "markdown",
      "metadata": {
        "id": "CS5F476OH5AI"
      },
      "source": [
        "Выведем регрессионные коэффициенты от метода ```model.coef_``` и свободный член от метода ```model.intercept_```."
      ]
    },
    {
      "cell_type": "code",
      "execution_count": null,
      "metadata": {
        "id": "tT6I1Fw2H5AI",
        "outputId": "62f33858-5dbb-4196-95c8-b5f91e89e21b"
      },
      "outputs": [
        {
          "data": {
            "text/html": [
              "<div>\n",
              "<style scoped>\n",
              "    .dataframe tbody tr th:only-of-type {\n",
              "        vertical-align: middle;\n",
              "    }\n",
              "\n",
              "    .dataframe tbody tr th {\n",
              "        vertical-align: top;\n",
              "    }\n",
              "\n",
              "    .dataframe thead th {\n",
              "        text-align: right;\n",
              "    }\n",
              "</style>\n",
              "<table border=\"1\" class=\"dataframe\">\n",
              "  <thead>\n",
              "    <tr style=\"text-align: right;\">\n",
              "      <th></th>\n",
              "      <th>predictor</th>\n",
              "      <th>coef</th>\n",
              "    </tr>\n",
              "  </thead>\n",
              "  <tbody>\n",
              "    <tr>\n",
              "      <th>0</th>\n",
              "      <td>intercept</td>\n",
              "      <td>83.175919</td>\n",
              "    </tr>\n",
              "    <tr>\n",
              "      <th>1</th>\n",
              "      <td>SQFT</td>\n",
              "      <td>0.291978</td>\n",
              "    </tr>\n",
              "    <tr>\n",
              "      <th>2</th>\n",
              "      <td>FEATS</td>\n",
              "      <td>12.176743</td>\n",
              "    </tr>\n",
              "    <tr>\n",
              "      <th>3</th>\n",
              "      <td>NE</td>\n",
              "      <td>8.011604</td>\n",
              "    </tr>\n",
              "    <tr>\n",
              "      <th>4</th>\n",
              "      <td>CUST</td>\n",
              "      <td>133.014342</td>\n",
              "    </tr>\n",
              "    <tr>\n",
              "      <th>5</th>\n",
              "      <td>COR</td>\n",
              "      <td>-65.800841</td>\n",
              "    </tr>\n",
              "    <tr>\n",
              "      <th>6</th>\n",
              "      <td>TAX</td>\n",
              "      <td>0.541942</td>\n",
              "    </tr>\n",
              "  </tbody>\n",
              "</table>\n",
              "</div>"
            ],
            "text/plain": [
              "   predictor        coef\n",
              "0  intercept   83.175919\n",
              "1       SQFT    0.291978\n",
              "2      FEATS   12.176743\n",
              "3         NE    8.011604\n",
              "4       CUST  133.014342\n",
              "5        COR  -65.800841\n",
              "6        TAX    0.541942"
            ]
          },
          "execution_count": 24,
          "metadata": {},
          "output_type": "execute_result"
        }
      ],
      "source": [
        "coef = pd.DataFrame(zip(['intercept'] + X.columns.tolist(),\n",
        "                        [model.intercept_] + model.coef_.tolist()),\n",
        "                    columns=['predictor', 'coef'])\n",
        "coef"
      ]
    },
    {
      "cell_type": "markdown",
      "metadata": {
        "id": "UFduNv-SH5AJ"
      },
      "source": [
        "К сожалению, в ```sklearn``` не предусмотрена процедура определения статистической значимости регрессионных коэффициентов. Поэтому нужно это делать либо руками, вооружившись знанием о распределении коэффициентов, либо воспользовавшись моделью из пакета ```statsmodels```."
      ]
    },
    {
      "cell_type": "code",
      "execution_count": null,
      "metadata": {
        "id": "Yl2b0muTH5AK",
        "outputId": "fc4d83ce-23ca-4981-b33a-a865cc6ddc82"
      },
      "outputs": [
        {
          "data": {
            "text/html": [
              "<div>\n",
              "<style scoped>\n",
              "    .dataframe tbody tr th:only-of-type {\n",
              "        vertical-align: middle;\n",
              "    }\n",
              "\n",
              "    .dataframe tbody tr th {\n",
              "        vertical-align: top;\n",
              "    }\n",
              "\n",
              "    .dataframe thead th {\n",
              "        text-align: right;\n",
              "    }\n",
              "</style>\n",
              "<table border=\"1\" class=\"dataframe\">\n",
              "  <thead>\n",
              "    <tr style=\"text-align: right;\">\n",
              "      <th></th>\n",
              "      <th>predictor</th>\n",
              "      <th>coef</th>\n",
              "      <th>pvalue</th>\n",
              "    </tr>\n",
              "  </thead>\n",
              "  <tbody>\n",
              "    <tr>\n",
              "      <th>0</th>\n",
              "      <td>intercept</td>\n",
              "      <td>83.175919</td>\n",
              "      <td>1.895059e-01</td>\n",
              "    </tr>\n",
              "    <tr>\n",
              "      <th>1</th>\n",
              "      <td>SQFT</td>\n",
              "      <td>0.291978</td>\n",
              "      <td>2.580075e-06</td>\n",
              "    </tr>\n",
              "    <tr>\n",
              "      <th>2</th>\n",
              "      <td>FEATS</td>\n",
              "      <td>12.176743</td>\n",
              "      <td>3.419172e-01</td>\n",
              "    </tr>\n",
              "    <tr>\n",
              "      <th>3</th>\n",
              "      <td>NE</td>\n",
              "      <td>8.011604</td>\n",
              "      <td>8.190403e-01</td>\n",
              "    </tr>\n",
              "    <tr>\n",
              "      <th>4</th>\n",
              "      <td>CUST</td>\n",
              "      <td>133.014342</td>\n",
              "      <td>3.454095e-03</td>\n",
              "    </tr>\n",
              "    <tr>\n",
              "      <th>5</th>\n",
              "      <td>COR</td>\n",
              "      <td>-65.800841</td>\n",
              "      <td>1.168611e-01</td>\n",
              "    </tr>\n",
              "    <tr>\n",
              "      <th>6</th>\n",
              "      <td>TAX</td>\n",
              "      <td>0.541942</td>\n",
              "      <td>4.972770e-07</td>\n",
              "    </tr>\n",
              "  </tbody>\n",
              "</table>\n",
              "</div>"
            ],
            "text/plain": [
              "   predictor        coef        pvalue\n",
              "0  intercept   83.175919  1.895059e-01\n",
              "1       SQFT    0.291978  2.580075e-06\n",
              "2      FEATS   12.176743  3.419172e-01\n",
              "3         NE    8.011604  8.190403e-01\n",
              "4       CUST  133.014342  3.454095e-03\n",
              "5        COR  -65.800841  1.168611e-01\n",
              "6        TAX    0.541942  4.972770e-07"
            ]
          },
          "execution_count": 25,
          "metadata": {},
          "output_type": "execute_result"
        }
      ],
      "source": [
        "from scipy import stats\n",
        "\n",
        "def regression_coef(model, X, y):\n",
        "    coef = pd.DataFrame(zip(['intercept'] + X.columns.tolist(),\n",
        "                            [model.intercept_] + model.coef_.tolist()),\n",
        "                        columns=['predictor', 'coef'])\n",
        "\n",
        "    X1 = np.append(np.ones((len(X),1)), X, axis=1)\n",
        "    b = np.append(model.intercept_, model.coef_)\n",
        "    MSE = np.sum((model.predict(X) - y) ** 2, axis=0) / float(X.shape[0] - X.shape[1])\n",
        "    var_b = MSE * (np.linalg.inv(np.dot(X1.T, X1)).diagonal())\n",
        "    sd_b = np.sqrt(var_b)\n",
        "    t = b / sd_b\n",
        "    coef['pvalue'] = [2 * (1 - stats.t.cdf(np.abs(i), (len(X1) - 1))) for i in t]\n",
        "    return coef\n",
        "\n",
        "regression_coef(model, X, y)"
      ]
    },
    {
      "cell_type": "markdown",
      "metadata": {
        "id": "HhBHTknrH5AL"
      },
      "source": [
        "Как интерпретировать модель? У нас есть 3 значимых предиктора: ```SQFT```, ```CUST``` и ```TAX```.  Значение коэффициента говорит, на сколько вырастет значение сигнала при увеличении предиктора на одну единицу. Смысл первых двух коэффициентов понятен: площадь и специальный вид постройки ожидаемо влияют на цену. Но есть ли смысл включать в предсказание цены дома налог с этого же дома? Ведь налог, как и цена, также начисляется исходя из похожих предикторов. Они должны сильно коррелировать. И действительно. Построим таблицу парных корреляций предикторов."
      ]
    },
    {
      "cell_type": "code",
      "execution_count": null,
      "metadata": {
        "id": "jOEx17m0H5AL",
        "outputId": "f5bd160f-0539-4594-efe4-d274a9ad444a"
      },
      "outputs": [
        {
          "data": {
            "image/png": "[encoded data removed]",
            "text/plain": [
              "<Figure size 504x504 with 2 Axes>"
            ]
          },
          "metadata": {
            "needs_background": "light"
          },
          "output_type": "display_data"
        }
      ],
      "source": [
        "plt.figure(figsize = (7, 7))\n",
        "sns.heatmap(AHP.corr(), cmap = 'coolwarm', vmax = 0.6, square = True, annot = True);"
      ]
    },
    {
      "cell_type": "markdown",
      "metadata": {
        "id": "cLLe_TaPH5AM"
      },
      "source": [
        "Налоги сильно коррелируют с площадью. Предлагается откинуть налоги."
      ]
    },
    {
      "cell_type": "code",
      "execution_count": null,
      "metadata": {
        "tags": [],
        "id": "vYQJ0hl6H5Ax",
        "outputId": "df64bbcd-119e-4519-f52f-43de534f49fd"
      },
      "outputs": [
        {
          "name": "stdout",
          "output_type": "stream",
          "text": [
            "0.7398546894225253\n"
          ]
        },
        {
          "data": {
            "text/html": [
              "<div>\n",
              "<style scoped>\n",
              "    .dataframe tbody tr th:only-of-type {\n",
              "        vertical-align: middle;\n",
              "    }\n",
              "\n",
              "    .dataframe tbody tr th {\n",
              "        vertical-align: top;\n",
              "    }\n",
              "\n",
              "    .dataframe thead th {\n",
              "        text-align: right;\n",
              "    }\n",
              "</style>\n",
              "<table border=\"1\" class=\"dataframe\">\n",
              "  <thead>\n",
              "    <tr style=\"text-align: right;\">\n",
              "      <th></th>\n",
              "      <th>predictor</th>\n",
              "      <th>coef</th>\n",
              "      <th>pvalue</th>\n",
              "    </tr>\n",
              "  </thead>\n",
              "  <tbody>\n",
              "    <tr>\n",
              "      <th>0</th>\n",
              "      <td>intercept</td>\n",
              "      <td>65.959766</td>\n",
              "      <td>0.345472</td>\n",
              "    </tr>\n",
              "    <tr>\n",
              "      <th>1</th>\n",
              "      <td>SQFT</td>\n",
              "      <td>0.527919</td>\n",
              "      <td>0.000000</td>\n",
              "    </tr>\n",
              "    <tr>\n",
              "      <th>2</th>\n",
              "      <td>FEATS</td>\n",
              "      <td>25.979118</td>\n",
              "      <td>0.067760</td>\n",
              "    </tr>\n",
              "    <tr>\n",
              "      <th>3</th>\n",
              "      <td>CUST</td>\n",
              "      <td>138.534915</td>\n",
              "      <td>0.006877</td>\n",
              "    </tr>\n",
              "  </tbody>\n",
              "</table>\n",
              "</div>"
            ],
            "text/plain": [
              "   predictor        coef    pvalue\n",
              "0  intercept   65.959766  0.345472\n",
              "1       SQFT    0.527919  0.000000\n",
              "2      FEATS   25.979118  0.067760\n",
              "3       CUST  138.534915  0.006877"
            ]
          },
          "execution_count": 28,
          "metadata": {},
          "output_type": "execute_result"
        }
      ],
      "source": [
        "X = AHP[['SQFT', 'FEATS', 'CUST']]\n",
        "model.fit(X, y)\n",
        "print(model.score(X, y))\n",
        "regression_coef(model, X, y)"
      ]
    },
    {
      "cell_type": "code",
      "execution_count": null,
      "metadata": {
        "id": "QuIC_AQXH5Ay",
        "outputId": "a99cb3a3-3647-46ca-bc0c-adcf2916f973"
      },
      "outputs": [
        {
          "data": {
            "image/png": "[encoded data removed]",
            "text/plain": [
              "<Figure size 432x288 with 1 Axes>"
            ]
          },
          "metadata": {
            "needs_background": "light"
          },
          "output_type": "display_data"
        }
      ],
      "source": [
        "AHP.plot.scatter(x='FEATS', y='PRICE');"
      ]
    },
    {
      "cell_type": "code",
      "execution_count": null,
      "metadata": {
        "id": "y19goRZLH5Az",
        "outputId": "c4de3ef5-4930-4852-8d5e-ea9675e88f54"
      },
      "outputs": [
        {
          "data": {
            "image/png": "[encoded data removed]",
            "text/plain": [
              "<Figure size 432x288 with 1 Axes>"
            ]
          },
          "metadata": {
            "needs_background": "light"
          },
          "output_type": "display_data"
        }
      ],
      "source": [
        "AHP.plot.scatter( x = 'SQFT', y = 'PRICE');"
      ]
    },
    {
      "cell_type": "code",
      "execution_count": null,
      "metadata": {
        "id": "KrwOIdc5H5Az",
        "outputId": "0297ea19-dd1f-4ac7-8be7-24f922d17229"
      },
      "outputs": [
        {
          "data": {
            "image/png": "[encoded data removed]",
            "text/plain": [
              "<Figure size 1080x360 with 3 Axes>"
            ]
          },
          "metadata": {
            "needs_background": "light"
          },
          "output_type": "display_data"
        }
      ],
      "source": [
        "sns.pairplot(AHP,\n",
        "             y_vars = 'PRICE',\n",
        "             x_vars = ['SQFT', 'FEATS', 'CUST'],\n",
        "             height = 5,\n",
        "             kind = 'reg',\n",
        "            );"
      ]
    },
    {
      "cell_type": "markdown",
      "metadata": {
        "id": "TVbgWie0H5A0"
      },
      "source": [
        "---\n",
        "## ПРИМЕР"
      ]
    },
    {
      "cell_type": "code",
      "execution_count": null,
      "metadata": {
        "id": "hAswD6VnH5A0",
        "outputId": "8f4b32fb-e2ae-44d5-c5d2-bd2d6c87170e"
      },
      "outputs": [
        {
          "data": {
            "text/html": [
              "<div>\n",
              "<style scoped>\n",
              "    .dataframe tbody tr th:only-of-type {\n",
              "        vertical-align: middle;\n",
              "    }\n",
              "\n",
              "    .dataframe tbody tr th {\n",
              "        vertical-align: top;\n",
              "    }\n",
              "\n",
              "    .dataframe thead th {\n",
              "        text-align: right;\n",
              "    }\n",
              "</style>\n",
              "<table border=\"1\" class=\"dataframe\">\n",
              "  <thead>\n",
              "    <tr style=\"text-align: right;\">\n",
              "      <th></th>\n",
              "      <th>TV</th>\n",
              "      <th>Radio</th>\n",
              "      <th>Newspaper</th>\n",
              "      <th>Sales</th>\n",
              "    </tr>\n",
              "  </thead>\n",
              "  <tbody>\n",
              "    <tr>\n",
              "      <th>196</th>\n",
              "      <td>38.2</td>\n",
              "      <td>3.7</td>\n",
              "      <td>13.8</td>\n",
              "      <td>7.6</td>\n",
              "    </tr>\n",
              "    <tr>\n",
              "      <th>197</th>\n",
              "      <td>94.2</td>\n",
              "      <td>4.9</td>\n",
              "      <td>8.1</td>\n",
              "      <td>9.7</td>\n",
              "    </tr>\n",
              "    <tr>\n",
              "      <th>198</th>\n",
              "      <td>177.0</td>\n",
              "      <td>9.3</td>\n",
              "      <td>6.4</td>\n",
              "      <td>12.8</td>\n",
              "    </tr>\n",
              "    <tr>\n",
              "      <th>199</th>\n",
              "      <td>283.6</td>\n",
              "      <td>42.0</td>\n",
              "      <td>66.2</td>\n",
              "      <td>25.5</td>\n",
              "    </tr>\n",
              "    <tr>\n",
              "      <th>200</th>\n",
              "      <td>232.1</td>\n",
              "      <td>8.6</td>\n",
              "      <td>8.7</td>\n",
              "      <td>13.4</td>\n",
              "    </tr>\n",
              "  </tbody>\n",
              "</table>\n",
              "</div>"
            ],
            "text/plain": [
              "        TV  Radio  Newspaper  Sales\n",
              "196   38.2    3.7       13.8    7.6\n",
              "197   94.2    4.9        8.1    9.7\n",
              "198  177.0    9.3        6.4   12.8\n",
              "199  283.6   42.0       66.2   25.5\n",
              "200  232.1    8.6        8.7   13.4"
            ]
          },
          "execution_count": 33,
          "metadata": {},
          "output_type": "execute_result"
        }
      ],
      "source": [
        "ADV = pd.read_csv('Advertising.csv', sep = ';', index_col = 0)\n",
        "ADV.tail()"
      ]
    },
    {
      "cell_type": "markdown",
      "metadata": {
        "id": "-dduLTY8H5A1"
      },
      "source": [
        "В нашей выборке мы имеем 200 наблюдений (200 разных рынков с разным объёмом рекламы). Описание колонок:\n",
        "\n",
        "__TV__ - доллары, потраченные на ТВ рекламу для одного продукта на данном рынке (в тысячах долларов)\n",
        "__Radio__ - доллары, потраченные на радио рекламу\n",
        "__Newspaper__ - доллары, потраченные на рекламу в газетах\n",
        "__Sales__ - продажи продукта на данном рынке (в тысячах штук)\n"
      ]
    },
    {
      "cell_type": "code",
      "execution_count": null,
      "metadata": {
        "id": "sxLLfBMpH5A2",
        "outputId": "86a7d911-7533-4721-dcd1-f88bcee4bebc"
      },
      "outputs": [
        {
          "data": {
            "image/png": "[encoded data removed]",
            "text/plain": [
              "<Figure size 1080x360 with 3 Axes>"
            ]
          },
          "metadata": {
            "needs_background": "light"
          },
          "output_type": "display_data"
        }
      ],
      "source": [
        "sns.pairplot(ADV,\n",
        "             y_vars = 'Sales',\n",
        "             x_vars = ['TV', 'Radio', 'Newspaper'],\n",
        "             height = 5,\n",
        "             kind='reg'\n",
        "            );"
      ]
    },
    {
      "cell_type": "markdown",
      "metadata": {
        "id": "hssq7iXFH5A2"
      },
      "source": [
        "Для начала давайте поговорим только про рекламу на TV. Оценим параметры модели\n",
        "\n",
        "$$\n",
        "Sales_i = \\beta_0 + \\beta_1 \\cdot TV_i + \\varepsilon_i\n",
        "$$"
      ]
    },
    {
      "cell_type": "code",
      "execution_count": null,
      "metadata": {
        "id": "u0IsqPr7H5A3"
      },
      "outputs": [],
      "source": [
        "import statsmodels.formula.api as smf"
      ]
    },
    {
      "cell_type": "code",
      "execution_count": null,
      "metadata": {
        "id": "QxUURYvuH5A5",
        "outputId": "570e4446-9246-458d-f81b-ef1c30931e1b"
      },
      "outputs": [
        {
          "name": "stdout",
          "output_type": "stream",
          "text": [
            "                            OLS Regression Results                            \n",
            "==============================================================================\n",
            "Dep. Variable:                  Sales   R-squared:                       0.612\n",
            "Model:                            OLS   Adj. R-squared:                  0.610\n",
            "Method:                 Least Squares   F-statistic:                     312.1\n",
            "Date:                Fri, 19 Nov 2021   Prob (F-statistic):           1.47e-42\n",
            "Time:                        11:16:13   Log-Likelihood:                -519.05\n",
            "No. Observations:                 200   AIC:                             1042.\n",
            "Df Residuals:                     198   BIC:                             1049.\n",
            "Df Model:                           1                                         \n",
            "Covariance Type:            nonrobust                                         \n",
            "==============================================================================\n",
            "                 coef    std err          t      P>|t|      [0.025      0.975]\n",
            "------------------------------------------------------------------------------\n",
            "Intercept      7.0326      0.458     15.360      0.000       6.130       7.935\n",
            "TV             0.0475      0.003     17.668      0.000       0.042       0.053\n",
            "==============================================================================\n",
            "Omnibus:                        0.531   Durbin-Watson:                   1.935\n",
            "Prob(Omnibus):                  0.767   Jarque-Bera (JB):                0.669\n",
            "Skew:                          -0.089   Prob(JB):                        0.716\n",
            "Kurtosis:                       2.779   Cond. No.                         338.\n",
            "==============================================================================\n",
            "\n",
            "Notes:\n",
            "[1] Standard Errors assume that the covariance matrix of the errors is correctly specified.\n"
          ]
        }
      ],
      "source": [
        "model = smf.ols('Sales ~ TV', data = ADV)\n",
        "res = model.fit()\n",
        "print(res.summary())"
      ]
    },
    {
      "cell_type": "code",
      "execution_count": null,
      "metadata": {
        "id": "4nCRUK4OH5A6",
        "outputId": "ae01f62a-0ba1-4093-aa98-2a02a1a7ab00"
      },
      "outputs": [
        {
          "data": {
            "text/plain": [
              "Intercept    7.032594\n",
              "TV           0.047537\n",
              "dtype: float64"
            ]
          },
          "execution_count": 45,
          "metadata": {},
          "output_type": "execute_result"
        }
      ],
      "source": [
        "res.params"
      ]
    },
    {
      "cell_type": "markdown",
      "metadata": {
        "id": "HuXbtS8_H5A6"
      },
      "source": [
        "Переменная $TV$ значима, так как $p$-значение для проверки гипотезы о том, что она равна нулю оказалось очень маленьким, наблюдаемое значение статистики $17.668$. Оно лежит глубоко в хвосте нашего распределения.\n",
        "Получившееся уравнение\n",
        "$$\n",
        "Sales_i = 7.033 + 0.047 \\cdot TV_i\n",
        "$$\n",
        "можно проинтерпретировать так, что каждые дополнительные $1000$ долларов, потраченные на рекламу по телевизору, увеличивают продажы на $47.537$ товаров.\n"
      ]
    },
    {
      "cell_type": "code",
      "execution_count": null,
      "metadata": {
        "id": "DgUDYZzdH5A7",
        "outputId": "65399253-a6e5-4051-ad87-035e80d43e94"
      },
      "outputs": [
        {
          "data": {
            "text/html": [
              "<div>\n",
              "<style scoped>\n",
              "    .dataframe tbody tr th:only-of-type {\n",
              "        vertical-align: middle;\n",
              "    }\n",
              "\n",
              "    .dataframe tbody tr th {\n",
              "        vertical-align: top;\n",
              "    }\n",
              "\n",
              "    .dataframe thead th {\n",
              "        text-align: right;\n",
              "    }\n",
              "</style>\n",
              "<table border=\"1\" class=\"dataframe\">\n",
              "  <thead>\n",
              "    <tr style=\"text-align: right;\">\n",
              "      <th></th>\n",
              "      <th>TV</th>\n",
              "    </tr>\n",
              "  </thead>\n",
              "  <tbody>\n",
              "    <tr>\n",
              "      <th>0</th>\n",
              "      <td>50</td>\n",
              "    </tr>\n",
              "  </tbody>\n",
              "</table>\n",
              "</div>"
            ],
            "text/plain": [
              "   TV\n",
              "0  50"
            ]
          },
          "execution_count": 46,
          "metadata": {},
          "output_type": "execute_result"
        }
      ],
      "source": [
        "X_new = pd.DataFrame({'TV':[50]})\n",
        "X_new"
      ]
    },
    {
      "cell_type": "code",
      "execution_count": null,
      "metadata": {
        "id": "-qFfKXgkH5A8",
        "outputId": "a5c869cb-856c-4759-b7c1-d62f6a1fd31b"
      },
      "outputs": [
        {
          "data": {
            "text/plain": [
              "0    9.409426\n",
              "dtype: float64"
            ]
          },
          "execution_count": 47,
          "metadata": {},
          "output_type": "execute_result"
        }
      ],
      "source": [
        "res.predict(X_new)"
      ]
    },
    {
      "cell_type": "code",
      "execution_count": null,
      "metadata": {
        "id": "3C-9eoXXH5A9",
        "outputId": "50d613b5-4694-4eb3-de39-55e4382eeefd"
      },
      "outputs": [
        {
          "data": {
            "text/plain": [
              "9.383000000000001"
            ]
          },
          "execution_count": 48,
          "metadata": {},
          "output_type": "execute_result"
        }
      ],
      "source": [
        "7.033+0.047*50"
      ]
    },
    {
      "cell_type": "markdown",
      "metadata": {
        "id": "7PxYaMQMH5BA"
      },
      "source": [
        "\n",
        "> Мы можем так интерпретировать значение коэффициента, если выполняются предпослыки линейной регрессии. Например, первая предпослыка говорит о том, что мы должны были верно специфицировать модель.\n",
        "\n",
        "> Если модель специфицирована неверно, у нас есть проблемы.\n",
        "\n",
        "> Мы получаем корректные оценки стандартных ошибок в ситуации, когда ошибки независимо одинаково распределены с одинаковой дисперсией. Если это не так, оценки ошибок искажены."
      ]
    },
    {
      "cell_type": "markdown",
      "metadata": {
        "id": "xJGQMi4EH5BA"
      },
      "source": [
        "## Парная регрессия в логарифмах\n",
        "У нашей модели явно есть проблемы со спецификацией. Давайте попробуем их исправить. Если взглянуть на график того, как между собой взаимосвязаны реклама по TV и продажи, можно заметить нелинейную зависимость, похожую на логарифмическую."
      ]
    },
    {
      "cell_type": "code",
      "execution_count": null,
      "metadata": {
        "id": "E9o1t3qLH5BB",
        "outputId": "e5b3b8dd-9a77-42d3-96fc-55d771cd4a0a"
      },
      "outputs": [
        {
          "data": {
            "text/html": [
              "<div>\n",
              "<style scoped>\n",
              "    .dataframe tbody tr th:only-of-type {\n",
              "        vertical-align: middle;\n",
              "    }\n",
              "\n",
              "    .dataframe tbody tr th {\n",
              "        vertical-align: top;\n",
              "    }\n",
              "\n",
              "    .dataframe thead th {\n",
              "        text-align: right;\n",
              "    }\n",
              "</style>\n",
              "<table border=\"1\" class=\"dataframe\">\n",
              "  <thead>\n",
              "    <tr style=\"text-align: right;\">\n",
              "      <th></th>\n",
              "      <th>TV</th>\n",
              "      <th>Radio</th>\n",
              "      <th>Newspaper</th>\n",
              "      <th>Sales</th>\n",
              "      <th>ln_Sales</th>\n",
              "      <th>ln_TV</th>\n",
              "    </tr>\n",
              "  </thead>\n",
              "  <tbody>\n",
              "    <tr>\n",
              "      <th>1</th>\n",
              "      <td>230.1</td>\n",
              "      <td>37.8</td>\n",
              "      <td>69.2</td>\n",
              "      <td>22.1</td>\n",
              "      <td>3.095578</td>\n",
              "      <td>5.438514</td>\n",
              "    </tr>\n",
              "    <tr>\n",
              "      <th>2</th>\n",
              "      <td>44.5</td>\n",
              "      <td>39.3</td>\n",
              "      <td>45.1</td>\n",
              "      <td>10.4</td>\n",
              "      <td>2.341806</td>\n",
              "      <td>3.795489</td>\n",
              "    </tr>\n",
              "    <tr>\n",
              "      <th>3</th>\n",
              "      <td>17.2</td>\n",
              "      <td>45.9</td>\n",
              "      <td>69.3</td>\n",
              "      <td>9.3</td>\n",
              "      <td>2.230014</td>\n",
              "      <td>2.844909</td>\n",
              "    </tr>\n",
              "    <tr>\n",
              "      <th>4</th>\n",
              "      <td>151.5</td>\n",
              "      <td>41.3</td>\n",
              "      <td>58.5</td>\n",
              "      <td>18.5</td>\n",
              "      <td>2.917771</td>\n",
              "      <td>5.020586</td>\n",
              "    </tr>\n",
              "    <tr>\n",
              "      <th>5</th>\n",
              "      <td>180.8</td>\n",
              "      <td>10.8</td>\n",
              "      <td>58.4</td>\n",
              "      <td>12.9</td>\n",
              "      <td>2.557227</td>\n",
              "      <td>5.197391</td>\n",
              "    </tr>\n",
              "    <tr>\n",
              "      <th>...</th>\n",
              "      <td>...</td>\n",
              "      <td>...</td>\n",
              "      <td>...</td>\n",
              "      <td>...</td>\n",
              "      <td>...</td>\n",
              "      <td>...</td>\n",
              "    </tr>\n",
              "    <tr>\n",
              "      <th>196</th>\n",
              "      <td>38.2</td>\n",
              "      <td>3.7</td>\n",
              "      <td>13.8</td>\n",
              "      <td>7.6</td>\n",
              "      <td>2.028148</td>\n",
              "      <td>3.642836</td>\n",
              "    </tr>\n",
              "    <tr>\n",
              "      <th>197</th>\n",
              "      <td>94.2</td>\n",
              "      <td>4.9</td>\n",
              "      <td>8.1</td>\n",
              "      <td>9.7</td>\n",
              "      <td>2.272126</td>\n",
              "      <td>4.545420</td>\n",
              "    </tr>\n",
              "    <tr>\n",
              "      <th>198</th>\n",
              "      <td>177.0</td>\n",
              "      <td>9.3</td>\n",
              "      <td>6.4</td>\n",
              "      <td>12.8</td>\n",
              "      <td>2.549445</td>\n",
              "      <td>5.176150</td>\n",
              "    </tr>\n",
              "    <tr>\n",
              "      <th>199</th>\n",
              "      <td>283.6</td>\n",
              "      <td>42.0</td>\n",
              "      <td>66.2</td>\n",
              "      <td>25.5</td>\n",
              "      <td>3.238678</td>\n",
              "      <td>5.647565</td>\n",
              "    </tr>\n",
              "    <tr>\n",
              "      <th>200</th>\n",
              "      <td>232.1</td>\n",
              "      <td>8.6</td>\n",
              "      <td>8.7</td>\n",
              "      <td>13.4</td>\n",
              "      <td>2.595255</td>\n",
              "      <td>5.447168</td>\n",
              "    </tr>\n",
              "  </tbody>\n",
              "</table>\n",
              "<p>200 rows × 6 columns</p>\n",
              "</div>"
            ],
            "text/plain": [
              "        TV  Radio  Newspaper  Sales  ln_Sales     ln_TV\n",
              "1    230.1   37.8       69.2   22.1  3.095578  5.438514\n",
              "2     44.5   39.3       45.1   10.4  2.341806  3.795489\n",
              "3     17.2   45.9       69.3    9.3  2.230014  2.844909\n",
              "4    151.5   41.3       58.5   18.5  2.917771  5.020586\n",
              "5    180.8   10.8       58.4   12.9  2.557227  5.197391\n",
              "..     ...    ...        ...    ...       ...       ...\n",
              "196   38.2    3.7       13.8    7.6  2.028148  3.642836\n",
              "197   94.2    4.9        8.1    9.7  2.272126  4.545420\n",
              "198  177.0    9.3        6.4   12.8  2.549445  5.176150\n",
              "199  283.6   42.0       66.2   25.5  3.238678  5.647565\n",
              "200  232.1    8.6        8.7   13.4  2.595255  5.447168\n",
              "\n",
              "[200 rows x 6 columns]"
            ]
          },
          "execution_count": 50,
          "metadata": {},
          "output_type": "execute_result"
        }
      ],
      "source": [
        "ADV['ln_TV'] = ADV['TV'].apply(np.log)\n",
        "ADV['ln_Sales'] = ADV['Sales'].apply(np.log)\n",
        "ADV"
      ]
    },
    {
      "cell_type": "code",
      "execution_count": null,
      "metadata": {
        "id": "kSFS2xnmH5BE",
        "outputId": "83ed398a-8923-4c5a-ca6c-3f2b2a411648"
      },
      "outputs": [
        {
          "data": {
            "image/png": "[encoded data removed]",
            "text/plain": [
              "<Figure size 360x360 with 4 Axes>"
            ]
          },
          "metadata": {
            "needs_background": "light"
          },
          "output_type": "display_data"
        }
      ],
      "source": [
        "sns.pairplot(ADV,\n",
        "             y_vars = ['Sales', 'ln_Sales'],\n",
        "             x_vars = ['TV', 'ln_TV'],\n",
        "             height = 2.5,\n",
        "             diag_kind = None\n",
        "            );"
      ]
    },
    {
      "cell_type": "code",
      "execution_count": null,
      "metadata": {
        "id": "T63V6SrpH5BG"
      },
      "outputs": [],
      "source": [
        "ADV = ADV[ADV.Sales > ADV.Sales.quantile(0.01)]"
      ]
    },
    {
      "cell_type": "code",
      "execution_count": null,
      "metadata": {
        "id": "pfaPSIJQH5BH",
        "outputId": "007ae4f6-5b60-4d9f-cbf6-1775d995aea0"
      },
      "outputs": [
        {
          "data": {
            "image/png": "[encoded data removed]",
            "text/plain": [
              "<Figure size 360x360 with 4 Axes>"
            ]
          },
          "metadata": {
            "needs_background": "light"
          },
          "output_type": "display_data"
        }
      ],
      "source": [
        "sns.pairplot(ADV,\n",
        "             y_vars = ['Sales', 'ln_Sales'],\n",
        "             x_vars = ['TV', 'ln_TV'],\n",
        "             height = 2.5,\n",
        "             diag_kind = None\n",
        "            );"
      ]
    },
    {
      "cell_type": "markdown",
      "metadata": {
        "id": "2cV_pxtpH5BH"
      },
      "source": [
        "Оценим параметры модели\n",
        "\n",
        "$$\n",
        "\\ln Sales_i = \\beta_0 + \\beta_1 \\cdot \\ln TV_i + \\varepsilon_i\n",
        "$$"
      ]
    },
    {
      "cell_type": "code",
      "execution_count": null,
      "metadata": {
        "id": "w_R6GurKH5BI",
        "outputId": "78b570b7-45bc-4d57-ccf8-58234a3d3993"
      },
      "outputs": [
        {
          "name": "stdout",
          "output_type": "stream",
          "text": [
            "                            OLS Regression Results                            \n",
            "==============================================================================\n",
            "Dep. Variable:               ln_Sales   R-squared:                       0.689\n",
            "Model:                            OLS   Adj. R-squared:                  0.688\n",
            "Method:                 Least Squares   F-statistic:                     435.1\n",
            "Date:                Fri, 19 Nov 2021   Prob (F-statistic):           1.16e-51\n",
            "Time:                        11:24:33   Log-Likelihood:                 29.332\n",
            "No. Observations:                 198   AIC:                            -54.66\n",
            "Df Residuals:                     196   BIC:                            -48.09\n",
            "Df Model:                           1                                         \n",
            "Covariance Type:            nonrobust                                         \n",
            "==============================================================================\n",
            "                 coef    std err          t      P>|t|      [0.025      0.975]\n",
            "------------------------------------------------------------------------------\n",
            "Intercept      0.9757      0.078     12.443      0.000       0.821       1.130\n",
            "ln_TV          0.3407      0.016     20.859      0.000       0.308       0.373\n",
            "==============================================================================\n",
            "Omnibus:                       29.778   Durbin-Watson:                   1.987\n",
            "Prob(Omnibus):                  0.000   Jarque-Bera (JB):                7.992\n",
            "Skew:                          -0.077   Prob(JB):                       0.0184\n",
            "Kurtosis:                       2.028   Cond. No.                         26.3\n",
            "==============================================================================\n",
            "\n",
            "Notes:\n",
            "[1] Standard Errors assume that the covariance matrix of the errors is correctly specified.\n"
          ]
        }
      ],
      "source": [
        "import statsmodels.formula.api as smf\n",
        "\n",
        "model = smf.ols('ln_Sales ~ ln_TV', data = ADV)\n",
        "res = model.fit()\n",
        "print(res.summary())"
      ]
    },
    {
      "cell_type": "markdown",
      "metadata": {
        "id": "ugaVIcX8H5BJ"
      },
      "source": [
        "Переменная снова значима. $R^2$ подрос. Все коэффициенты в моделях, где целевые и объясняющие переменные взяты в логарифмах, интерпретируются в процентных изменениях. Например, коэффициент $0.34$ можно проинтерпретировать как то, на сколько процентов увеличутся продажи, при изменении трат на рекламу по телевизору на $1\\%$."
      ]
    },
    {
      "cell_type": "code",
      "execution_count": null,
      "metadata": {
        "id": "m2cRtfjhH5BK"
      },
      "outputs": [],
      "source": [
        "xs = np.linspace(1, 300, 200)\n",
        "X_new = pd.DataFrame({ 'ln_TV': np.log(xs) })\n",
        "preds = np.exp(res.predict(X_new))"
      ]
    },
    {
      "cell_type": "code",
      "execution_count": null,
      "metadata": {
        "id": "NEYq2-0qH5BL",
        "outputId": "0c81fe25-9ebb-44b4-e8ba-91acece07b6d"
      },
      "outputs": [
        {
          "data": {
            "image/png": "[encoded data removed]",
            "text/plain": [
              "<Figure size 432x288 with 1 Axes>"
            ]
          },
          "metadata": {
            "needs_background": "light"
          },
          "output_type": "display_data"
        }
      ],
      "source": [
        "ADV.plot(kind = 'scatter', x = 'TV', y = 'Sales')\n",
        "plt.plot(xs, preds, c = 'red', linewidth = 2);"
      ]
    },
    {
      "cell_type": "markdown",
      "metadata": {
        "id": "9TwCiWtQH5BM"
      },
      "source": [
        "__Выводы:__\n",
        "- Тратить деньги на рекламу в газетах неэффективно. Гипотеза о том, что коэффициент перед этой переменной равен нулю, не отвергается.\n",
        "- Реклама по телевидению обладает убывающей отдачей от масштаба. Коэффициент перед логарифмом получился меньше единицы. Этот канал оказывается в плане рекламы самым эффективным.\n",
        "- Канал, связанный с радио, судя по всему, недоиспользуется. Здравый смысл и микроэкономика подсказывают, что от него тоже логично ожидать убывающую от масштаба отдачу. Однако в данных мы видим, что она линейная."
      ]
    },
    {
      "cell_type": "markdown",
      "metadata": {
        "id": "BDT4gR4_H5BN"
      },
      "source": [
        "## Множественная регрессия\n",
        "Оценим уравнение\n",
        "\n",
        "$$\n",
        "\\ln Sales_i = \\beta_0 + \\beta_1 \\cdot \\ln TV_i + \\beta_2 \\cdot Radio_i + \\beta_3 \\cdot Newspaper_i + \\varepsilon_i\n",
        "$$"
      ]
    },
    {
      "cell_type": "code",
      "execution_count": null,
      "metadata": {
        "id": "-rRoG0CpH5BO",
        "outputId": "0ae6df73-232f-4432-f3f4-73813e8690aa"
      },
      "outputs": [
        {
          "name": "stdout",
          "output_type": "stream",
          "text": [
            "                            OLS Regression Results                            \n",
            "==============================================================================\n",
            "Dep. Variable:               ln_Sales   R-squared:                       0.979\n",
            "Model:                            OLS   Adj. R-squared:                  0.978\n",
            "Method:                 Least Squares   F-statistic:                     2959.\n",
            "Date:                Thu, 18 Nov 2021   Prob (F-statistic):          1.17e-161\n",
            "Time:                        19:56:06   Log-Likelihood:                 294.22\n",
            "No. Observations:                 198   AIC:                            -580.4\n",
            "Df Residuals:                     194   BIC:                            -567.3\n",
            "Df Model:                           3                                         \n",
            "Covariance Type:            nonrobust                                         \n",
            "==============================================================================\n",
            "                 coef    std err          t      P>|t|      [0.025      0.975]\n",
            "------------------------------------------------------------------------------\n",
            "Intercept      0.6661      0.022     30.446      0.000       0.623       0.709\n",
            "ln_TV          0.3397      0.004     78.844      0.000       0.331       0.348\n",
            "Radio          0.0136      0.000     47.947      0.000       0.013       0.014\n",
            "Newspaper  -7.896e-05      0.000     -0.407      0.685      -0.000       0.000\n",
            "==============================================================================\n",
            "Omnibus:                        3.843   Durbin-Watson:                   2.075\n",
            "Prob(Omnibus):                  0.146   Jarque-Bera (JB):                3.540\n",
            "Skew:                          -0.241   Prob(JB):                        0.170\n",
            "Kurtosis:                       3.444   Cond. No.                         253.\n",
            "==============================================================================\n",
            "\n",
            "Notes:\n",
            "[1] Standard Errors assume that the covariance matrix of the errors is correctly specified.\n"
          ]
        }
      ],
      "source": [
        "model = smf.ols('ln_Sales ~ ln_TV + Radio + Newspaper', data = ADV)\n",
        "res = model.fit()\n",
        "print(res.summary())"
      ]
    },
    {
      "cell_type": "markdown",
      "metadata": {
        "id": "3koe_OwaH5BP"
      },
      "source": [
        "Уравнение значимо в целом, значение F-статистики попадает глубоко в хвост.\n",
        "Коэффициент перед Newspaper отрицательный и незначимый.\n",
        "Если модель специфицирована верно и выполнены все предпосылки, мы можем сделать вывод, что траты на рекламу в газетах никак не повышают продажи и от них можно отказаться."
      ]
    },
    {
      "cell_type": "markdown",
      "metadata": {
        "id": "LDZYIwuMH5BP"
      },
      "source": [
        "# Полиноминальная регрессия и Переобучение"
      ]
    },
    {
      "cell_type": "markdown",
      "metadata": {
        "id": "3x_ywRr3H5BQ"
      },
      "source": [
        "![](https://upload.wikimedia.org/wikipedia/commons/6/68/Overfitted_Data.png)"
      ]
    },
    {
      "cell_type": "code",
      "execution_count": null,
      "metadata": {
        "id": "tQl5OCCbH5BQ"
      },
      "outputs": [],
      "source": [
        "# Формируем numpy списки\n",
        "X = ADV[['TV', 'Radio', 'Newspaper']].values\n",
        "y = ADV['Sales'].values"
      ]
    },
    {
      "cell_type": "code",
      "execution_count": null,
      "metadata": {
        "id": "_VQXqGj2H5BR"
      },
      "outputs": [],
      "source": [
        "from sklearn.model_selection import train_test_split"
      ]
    },
    {
      "cell_type": "code",
      "execution_count": null,
      "metadata": {
        "id": "7xSwT5TwH5BS"
      },
      "outputs": [],
      "source": [
        "X_train, X_test, y_train, y_test = train_test_split(X, y, test_size = 0.2, random_state = 42)"
      ]
    },
    {
      "cell_type": "code",
      "execution_count": null,
      "metadata": {
        "id": "JrXkhgGYH5BT",
        "outputId": "d86dd7e1-65d9-4fcf-d487-32fad7600d6d"
      },
      "outputs": [
        {
          "data": {
            "text/plain": [
              "((158, 3), (40, 3))"
            ]
          },
          "execution_count": 105,
          "metadata": {},
          "output_type": "execute_result"
        }
      ],
      "source": [
        "X_train.shape, X_test.shape"
      ]
    },
    {
      "cell_type": "code",
      "execution_count": null,
      "metadata": {
        "id": "ATqUIhXKH5BU"
      },
      "outputs": [],
      "source": [
        "from sklearn.linear_model import LinearRegression\n",
        "model = LinearRegression()"
      ]
    },
    {
      "cell_type": "code",
      "execution_count": null,
      "metadata": {
        "id": "VglvOpYkH5BV",
        "outputId": "4c1db9a4-5558-45af-b839-2a4c9d3bdb62"
      },
      "outputs": [
        {
          "data": {
            "text/plain": [
              "array([ 0.04439146,  0.19696691, -0.00350995])"
            ]
          },
          "execution_count": 107,
          "metadata": {},
          "output_type": "execute_result"
        }
      ],
      "source": [
        "model.fit(X_train, y_train)\n",
        "model.coef_"
      ]
    },
    {
      "cell_type": "code",
      "execution_count": null,
      "metadata": {
        "id": "H2zPBdGhH5BW",
        "outputId": "c014ed9c-016e-4ab7-bca3-f28efb998fc0"
      },
      "outputs": [
        {
          "data": {
            "text/plain": [
              "array([ 7.95753313, 15.63425932, 12.88448471, 19.26048068, 10.69469822,\n",
              "       10.89655161, 18.37179161, 21.490682  , 10.11136767, 17.75176729,\n",
              "       14.18076181, 20.94962589, 21.41491912,  8.77940481, 13.10855521,\n",
              "       15.16002605, 19.35532248, 12.37300619, 12.64876248, 15.03590695,\n",
              "       16.39030132, 17.54630163,  5.75965308,  6.19717605,  9.82299416,\n",
              "       18.98240266,  7.00028196, 13.84773072,  6.56302295, 12.03410753,\n",
              "       21.24133463,  4.52914526,  9.17012629, 10.29292094,  8.24902801,\n",
              "       18.73035918, 12.50631741, 11.89494892, 14.24522043,  9.92084341])"
            ]
          },
          "execution_count": 108,
          "metadata": {},
          "output_type": "execute_result"
        }
      ],
      "source": [
        "y_pred = model.predict(X_test)\n",
        "y_pred"
      ]
    },
    {
      "cell_type": "code",
      "execution_count": null,
      "metadata": {
        "id": "CqrXOwJwH5BW"
      },
      "outputs": [],
      "source": [
        "from sklearn.metrics import r2_score, mean_absolute_error"
      ]
    },
    {
      "cell_type": "code",
      "execution_count": null,
      "metadata": {
        "id": "A660rkakH5BX",
        "outputId": "1db9ca32-c626-4bde-e009-cf02d1fc1530"
      },
      "outputs": [
        {
          "data": {
            "text/plain": [
              "0.8917729658546795"
            ]
          },
          "execution_count": 110,
          "metadata": {},
          "output_type": "execute_result"
        }
      ],
      "source": [
        "r2_score(y_test, y_pred)"
      ]
    },
    {
      "cell_type": "code",
      "execution_count": null,
      "metadata": {
        "id": "tQYGRCFqH5BX",
        "outputId": "0000ee6a-2a4d-494f-9c59-a3935d77afcf"
      },
      "outputs": [
        {
          "data": {
            "text/plain": [
              "1.249311326707962"
            ]
          },
          "execution_count": 111,
          "metadata": {},
          "output_type": "execute_result"
        }
      ],
      "source": [
        "mean_absolute_error(y_test, y_pred)"
      ]
    },
    {
      "cell_type": "code",
      "execution_count": null,
      "metadata": {
        "id": "EB7MI0ykH5BY",
        "outputId": "c1cca357-0f1c-4b76-8db9-4f66021ed14f"
      },
      "outputs": [
        {
          "name": "stdout",
          "output_type": "stream",
          "text": [
            "0.9115589530832945\n",
            "1.1753639166436731\n"
          ]
        }
      ],
      "source": [
        "y_pred = model.predict(X_train)\n",
        "print(r2_score(y_train, y_pred))\n",
        "print(mean_absolute_error(y_train, y_pred))"
      ]
    },
    {
      "cell_type": "code",
      "execution_count": null,
      "metadata": {
        "id": "ZX-238ucH5Be"
      },
      "outputs": [],
      "source": [
        "from sklearn.preprocessing import PolynomialFeatures"
      ]
    },
    {
      "cell_type": "code",
      "execution_count": null,
      "metadata": {
        "id": "0fDBhDQTH5Bf"
      },
      "outputs": [],
      "source": [
        "X_train, X_test, y_train, y_test = train_test_split(X, y, test_size = 0.2, random_state = 42)\n",
        "\n",
        "poly = PolynomialFeatures(degree = 10) # попробовать degree = 1, 3, 5, 10\n",
        "X_train = poly.fit_transform(X_train)\n",
        "X_test = poly.transform(X_test)"
      ]
    },
    {
      "cell_type": "code",
      "execution_count": null,
      "metadata": {
        "id": "Js2em4RyH5Bf",
        "outputId": "99b65192-86d8-4b3e-eabc-a91f5657607d"
      },
      "outputs": [
        {
          "data": {
            "text/plain": [
              "(158, 286)"
            ]
          },
          "execution_count": 140,
          "metadata": {},
          "output_type": "execute_result"
        }
      ],
      "source": [
        "#X_train[:10],\n",
        "X_train.shape"
      ]
    },
    {
      "cell_type": "code",
      "execution_count": null,
      "metadata": {
        "id": "-7kg06fcH5Bg",
        "outputId": "a6c4eaf7-05ad-470c-beb6-1da01c35216f"
      },
      "outputs": [
        {
          "data": {
            "text/plain": [
              "array([ 5.30090925e-12,  1.51363263e-15,  6.66380226e-13,  9.42318550e-14,\n",
              "       -4.79167851e-13, -7.60218210e-14, -1.62905550e-13,  1.01357838e-14,\n",
              "       -1.90964115e-15, -5.29846188e-14])"
            ]
          },
          "execution_count": 145,
          "metadata": {},
          "output_type": "execute_result"
        }
      ],
      "source": [
        "model.fit(X_train, y_train)\n",
        "model.coef_[:10]"
      ]
    },
    {
      "cell_type": "code",
      "execution_count": null,
      "metadata": {
        "id": "DMJ9PocSH5Bg",
        "outputId": "8421b889-1cb6-4785-eeb6-605525739e8d"
      },
      "outputs": [
        {
          "name": "stdout",
          "output_type": "stream",
          "text": [
            "Качество модели на тренировочном наборе:\n",
            "R^2: 0.9881531275035246\n",
            "MAE: 0.35809844522734446\n"
          ]
        }
      ],
      "source": [
        "y_pred = model.predict(X_train)\n",
        "\n",
        "print(\"Качество модели на тренировочном наборе:\")\n",
        "print( 'R^2: {0}'.format( r2_score(y_train, y_pred) ) )\n",
        "print( 'MAE: {0}'.format( mean_absolute_error(y_train, y_pred) ) )"
      ]
    },
    {
      "cell_type": "code",
      "execution_count": null,
      "metadata": {
        "id": "Bu9Uj6X6H5Bh",
        "outputId": "9a2de892-9eb5-4f53-db82-c1bf11e680d8"
      },
      "outputs": [
        {
          "name": "stdout",
          "output_type": "stream",
          "text": [
            "Качество модели на тестовом наборе:\n",
            "R^2: -1458262411.697007\n",
            "MAE: 33859.60523855206\n"
          ]
        }
      ],
      "source": [
        "y_pred = model.predict(X_test)\n",
        "\n",
        "print(\"Качество модели на тестовом наборе:\")\n",
        "print( 'R^2: {0}'.format( r2_score(y_test, y_pred) ) )\n",
        "print( 'MAE: {0}'.format( mean_absolute_error(y_test, y_pred) ) )"
      ]
    },
    {
      "cell_type": "markdown",
      "metadata": {
        "id": "yZErbjUCH5Bi"
      },
      "source": [
        "# Кросс-валидация"
      ]
    },
    {
      "cell_type": "markdown",
      "metadata": {
        "id": "JSUf1gK0H5Bj"
      },
      "source": [
        "![](https://wiki.loginom.ru/images/cross-validation.svg)"
      ]
    },
    {
      "cell_type": "code",
      "execution_count": null,
      "metadata": {
        "id": "wWbFhnOlH5Bl"
      },
      "outputs": [],
      "source": [
        "from sklearn.model_selection import cross_val_score"
      ]
    },
    {
      "cell_type": "code",
      "execution_count": null,
      "metadata": {
        "id": "g2SZq0Z2H5Bm",
        "outputId": "ed9f87aa-eb64-4442-983f-d0b8e06f484a"
      },
      "outputs": [
        {
          "data": {
            "text/plain": [
              "array([0.82721394, 0.91394096, 0.91642977, 0.93555457, 0.85009041])"
            ]
          },
          "execution_count": 148,
          "metadata": {},
          "output_type": "execute_result"
        }
      ],
      "source": [
        "X_train, X_test, y_train, y_test = train_test_split(X, y, test_size = 0.2, random_state = 42)\n",
        "\n",
        "model = LinearRegression()\n",
        "\n",
        "cv_results = cross_val_score(model, X_train, y_train, cv = 5, scoring = 'r2')\n",
        "cv_results"
      ]
    },
    {
      "cell_type": "code",
      "execution_count": null,
      "metadata": {
        "id": "EJTL6dSSH5Bn",
        "outputId": "da402b2c-eb64-4da7-83b0-78057f91c506"
      },
      "outputs": [
        {
          "data": {
            "text/plain": [
              "0.8886459317942798"
            ]
          },
          "execution_count": 149,
          "metadata": {},
          "output_type": "execute_result"
        }
      ],
      "source": [
        "cv_results.mean()"
      ]
    },
    {
      "cell_type": "code",
      "execution_count": null,
      "metadata": {
        "id": "o67sK0jiH5Bo",
        "outputId": "5fe6f79c-ba37-408a-8cf7-d644f242408e"
      },
      "outputs": [
        {
          "name": "stdout",
          "output_type": "stream",
          "text": [
            "Качество модели на тестовом наборе:\n",
            "R^2: 0.8917729658546795\n"
          ]
        }
      ],
      "source": [
        "model.fit(X_train, y_train)\n",
        "y_pred = model.predict(X_test)\n",
        "\n",
        "print(\"Качество модели на тестовом наборе:\")\n",
        "print( 'R^2: {0}'.format( r2_score(y_test, y_pred) ) )"
      ]
    },
    {
      "cell_type": "markdown",
      "metadata": {
        "id": "q2wUvcenH5Bo"
      },
      "source": [
        "---\n",
        "---\n",
        "# Домашнее задание\n",
        "\n",
        "Используя датасет ```pimdb.csv```, построить модель для предстказания рейтинга фильма __ImdbRating__."
      ]
    },
    {
      "cell_type": "code",
      "execution_count": null,
      "metadata": {
        "id": "TjLyiytEH5Bp"
      },
      "outputs": [],
      "source": []
    }
  ],
  "metadata": {
    "kernelspec": {
      "display_name": "Python 3 (ipykernel)",
      "language": "python",
      "name": "python3"
    },
    "language_info": {
      "codemirror_mode": {
        "name": "ipython",
        "version": 3
      },
      "file_extension": ".py",
      "mimetype": "text/x-python",
      "name": "python",
      "nbconvert_exporter": "python",
      "pygments_lexer": "ipython3",
      "version": "3.9.6"
    },
    "colab": {
      "provenance": [],
      "include_colab_link": true
    }
  },
  "nbformat": 4,
  "nbformat_minor": 0
}