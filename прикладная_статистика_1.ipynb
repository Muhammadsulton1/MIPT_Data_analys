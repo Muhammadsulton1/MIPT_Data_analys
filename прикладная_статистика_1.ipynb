{
  "nbformat": 4,
  "nbformat_minor": 0,
  "metadata": {
    "colab": {
      "provenance": [],
      "authorship_tag": "ABX9TyNesvBZsAS2K0v7C0U3XJl9",
      "include_colab_link": true
    },
    "kernelspec": {
      "name": "python3",
      "display_name": "Python 3"
    },
    "language_info": {
      "name": "python"
    }
  },
  "cells": [
    {
      "cell_type": "markdown",
      "metadata": {
        "id": "view-in-github",
        "colab_type": "text"
      },
      "source": [
        "<a href=\"https://colab.research.google.com/github/Muhammadsulton1/MIPT_Data_analys/blob/main/%D0%BF%D1%80%D0%B8%D0%BA%D0%BB%D0%B0%D0%B4%D0%BD%D0%B0%D1%8F_%D1%81%D1%82%D0%B0%D1%82%D0%B8%D1%81%D1%82%D0%B8%D0%BA%D0%B0_1.ipynb\" target=\"_parent\"><img src=\"https://colab.research.google.com/assets/colab-badge.svg\" alt=\"Open In Colab\"/></a>"
      ]
    },
    {
      "cell_type": "code",
      "metadata": {
        "id": "Xu8Wqr_Nj-wz"
      },
      "source": [
        "import numpy as np\n",
        "import pandas as pd\n",
        "from scipy import stats\n",
        "import matplotlib.pyplot as plt\n",
        "import seaborn as sns\n",
        "plt.style.use('ggplot')\n",
        "%matplotlib inline\n"
      ],
      "execution_count": null,
      "outputs": []
    },
    {
      "cell_type": "code",
      "metadata": {
        "id": "HQdzIkb5kSit"
      },
      "source": [
        "#loc - это мю для норм распределения\n",
        "#scale - это среднеквадрат отклонение"
      ],
      "execution_count": null,
      "outputs": []
    },
    {
      "cell_type": "code",
      "metadata": {
        "id": "YwZIdB1fkt9Z"
      },
      "source": [
        "norm_rv = stats.norm(loc=0,scale=1) #задали генератор"
      ],
      "execution_count": null,
      "outputs": []
    },
    {
      "cell_type": "markdown",
      "metadata": {
        "id": "e-VaEB7vk8dX"
      },
      "source": [
        "rvs - сгенерирует выборку из распределения объема size\n",
        "cdf - вычислит для нас значение функции распределения в указанной точки\n",
        "pdf - вычислит значение плотности распределения в указанной точки\n",
        "ppf - вычислит квантиль указанного уровня"
      ]
    },
    {
      "cell_type": "code",
      "metadata": {
        "colab": {
          "base_uri": "https://localhost:8080/"
        },
        "id": "0lbvkU6yk3Vo",
        "outputId": "97f74c3f-1cd4-442e-ffd7-3180d495e9c0"
      },
      "source": [
        "sample = norm_rv.rvs(1000)\n",
        "sample[:10]"
      ],
      "execution_count": null,
      "outputs": [
        {
          "output_type": "execute_result",
          "data": {
            "text/plain": [
              "array([ 1.26288273,  1.79867026,  1.33105884,  0.71223507, -1.50815011,\n",
              "        0.55073603, -0.33912001,  0.45505683,  1.41536528,  0.49991624])"
            ]
          },
          "metadata": {},
          "execution_count": 20
        }
      ]
    },
    {
      "cell_type": "markdown",
      "metadata": {
        "id": "prLbdfDlli-_"
      },
      "source": [
        "Плотность функции распределения в точке 1"
      ]
    },
    {
      "cell_type": "code",
      "metadata": {
        "colab": {
          "base_uri": "https://localhost:8080/"
        },
        "id": "dd9l6lZElg1J",
        "outputId": "5b8a62cf-ea2c-429c-cf01-80728880b5ee"
      },
      "source": [
        "norm_rv.pdf(1)"
      ],
      "execution_count": null,
      "outputs": [
        {
          "output_type": "execute_result",
          "data": {
            "text/plain": [
              "0.24197072451914337"
            ]
          },
          "metadata": {},
          "execution_count": 21
        }
      ]
    },
    {
      "cell_type": "code",
      "metadata": {
        "colab": {
          "base_uri": "https://localhost:8080/",
          "height": 282
        },
        "id": "ciVKk71KlzOb",
        "outputId": "87a1bd28-a43f-465f-d05b-2757d2c47346"
      },
      "source": [
        "x = np.linspace(-3,3,100) #функция linspace задает решотку(диапазон от -3 до 3х, который включает в себя 100 точек)\n",
        "pdf = norm_rv.pdf(x)\n",
        "\n",
        "plt.plot(x,pdf)\n",
        "plt.ylabel('$f(x)$')\n",
        "plt.xlabel('$x$')\n",
        "\n",
        "#на ней же нарисуем f(1)\n",
        "plt.scatter([1,2],[norm_rv.pdf(1),norm_rv.pdf(2)],color=\"blue\");"
      ],
      "execution_count": null,
      "outputs": [
        {
          "output_type": "display_data",
          "data": {
            "image/png": "[encoded data removed]",
            "text/plain": [
              "<Figure size 432x288 with 1 Axes>"
            ]
          },
          "metadata": {
            "needs_background": "light"
          }
        }
      ]
    },
    {
      "cell_type": "markdown",
      "metadata": {
        "id": "B3-fBm-cmzHS"
      },
      "source": [
        "#функция распределения в точке 1"
      ]
    },
    {
      "cell_type": "code",
      "metadata": {
        "colab": {
          "base_uri": "https://localhost:8080/"
        },
        "id": "ftkVDnnZmX4i",
        "outputId": "0184be80-b5f5-4aa7-a286-0cbdae9c20be"
      },
      "source": [
        "norm_rv.cdf(1)"
      ],
      "execution_count": null,
      "outputs": [
        {
          "output_type": "execute_result",
          "data": {
            "text/plain": [
              "0.8413447460685429"
            ]
          },
          "metadata": {},
          "execution_count": 23
        }
      ]
    },
    {
      "cell_type": "code",
      "metadata": {
        "colab": {
          "base_uri": "https://localhost:8080/",
          "height": 282
        },
        "id": "tVoBKZqXm57O",
        "outputId": "8adfc158-82f3-4960-dd9e-827878bdf989"
      },
      "source": [
        "x = np.linspace(-3,3,100)\n",
        "pdf = norm_rv.pdf(x)\n",
        "\n",
        "plt.plot(x,pdf)\n",
        "plt.ylabel('$f(x)$')\n",
        "plt.xlabel('$x$')\n",
        "#на ней же нарисуем f(1)\n",
        "plt.scatter([1],[norm_rv.pdf(1)],color=\"blue\")\n",
        "\n",
        "xq = np.linspace(-3,1,100)\n",
        "yq = norm_rv.pdf(xq)\n",
        "plt.fill_between(xq,0,yq,color=\"blue\",alpha=0.2)\n",
        "plt.axvline(1,color='blue',linestyle=\"--\",lw=2);"
      ],
      "execution_count": null,
      "outputs": [
        {
          "output_type": "display_data",
          "data": {
            "image/png": "[encoded data removed]",
            "text/plain": [
              "<Figure size 432x288 with 1 Axes>"
            ]
          },
          "metadata": {
            "needs_background": "light"
          }
        }
      ]
    },
    {
      "cell_type": "code",
      "metadata": {
        "colab": {
          "base_uri": "https://localhost:8080/",
          "height": 282
        },
        "id": "8NXP9uYXn2Y0",
        "outputId": "151eddde-6d29-4416-b02f-0e32212b71b0"
      },
      "source": [
        "x = np.linspace(-3,3,100) #функция linspace задает решотку(диапазон от -3 до 3х, который включает в себя 100 точек)\n",
        "cdf = norm_rv.cdf(x)\n",
        "\n",
        "plt.plot(x,cdf)\n",
        "plt.ylabel('$f(x)$')\n",
        "plt.xlabel('$x$')\n",
        "\n",
        "#на ней же нарисуем f(1)\n",
        "plt.scatter([1],[norm_rv.cdf(1)],color=\"blue\");"
      ],
      "execution_count": null,
      "outputs": [
        {
          "output_type": "display_data",
          "data": {
            "image/png": "[encoded data removed]",
            "text/plain": [
              "<Figure size 432x288 with 1 Axes>"
            ]
          },
          "metadata": {
            "needs_background": "light"
          }
        }
      ]
    },
    {
      "cell_type": "code",
      "metadata": {
        "colab": {
          "base_uri": "https://localhost:8080/",
          "height": 299
        },
        "id": "9IL6tSS7oWLi",
        "outputId": "9641634d-9ab5-4af0-fae5-0cf461e4a5ca"
      },
      "source": [
        "q = norm_rv.ppf(0.05)\n",
        "x = np.linspace(-3,3,100)\n",
        "pdf = norm_rv.pdf(x)\n",
        "\n",
        "plt.plot(x,pdf)\n",
        "plt.ylabel('$f(x)$')\n",
        "plt.xlabel('$x$')\n",
        "#на ней же нарисуем f(1)\n",
        "plt.scatter([1],[norm_rv.pdf(1)],color=\"blue\")\n",
        "\n",
        "xq = np.linspace(-3,q)\n",
        "yq = norm_rv.pdf(xq)\n",
        "plt.fill_between(xq,0,yq,color=\"blue\",alpha=0.2)\n",
        "plt.axvline(q,color='blue',linestyle=\"--\",lw=2)\n",
        "\n",
        "y_max = plt.ylim()[1]\n",
        "plt.text(q+0.1,0.8*y_max,round(q,2),color='blue',fontsize=16)"
      ],
      "execution_count": null,
      "outputs": [
        {
          "output_type": "execute_result",
          "data": {
            "text/plain": [
              "Text(-1.5448536269514728, 0.3349576888171431, '-1.64')"
            ]
          },
          "metadata": {},
          "execution_count": 26
        },
        {
          "output_type": "display_data",
          "data": {
            "image/png": "[encoded data removed]",
            "text/plain": [
              "<Figure size 432x288 with 1 Axes>"
            ]
          },
          "metadata": {
            "needs_background": "light"
          }
        }
      ]
    },
    {
      "cell_type": "markdown",
      "metadata": {
        "id": "3aNuz_X-Xqut"
      },
      "source": [
        "#Доверительный интервал"
      ]
    },
    {
      "cell_type": "code",
      "metadata": {
        "colab": {
          "base_uri": "https://localhost:8080/"
        },
        "id": "_ZsdKV5hXvOX",
        "outputId": "06513434-b128-48ff-e70a-04bcab4b71ff"
      },
      "source": [
        "norm_rv = stats.norm(loc=0,scale=1)\n",
        "norm_rv.ppf(0.025) #нашли квантиль"
      ],
      "execution_count": null,
      "outputs": [
        {
          "output_type": "execute_result",
          "data": {
            "text/plain": [
              "-1.9599639845400545"
            ]
          },
          "metadata": {},
          "execution_count": 27
        }
      ]
    },
    {
      "cell_type": "markdown",
      "metadata": {
        "id": "vU0szBubYM9Q"
      },
      "source": [
        "#число -1.96 это квантиль уровня 2.5%  Давайте нарисуем его на графике плотности."
      ]
    },
    {
      "cell_type": "code",
      "metadata": {
        "colab": {
          "base_uri": "https://localhost:8080/",
          "height": 359
        },
        "id": "8Uq-xgdwXvRB",
        "outputId": "e6acf652-5f24-47a8-b151-b332a302c841"
      },
      "source": [
        "def norm_conf_int(alpha, mean_hat=0, std_hat=1, margin=5):\n",
        "    \"\"\"\n",
        "        Строит 95% асимптотически-нормальный доверительный интервал\n",
        "    \"\"\"\n",
        "\n",
        "    plt.figure(figsize=(10,5))\n",
        "    xs = np.linspace(mean_hat - margin, mean_hat + margin)\n",
        "    pdf = stats.norm(mean_hat, std_hat).pdf(xs)\n",
        "\n",
        "    plt.plot(xs, pdf)\n",
        "    plt.ylabel('$f(x)$', fontsize=18)\n",
        "    plt.xlabel('$x$', fontsize=18)\n",
        "\n",
        "    left, right = stats.norm.interval(1 - alpha, loc=mean_hat, scale=std_hat)\n",
        "\n",
        "    for i in [left, right]:\n",
        "        y_max = plt.ylim()[1]\n",
        "        plt.axvline(i, color=\"blue\", linestyle='dashed', lw=2)\n",
        "\n",
        "        if i == left:\n",
        "            xq = np.linspace(mean_hat - margin, left)\n",
        "        else:\n",
        "            xq = np.linspace(right, mean_hat + margin)\n",
        "\n",
        "        text_margin = 0.05\n",
        "        plt.text(i + text_margin, 0.8*y_max, round(i, 2), color=\"blue\", fontsize=14)\n",
        "        yq = stats.norm(mean_hat, std_hat).pdf(xq)\n",
        "        plt.fill_between(xq, 0, yq, color='blue', alpha=0.3)\n",
        "\n",
        "    return left, right\n",
        "\n",
        "alpha = 0.05\n",
        "norm_conf_int(0.05)"
      ],
      "execution_count": null,
      "outputs": [
        {
          "output_type": "execute_result",
          "data": {
            "text/plain": [
              "(-1.959963984540054, 1.959963984540054)"
            ]
          },
          "metadata": {},
          "execution_count": 28
        },
        {
          "output_type": "display_data",
          "data": {
            "image/png": "[encoded data removed]",
            "text/plain": [
              "<Figure size 720x360 with 1 Axes>"
            ]
          },
          "metadata": {
            "needs_background": "light"
          }
        }
      ]
    },
    {
      "cell_type": "markdown",
      "metadata": {
        "id": "3S_KT6B6ataL"
      },
      "source": [
        "2. Мощь средних и асимптотические доверительные интервалы¶\n",
        "Ещё раз, ещё раз. Среднее хорошо тем, что есть ЦПТ, которая говорит нам, как оно распределено\n",
        "\n",
        "𝑥¯∼𝑎𝑠𝑦𝑁(𝜇,𝜎2𝑛),\n",
        "\n",
        "На основе этого мы можем построить для среднего доверительный интервал."
      ]
    },
    {
      "cell_type": "markdown",
      "metadata": {
        "id": "O8pGnqgGa1LM"
      },
      "source": [
        "2.1 Ульяна смотрит игру престолов\n",
        "Ульяна любит сериалы! Конечно же, Игра Престолов не обошла её стороной. Она смотрит её каждый день. Пусть  𝑋  - число серий, которое Ульяна просмотрела за день. Так как число серий - счётчик, можно предположить, что  𝑋∼𝑃𝑜𝑖𝑠𝑠(𝜆) , где  𝜆  - интенсивность просмотра. Не забыли же ещё, что случайные величины счётчики можно (но не обязательно) моделировать с помощью распределения Пуассона?\n",
        "\n",
        "Ульяне стало интересно с какой интенсивностью она смотрит сериалы, и теперь она хочет построить для  𝜆  оценку методом моментов, а после доверительный интервал для неё."
      ]
    },
    {
      "cell_type": "code",
      "metadata": {
        "id": "jMupxPtIXvT1"
      },
      "source": [
        "# Ульяна рассказала о том, сколько серий посмотрела на этой неделе\n",
        "x = [5, 7, 8, 2, 3, 1, 2]"
      ],
      "execution_count": null,
      "outputs": []
    },
    {
      "cell_type": "markdown",
      "metadata": {
        "id": "3MvVdi1ta_M4"
      },
      "source": [
        "𝜆̂ =𝑥¯"
      ]
    },
    {
      "cell_type": "code",
      "metadata": {
        "colab": {
          "base_uri": "https://localhost:8080/"
        },
        "id": "fEDfaDv5XvWn",
        "outputId": "84979d52-1687-49d7-fd2f-8970a2915d01"
      },
      "source": [
        "lam_hat = np.mean(x)\n",
        "lam_hat"
      ],
      "execution_count": null,
      "outputs": [
        {
          "output_type": "execute_result",
          "data": {
            "text/plain": [
              "4.0"
            ]
          },
          "metadata": {},
          "execution_count": 30
        }
      ]
    },
    {
      "cell_type": "markdown",
      "metadata": {
        "id": "95mXEVXvbGiK"
      },
      "source": [
        "𝜆̂ ∼𝑎𝑠𝑦𝑁(𝜆,𝜆̂ 𝑛).\n",
        "\n",
        "𝜆̂ ±𝑧1−𝛼2⋅𝜆̂ 𝑛⎯⎯⎯⎯√"
      ]
    },
    {
      "cell_type": "code",
      "metadata": {
        "colab": {
          "base_uri": "https://localhost:8080/"
        },
        "id": "1uPgCYbGXvZV",
        "outputId": "f4614e94-aa81-45c6-f434-a570206c71d7"
      },
      "source": [
        "norm_rv = stats.norm(loc=0, scale=1)\n",
        "\n",
        "alpha = 0.05                       # задаём уровень значимости\n",
        "z_alpha = norm_rv.ppf(1 - alpha/2) # из нормального распределения автоматически посчитался квантиль\n",
        "\n",
        "lam_hat = np.mean(x)               # нашли оценку параметра\n",
        "lam_se = np.sqrt(lam_hat/len(x))   # оценили стандартное отклонение\n",
        "\n",
        "# по формулам посчитали границы\n",
        "lam_left = lam_hat - z_alpha*lam_se\n",
        "lam_right = lam_hat + z_alpha*lam_se\n",
        "\n",
        "# Помимо самого интервала нас интересует его ширина\n",
        "print(f\"Доверительный интервал [{lam_left:.3}, {lam_right:.3}] ширины { lam_right - lam_left:.3}\")"
      ],
      "execution_count": null,
      "outputs": [
        {
          "output_type": "stream",
          "name": "stdout",
          "text": [
            "Доверительный интервал [2.52, 5.48] ширины 2.96\n"
          ]
        }
      ]
    },
    {
      "cell_type": "markdown",
      "metadata": {
        "id": "7z-6P8J1bNxz"
      },
      "source": [
        "По аналогии можно построить асимптотический доверительный интервал с помощью уже готовой функции. Единственное, что от нас потребуется: вычислить среднее и дисперсию."
      ]
    },
    {
      "cell_type": "code",
      "metadata": {
        "colab": {
          "base_uri": "https://localhost:8080/"
        },
        "id": "puJZhLnhbDLX",
        "outputId": "96c59860-91b8-40cf-a6d3-eb2d8ee3552e"
      },
      "source": [
        "lam_hat = np.mean(x)             # нашли оценку параметра\n",
        "lam_se = np.sqrt(lam_hat/len(x)) # оценили стандартное отклонение\n",
        "\n",
        "stats.norm.interval(0.95, loc=lam_hat, scale=lam_se)"
      ],
      "execution_count": null,
      "outputs": [
        {
          "output_type": "execute_result",
          "data": {
            "text/plain": [
              "(2.518406490932507, 5.481593509067493)"
            ]
          },
          "metadata": {},
          "execution_count": 32
        }
      ]
    },
    {
      "cell_type": "markdown",
      "metadata": {
        "id": "cHPC-2_mbTNS"
      },
      "source": [
        "Можно построить этот же доверительный интервал на картинке с помощью функции, которую мы написали в самом начале тетрадки."
      ]
    },
    {
      "cell_type": "code",
      "metadata": {
        "colab": {
          "base_uri": "https://localhost:8080/",
          "height": 359
        },
        "id": "CCkVuK7IbDN-",
        "outputId": "79d7ce68-797a-4eb5-b38a-bb5a6d8562a5"
      },
      "source": [
        "alpha = 0.05\n",
        "norm_conf_int(alpha, mean_hat=lam_hat, std_hat=lam_se)"
      ],
      "execution_count": null,
      "outputs": [
        {
          "output_type": "execute_result",
          "data": {
            "text/plain": [
              "(2.518406490932507, 5.481593509067493)"
            ]
          },
          "metadata": {},
          "execution_count": 33
        },
        {
          "output_type": "display_data",
          "data": {
            "image/png": "[encoded data removed]",
            "text/plain": [
              "<Figure size 720x360 with 1 Axes>"
            ]
          },
          "metadata": {
            "needs_background": "light"
          }
        }
      ]
    },
    {
      "cell_type": "markdown",
      "metadata": {
        "id": "kGIiJpz4besB"
      },
      "source": [
        "## 2.2  Подруга Ульяны\n",
        "\n",
        "Теперь Таня и Ульяна смотрят сериалы вдвоём. Каждая со своей интенсивностью $\\lambda_i$.\n",
        "\n",
        "Ульяна считает, что она опережает Таню по интенсивности просмотра. Нужно построить доверительный интервал для разности $\\lambda_1 - \\lambda_2$ и понять, правда ли, что Ульяна впереди. Для простоты будем считать, что Ульяна и Таня смотрят сериалы независимо друг от друга."
      ]
    },
    {
      "cell_type": "code",
      "metadata": {
        "id": "NJRNr3FibDRC"
      },
      "source": [
        "x = [5, 7, 8, 2, 3, 1, 2]  # Ульяна\n",
        "y = [1, 1, 9, 1, 2, 2, 2]  # Таня"
      ],
      "execution_count": null,
      "outputs": []
    },
    {
      "cell_type": "markdown",
      "metadata": {
        "id": "Zkw-gDpZbk9x"
      },
      "source": [
        "$$\n",
        "\\hat \\lambda_1 - \\hat \\lambda_2 \\overset{asy}{\\sim} N \\left( \\lambda_1 - \\lambda_2, \\frac{\\hat \\lambda_1}{n_1} + \\frac{\\hat \\lambda_2}{n_2} \\right).\n",
        "$$\n",
        "\n",
        "$$\n",
        "\\hat{\\lambda}_1 - \\hat{\\lambda}_2 \\pm z_{1-\\frac{\\alpha}{2}}\\sqrt{\\frac{\\hat{\\lambda}_1}{n_1} + \\frac{\\hat{\\lambda}_2}{n_2}}\n",
        "$$"
      ]
    },
    {
      "cell_type": "code",
      "metadata": {
        "colab": {
          "base_uri": "https://localhost:8080/"
        },
        "id": "tIs2slbIbDTf",
        "outputId": "eea9feb7-9c00-4c27-f1e7-d6e1010a26f1"
      },
      "source": [
        "alpha = 0.05 # задаём уровень значимости\n",
        "\n",
        "z_alpha = norm_rv.ppf(1 - alpha/2) # квантиль для нормального\n",
        "\n",
        "diff = np.mean(x) - np.mean(y)\n",
        "diff_se = np.sqrt(np.mean(x)/len(x) + np.mean(y)/len(y))\n",
        "\n",
        "left = diff - z_alpha*diff_se\n",
        "right = diff + z_alpha*diff_se\n",
        "\n",
        "# Помимо самого интервала нас интересует его ширина\n",
        "print(f\"Доверительный интервал [{left:.3}, {right:.3}] ширины {right - left:.3}\")"
      ],
      "execution_count": null,
      "outputs": [
        {
          "output_type": "stream",
          "name": "stdout",
          "text": [
            "Доверительный интервал [-0.47, 3.33] ширины 3.8\n"
          ]
        }
      ]
    },
    {
      "cell_type": "markdown",
      "metadata": {
        "id": "d5k9HLuBbq0W"
      },
      "source": [
        "Доверительный интервал покрывает ноль. Это означает, что Ульяна и Таня смотрят сериал с одинаковой интенсивностью.\n",
        "\n",
        "Угадайте как часто мы сделаем ошибку, утверждая это? Правильно! В  5%  случаев.\n",
        "\n",
        "Фактически мы с вами только что проверили на уровне значимости  5%  гипотезу о равенстве средних. Зафиксируйте это в голове и вспомните, когда мы чётко и по шагам формализуем процедуру проверки гипотез"
      ]
    },
    {
      "cell_type": "code",
      "metadata": {
        "colab": {
          "base_uri": "https://localhost:8080/",
          "height": 359
        },
        "id": "QZ6enyUdbDWh",
        "outputId": "0b228f13-7923-40a8-e716-461bdaee8eb1"
      },
      "source": [
        "norm_conf_int(alpha, mean_hat=diff, std_hat=diff_se)"
      ],
      "execution_count": null,
      "outputs": [
        {
          "output_type": "execute_result",
          "data": {
            "text/plain": [
              "(-0.47044607117023984, 3.3275889283130966)"
            ]
          },
          "metadata": {},
          "execution_count": 36
        },
        {
          "output_type": "display_data",
          "data": {
            "image/png": "[encoded data removed]",
            "text/plain": [
              "<Figure size 720x360 with 1 Axes>"
            ]
          },
          "metadata": {
            "needs_background": "light"
          }
        }
      ]
    },
    {
      "cell_type": "code",
      "metadata": {
        "id": "mgIN3MC-bDYz"
      },
      "source": [],
      "execution_count": null,
      "outputs": []
    }
  ]
}