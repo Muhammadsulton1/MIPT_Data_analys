{
  "nbformat": 4,
  "nbformat_minor": 0,
  "metadata": {
    "colab": {
      "provenance": [],
      "authorship_tag": "ABX9TyMBk8PM/3Xj+pkM+UyVTLwl",
      "include_colab_link": true
    },
    "kernelspec": {
      "name": "python3",
      "display_name": "Python 3"
    },
    "language_info": {
      "name": "python"
    }
  },
  "cells": [
    {
      "cell_type": "markdown",
      "metadata": {
        "id": "view-in-github",
        "colab_type": "text"
      },
      "source": [
        "<a href=\"https://colab.research.google.com/github/Muhammadsulton1/MIPT_Data_analys/blob/main/%D0%BA%D0%BB%D0%B0%D1%81%D1%82%D0%B5%D1%80%D0%BD%D1%8B%D0%B9_%D0%B0%D0%BD%D0%B0%D0%BB%D0%B8%D0%B7.ipynb\" target=\"_parent\"><img src=\"https://colab.research.google.com/assets/colab-badge.svg\" alt=\"Open In Colab\"/></a>"
      ]
    },
    {
      "cell_type": "code",
      "metadata": {
        "id": "kjXeUHvprDhG"
      },
      "source": [
        "import pandas as pd\n",
        "import numpy as np\n",
        "import scipy.stats as sts\n",
        "import statsmodels as stm\n",
        "\n",
        "import matplotlib.pyplot as plt\n",
        "\n",
        "plt.style.use('ggplot')\n",
        "%matplotlib inline"
      ],
      "execution_count": null,
      "outputs": []
    },
    {
      "cell_type": "code",
      "metadata": {
        "colab": {
          "base_uri": "https://localhost:8080/",
          "height": 204
        },
        "id": "9fLstz_4rPE8",
        "outputId": "df52ed36-a364-4972-c10b-9800434272c8"
      },
      "source": [
        "data = pd.read_csv('/content/candies.dat', sep=';')\n",
        "data.head()"
      ],
      "execution_count": null,
      "outputs": [
        {
          "output_type": "execute_result",
          "data": {
            "text/html": [
              "<div>\n",
              "<style scoped>\n",
              "    .dataframe tbody tr th:only-of-type {\n",
              "        vertical-align: middle;\n",
              "    }\n",
              "\n",
              "    .dataframe tbody tr th {\n",
              "        vertical-align: top;\n",
              "    }\n",
              "\n",
              "    .dataframe thead th {\n",
              "        text-align: right;\n",
              "    }\n",
              "</style>\n",
              "<table border=\"1\" class=\"dataframe\">\n",
              "  <thead>\n",
              "    <tr style=\"text-align: right;\">\n",
              "      <th></th>\n",
              "      <th>V1</th>\n",
              "      <th>V2</th>\n",
              "      <th>V3</th>\n",
              "      <th>V4</th>\n",
              "      <th>V5</th>\n",
              "      <th>V6</th>\n",
              "      <th>V7</th>\n",
              "      <th>V8</th>\n",
              "      <th>V9</th>\n",
              "      <th>V10</th>\n",
              "      <th>V11</th>\n",
              "    </tr>\n",
              "  </thead>\n",
              "  <tbody>\n",
              "    <tr>\n",
              "      <th>0</th>\n",
              "      <td>4</td>\n",
              "      <td>5</td>\n",
              "      <td>5</td>\n",
              "      <td>5</td>\n",
              "      <td>3</td>\n",
              "      <td>3</td>\n",
              "      <td>3</td>\n",
              "      <td>3</td>\n",
              "      <td>3</td>\n",
              "      <td>3</td>\n",
              "      <td>3</td>\n",
              "    </tr>\n",
              "    <tr>\n",
              "      <th>1</th>\n",
              "      <td>5</td>\n",
              "      <td>4</td>\n",
              "      <td>5</td>\n",
              "      <td>5</td>\n",
              "      <td>3</td>\n",
              "      <td>3</td>\n",
              "      <td>3</td>\n",
              "      <td>3</td>\n",
              "      <td>3</td>\n",
              "      <td>3</td>\n",
              "      <td>3</td>\n",
              "    </tr>\n",
              "    <tr>\n",
              "      <th>2</th>\n",
              "      <td>5</td>\n",
              "      <td>5</td>\n",
              "      <td>4</td>\n",
              "      <td>5</td>\n",
              "      <td>3</td>\n",
              "      <td>3</td>\n",
              "      <td>3</td>\n",
              "      <td>3</td>\n",
              "      <td>3</td>\n",
              "      <td>3</td>\n",
              "      <td>3</td>\n",
              "    </tr>\n",
              "    <tr>\n",
              "      <th>3</th>\n",
              "      <td>5</td>\n",
              "      <td>4</td>\n",
              "      <td>5</td>\n",
              "      <td>5</td>\n",
              "      <td>3</td>\n",
              "      <td>3</td>\n",
              "      <td>3</td>\n",
              "      <td>3</td>\n",
              "      <td>3</td>\n",
              "      <td>3</td>\n",
              "      <td>3</td>\n",
              "    </tr>\n",
              "    <tr>\n",
              "      <th>4</th>\n",
              "      <td>4</td>\n",
              "      <td>5</td>\n",
              "      <td>5</td>\n",
              "      <td>5</td>\n",
              "      <td>3</td>\n",
              "      <td>3</td>\n",
              "      <td>3</td>\n",
              "      <td>3</td>\n",
              "      <td>3</td>\n",
              "      <td>3</td>\n",
              "      <td>3</td>\n",
              "    </tr>\n",
              "  </tbody>\n",
              "</table>\n",
              "</div>"
            ],
            "text/plain": [
              "   V1  V2  V3  V4  V5  V6  V7  V8  V9  V10  V11\n",
              "0   4   5   5   5   3   3   3   3   3    3    3\n",
              "1   5   4   5   5   3   3   3   3   3    3    3\n",
              "2   5   5   4   5   3   3   3   3   3    3    3\n",
              "3   5   4   5   5   3   3   3   3   3    3    3\n",
              "4   4   5   5   5   3   3   3   3   3    3    3"
            ]
          },
          "metadata": {},
          "execution_count": 2
        }
      ]
    },
    {
      "cell_type": "code",
      "metadata": {
        "id": "UqXueBdvyV2k"
      },
      "source": [
        "df = data.copy()"
      ],
      "execution_count": null,
      "outputs": []
    },
    {
      "cell_type": "code",
      "metadata": {
        "id": "KSjQC1wrueAL"
      },
      "source": [
        "from scipy.cluster.hierarchy import dendrogram, linkage, fcluster, set_link_color_palette\n",
        "\n",
        "link = linkage(data, 'ward', 'euclidean')"
      ],
      "execution_count": null,
      "outputs": []
    },
    {
      "cell_type": "code",
      "metadata": {
        "colab": {
          "base_uri": "https://localhost:8080/",
          "height": 386
        },
        "id": "tFBeupCKvuh_",
        "outputId": "b92f3a85-a49a-4538-cc4d-d43b755a4e03"
      },
      "source": [
        "plt.figure(figsize=(12,6))\n",
        "dn = dendrogram(link,truncate_mode='lastp')"
      ],
      "execution_count": null,
      "outputs": [
        {
          "output_type": "display_data",
          "data": {
            "image/png": "[encoded data removed]",
            "text/plain": [
              "<Figure size 864x432 with 1 Axes>"
            ]
          },
          "metadata": {
            "needs_background": "light"
          }
        }
      ]
    },
    {
      "cell_type": "code",
      "metadata": {
        "colab": {
          "base_uri": "https://localhost:8080/",
          "height": 390
        },
        "id": "I8-kLC4zyTZV",
        "outputId": "2b9f1657-4b7e-4dd9-fefe-1fe71be2107b"
      },
      "source": [
        "data['cluster'] = fcluster(link, 14, criterion='distance')\n",
        "data.groupby('cluster').mean().T"
      ],
      "execution_count": null,
      "outputs": [
        {
          "output_type": "execute_result",
          "data": {
            "text/html": [
              "<div>\n",
              "<style scoped>\n",
              "    .dataframe tbody tr th:only-of-type {\n",
              "        vertical-align: middle;\n",
              "    }\n",
              "\n",
              "    .dataframe tbody tr th {\n",
              "        vertical-align: top;\n",
              "    }\n",
              "\n",
              "    .dataframe thead th {\n",
              "        text-align: right;\n",
              "    }\n",
              "</style>\n",
              "<table border=\"1\" class=\"dataframe\">\n",
              "  <thead>\n",
              "    <tr style=\"text-align: right;\">\n",
              "      <th>cluster</th>\n",
              "      <th>1</th>\n",
              "      <th>2</th>\n",
              "      <th>3</th>\n",
              "      <th>4</th>\n",
              "    </tr>\n",
              "  </thead>\n",
              "  <tbody>\n",
              "    <tr>\n",
              "      <th>V1</th>\n",
              "      <td>2.824074</td>\n",
              "      <td>4.845455</td>\n",
              "      <td>3.000000</td>\n",
              "      <td>3.000000</td>\n",
              "    </tr>\n",
              "    <tr>\n",
              "      <th>V2</th>\n",
              "      <td>2.833333</td>\n",
              "      <td>4.800000</td>\n",
              "      <td>2.966102</td>\n",
              "      <td>3.000000</td>\n",
              "    </tr>\n",
              "    <tr>\n",
              "      <th>V3</th>\n",
              "      <td>2.768519</td>\n",
              "      <td>4.836364</td>\n",
              "      <td>2.966102</td>\n",
              "      <td>3.000000</td>\n",
              "    </tr>\n",
              "    <tr>\n",
              "      <th>V4</th>\n",
              "      <td>2.620370</td>\n",
              "      <td>4.681818</td>\n",
              "      <td>2.915254</td>\n",
              "      <td>3.000000</td>\n",
              "    </tr>\n",
              "    <tr>\n",
              "      <th>V5</th>\n",
              "      <td>2.611111</td>\n",
              "      <td>3.036364</td>\n",
              "      <td>2.915254</td>\n",
              "      <td>4.852459</td>\n",
              "    </tr>\n",
              "    <tr>\n",
              "      <th>V6</th>\n",
              "      <td>2.583333</td>\n",
              "      <td>3.036364</td>\n",
              "      <td>2.949153</td>\n",
              "      <td>4.852459</td>\n",
              "    </tr>\n",
              "    <tr>\n",
              "      <th>V7</th>\n",
              "      <td>2.750000</td>\n",
              "      <td>3.000000</td>\n",
              "      <td>4.915254</td>\n",
              "      <td>3.000000</td>\n",
              "    </tr>\n",
              "    <tr>\n",
              "      <th>V8</th>\n",
              "      <td>2.916667</td>\n",
              "      <td>2.990909</td>\n",
              "      <td>4.915254</td>\n",
              "      <td>2.918033</td>\n",
              "    </tr>\n",
              "    <tr>\n",
              "      <th>V9</th>\n",
              "      <td>4.953704</td>\n",
              "      <td>3.072727</td>\n",
              "      <td>3.000000</td>\n",
              "      <td>2.754098</td>\n",
              "    </tr>\n",
              "    <tr>\n",
              "      <th>V10</th>\n",
              "      <td>4.814815</td>\n",
              "      <td>3.045455</td>\n",
              "      <td>3.000000</td>\n",
              "      <td>2.754098</td>\n",
              "    </tr>\n",
              "    <tr>\n",
              "      <th>V11</th>\n",
              "      <td>4.861111</td>\n",
              "      <td>3.045455</td>\n",
              "      <td>3.000000</td>\n",
              "      <td>2.754098</td>\n",
              "    </tr>\n",
              "  </tbody>\n",
              "</table>\n",
              "</div>"
            ],
            "text/plain": [
              "cluster         1         2         3         4\n",
              "V1       2.824074  4.845455  3.000000  3.000000\n",
              "V2       2.833333  4.800000  2.966102  3.000000\n",
              "V3       2.768519  4.836364  2.966102  3.000000\n",
              "V4       2.620370  4.681818  2.915254  3.000000\n",
              "V5       2.611111  3.036364  2.915254  4.852459\n",
              "V6       2.583333  3.036364  2.949153  4.852459\n",
              "V7       2.750000  3.000000  4.915254  3.000000\n",
              "V8       2.916667  2.990909  4.915254  2.918033\n",
              "V9       4.953704  3.072727  3.000000  2.754098\n",
              "V10      4.814815  3.045455  3.000000  2.754098\n",
              "V11      4.861111  3.045455  3.000000  2.754098"
            ]
          },
          "metadata": {},
          "execution_count": 21
        }
      ]
    },
    {
      "cell_type": "markdown",
      "metadata": {
        "id": "ZJ4t1Q5z0ztP"
      },
      "source": [
        "Интерпрентация результатов иерахической кластеризации:\n",
        "\n",
        "1 кластер: люди используют леденцы в мед целях для облегчение симптомов заложенности носа и горла (леденцы типа стрепсилс)\n",
        "\n",
        "2 кластер: люди используют леденцы, чтобы освежить свое дыхание (леденцы типа холлс или тик так)\n",
        "\n",
        "3 кластер: люди используют леденцы, когда хотят улучшить свою умственную активность за счет сахара (леденцы - конфеты)\n",
        "\n",
        "4 кластер: люди которые отказываются от сахара и пытаются вменьшем количестве его употреблять и когда очень сильно хотят сладкого, то просто употребляют леденец (леденцы без сахара или с сахара заменителем)"
      ]
    },
    {
      "cell_type": "code",
      "metadata": {
        "id": "6tfZq4kTxTxv"
      },
      "source": [
        "from sklearn.cluster import KMeans"
      ],
      "execution_count": null,
      "outputs": []
    },
    {
      "cell_type": "code",
      "metadata": {
        "colab": {
          "base_uri": "https://localhost:8080/",
          "height": 299
        },
        "id": "GbzbcTtsv3m8",
        "outputId": "e67d6e46-7574-4bb8-9b64-c0004f32aeb6"
      },
      "source": [
        "K = range(1, 16)\n",
        "models = [KMeans(n_clusters = k).fit(df) for k in K]\n",
        "dist = [model.inertia_ for model in models]\n",
        "\n",
        "# Plot the elbow\n",
        "plt.plot(K, dist, marker='o')\n",
        "plt.xlabel('k')\n",
        "plt.ylabel('Sum of distances')\n",
        "plt.title('The Elbow Method showing the optimal k')\n",
        "plt.show()"
      ],
      "execution_count": null,
      "outputs": [
        {
          "output_type": "display_data",
          "data": {
            "image/png": "[encoded data removed]",
            "text/plain": [
              "<Figure size 432x288 with 1 Axes>"
            ]
          },
          "metadata": {
            "needs_background": "light"
          }
        }
      ]
    },
    {
      "cell_type": "code",
      "metadata": {
        "colab": {
          "base_uri": "https://localhost:8080/",
          "height": 390
        },
        "id": "hdHXFDmSv3pl",
        "outputId": "58386d3f-f051-4925-90db-d60583789c97"
      },
      "source": [
        "model = KMeans(n_clusters = 4)\n",
        "model.fit(df)\n",
        "df['cluster'] = model.labels_\n",
        "df.groupby('cluster').mean().T"
      ],
      "execution_count": null,
      "outputs": [
        {
          "output_type": "execute_result",
          "data": {
            "text/html": [
              "<div>\n",
              "<style scoped>\n",
              "    .dataframe tbody tr th:only-of-type {\n",
              "        vertical-align: middle;\n",
              "    }\n",
              "\n",
              "    .dataframe tbody tr th {\n",
              "        vertical-align: top;\n",
              "    }\n",
              "\n",
              "    .dataframe thead th {\n",
              "        text-align: right;\n",
              "    }\n",
              "</style>\n",
              "<table border=\"1\" class=\"dataframe\">\n",
              "  <thead>\n",
              "    <tr style=\"text-align: right;\">\n",
              "      <th>cluster</th>\n",
              "      <th>0</th>\n",
              "      <th>1</th>\n",
              "      <th>2</th>\n",
              "      <th>3</th>\n",
              "    </tr>\n",
              "  </thead>\n",
              "  <tbody>\n",
              "    <tr>\n",
              "      <th>V1</th>\n",
              "      <td>2.824074</td>\n",
              "      <td>4.845455</td>\n",
              "      <td>3.000000</td>\n",
              "      <td>3.000000</td>\n",
              "    </tr>\n",
              "    <tr>\n",
              "      <th>V2</th>\n",
              "      <td>2.833333</td>\n",
              "      <td>4.800000</td>\n",
              "      <td>3.000000</td>\n",
              "      <td>2.966102</td>\n",
              "    </tr>\n",
              "    <tr>\n",
              "      <th>V3</th>\n",
              "      <td>2.768519</td>\n",
              "      <td>4.836364</td>\n",
              "      <td>3.000000</td>\n",
              "      <td>2.966102</td>\n",
              "    </tr>\n",
              "    <tr>\n",
              "      <th>V4</th>\n",
              "      <td>2.620370</td>\n",
              "      <td>4.681818</td>\n",
              "      <td>3.000000</td>\n",
              "      <td>2.915254</td>\n",
              "    </tr>\n",
              "    <tr>\n",
              "      <th>V5</th>\n",
              "      <td>2.611111</td>\n",
              "      <td>3.036364</td>\n",
              "      <td>4.852459</td>\n",
              "      <td>2.915254</td>\n",
              "    </tr>\n",
              "    <tr>\n",
              "      <th>V6</th>\n",
              "      <td>2.583333</td>\n",
              "      <td>3.036364</td>\n",
              "      <td>4.852459</td>\n",
              "      <td>2.949153</td>\n",
              "    </tr>\n",
              "    <tr>\n",
              "      <th>V7</th>\n",
              "      <td>2.750000</td>\n",
              "      <td>3.000000</td>\n",
              "      <td>3.000000</td>\n",
              "      <td>4.915254</td>\n",
              "    </tr>\n",
              "    <tr>\n",
              "      <th>V8</th>\n",
              "      <td>2.916667</td>\n",
              "      <td>2.990909</td>\n",
              "      <td>2.918033</td>\n",
              "      <td>4.915254</td>\n",
              "    </tr>\n",
              "    <tr>\n",
              "      <th>V9</th>\n",
              "      <td>4.953704</td>\n",
              "      <td>3.072727</td>\n",
              "      <td>2.754098</td>\n",
              "      <td>3.000000</td>\n",
              "    </tr>\n",
              "    <tr>\n",
              "      <th>V10</th>\n",
              "      <td>4.814815</td>\n",
              "      <td>3.045455</td>\n",
              "      <td>2.754098</td>\n",
              "      <td>3.000000</td>\n",
              "    </tr>\n",
              "    <tr>\n",
              "      <th>V11</th>\n",
              "      <td>4.861111</td>\n",
              "      <td>3.045455</td>\n",
              "      <td>2.754098</td>\n",
              "      <td>3.000000</td>\n",
              "    </tr>\n",
              "  </tbody>\n",
              "</table>\n",
              "</div>"
            ],
            "text/plain": [
              "cluster         0         1         2         3\n",
              "V1       2.824074  4.845455  3.000000  3.000000\n",
              "V2       2.833333  4.800000  3.000000  2.966102\n",
              "V3       2.768519  4.836364  3.000000  2.966102\n",
              "V4       2.620370  4.681818  3.000000  2.915254\n",
              "V5       2.611111  3.036364  4.852459  2.915254\n",
              "V6       2.583333  3.036364  4.852459  2.949153\n",
              "V7       2.750000  3.000000  3.000000  4.915254\n",
              "V8       2.916667  2.990909  2.918033  4.915254\n",
              "V9       4.953704  3.072727  2.754098  3.000000\n",
              "V10      4.814815  3.045455  2.754098  3.000000\n",
              "V11      4.861111  3.045455  2.754098  3.000000"
            ]
          },
          "metadata": {},
          "execution_count": 20
        }
      ]
    },
    {
      "cell_type": "markdown",
      "metadata": {
        "id": "g6FpRLGt2eQH"
      },
      "source": [
        "интерпретация результатов кластеризации методов К-средних:\n",
        "\n",
        "0 кластер: люди используют леденцы в мед целях для облегчение симптомов заложенности носа и горла (леденцы типа стрепсилс)\n",
        "\n",
        "1 кластер: люди используют леденцы, чтобы освежить свое дыхание (леденцы типа холлс или тик так)\n",
        "\n",
        "2 кластер: люди которые отказываются от сахара и пытаются вменьшем количестве его употреблять и когда очень сильно хотят сладкого, то просто употребляют леденец (леденцы без сахара или с сахара заменителем)\n",
        "\n",
        "3 кластер:люди используют леденцы, когда хотят улучшить свою умственную активность за счет сахара (леденцы - конфеты)"
      ]
    },
    {
      "cell_type": "markdown",
      "metadata": {
        "id": "fkzzWdez3JkF"
      },
      "source": [
        "Результаты обоими методами класстеризации оказались одинаковые, каждый из методов разбил наши данные на 4 кластера."
      ]
    },
    {
      "cell_type": "code",
      "metadata": {
        "id": "OwkBWten0Tmq"
      },
      "source": [],
      "execution_count": null,
      "outputs": []
    }
  ]
}